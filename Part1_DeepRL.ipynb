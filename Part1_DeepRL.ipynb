{
 "cells": [
  {
   "cell_type": "markdown",
   "metadata": {},
   "source": [
    "$$\n",
    "\\newcommand{\\mat}[1]{\\boldsymbol {#1}}\n",
    "\\newcommand{\\mattr}[1]{\\boldsymbol {#1}^\\top}\n",
    "\\newcommand{\\matinv}[1]{\\boldsymbol {#1}^{-1}}\n",
    "\\newcommand{\\vec}[1]{\\boldsymbol {#1}}\n",
    "\\newcommand{\\vectr}[1]{\\boldsymbol {#1}^\\top}\n",
    "\\newcommand{\\rvar}[1]{\\mathrm {#1}}\n",
    "\\newcommand{\\rvec}[1]{\\boldsymbol{\\mathrm{#1}}}\n",
    "\\newcommand{\\diag}{\\mathop{\\mathrm {diag}}}\n",
    "\\newcommand{\\set}[1]{\\mathbb {#1}}\n",
    "\\newcommand{\\cset}[1]{\\mathcal{#1}}\n",
    "\\newcommand{\\norm}[1]{\\left\\lVert#1\\right\\rVert}\n",
    "\\newcommand{\\pderiv}[2]{\\frac{\\partial #1}{\\partial #2}}\n",
    "\\newcommand{\\bb}[1]{\\boldsymbol{#1}}\n",
    "\\newcommand{\\E}[2][]{\\mathbb{E}_{#1}\\left[#2\\right]}\n",
    "\\newcommand{\\ip}[3]{\\left<#1,#2\\right>_{#3}}\n",
    "\\newcommand{\\given}[]{\\,\\middle\\vert\\,}\n",
    "\\newcommand{\\DKL}[2]{\\cset{D}_{\\text{KL}}\\left(#1\\,\\Vert\\, #2\\right)}\n",
    "\\newcommand{\\grad}[]{\\nabla}\n",
    "$$\n",
    "# Part 1: Deep Reinforcement Learning\n",
    "<a id=part1></a>"
   ]
  },
  {
   "cell_type": "markdown",
   "metadata": {},
   "source": [
    "In the tutorial we have seen value-based reinforcement learning, in which we learn to approximate the action-value function $q(s,a)$.\n",
    "\n",
    "In this exercise we'll explore a different approach, directly learning the agent's policy distribution, $\\pi(a|s)$\n",
    "by using *policy gradients*, in order to safely land on the moon!"
   ]
  },
  {
   "cell_type": "code",
   "execution_count": 339,
   "metadata": {},
   "outputs": [
    {
     "name": "stdout",
     "output_type": "stream",
     "text": [
      "The autoreload extension is already loaded. To reload it, use:\n",
      "  %reload_ext autoreload\n"
     ]
    }
   ],
   "source": [
    "%load_ext autoreload\n",
    "%autoreload 2\n",
    "%matplotlib inline\n",
    "\n",
    "import unittest\n",
    "import os\n",
    "import sys\n",
    "import pathlib\n",
    "import urllib\n",
    "import shutil\n",
    "import re\n",
    "\n",
    "import numpy as np\n",
    "import torch\n",
    "import torch.nn as nn\n",
    "import torch.optim as optim\n",
    "import matplotlib.pyplot as plt"
   ]
  },
  {
   "cell_type": "code",
   "execution_count": 340,
   "metadata": {},
   "outputs": [
    {
     "name": "stdout",
     "output_type": "stream",
     "text": [
      "Using device: cpu\n"
     ]
    }
   ],
   "source": [
    "test = unittest.TestCase()\n",
    "plt.rcParams.update({'font.size': 12})\n",
    "device = torch.device('cuda' if torch.cuda.is_available() else 'cpu')\n",
    "\n",
    "# Prefer CPU, GPU won't help much in this assignment\n",
    "device = 'cpu'\n",
    "print('Using device:', device)\n",
    "\n",
    "# Seed for deterministic tests\n",
    "SEED = 42"
   ]
  },
  {
   "cell_type": "markdown",
   "metadata": {},
   "source": [
    "Some technical notes before we begin:\n",
    "\n",
    "- This part does not require a GPU. We won't need large models, and the computation bottleneck will be the generation of episodes to train on.\n",
    "- In order to run this notebook on the server, you must prepend the `xvfb-run` command to create a virtual screen. For example,\n",
    "    - to run this notebook with `srun` do\n",
    "        ```\n",
    "        srun -c2 --gres=gpu:1 xvfb-run -a -s \"-screen 0 1440x900x24\" python main.py run-nb <filename>\n",
    "        ```\n",
    "    - To run the submission script, do\n",
    "        ```\n",
    "        srun -c2 xvfb-run -a -s \"-screen 0 1440x900x24\" python main.py prepare-submission ...\n",
    "        ```\n",
    "    - note that we have already included the `xvfb-run` command inside the `jupyter-lab.sh` script, so you can use it as usual with `srun`.\n",
    "    and so on.\n",
    "- The OpenAI `gym` library is not officially supported on windows. However it should be possible to install and run the necessary environment for this exercise. However, we cannot provide you with technical support for this. If you have trouble installing locally, we suggest running on the course server."
   ]
  },
  {
   "cell_type": "markdown",
   "metadata": {},
   "source": [
    "## Policy gradients\n",
    "<a id=part1_1></a>"
   ]
  },
  {
   "cell_type": "markdown",
   "metadata": {},
   "source": [
    "Recall from the tutorial that we define the **policy** of an agent as the conditional distribution,\n",
    "$$\n",
    "\\pi(a|s) = \\Pr(a_t=a\\vert s_t=s),\n",
    "$$\n",
    "which defines how likely the agent is to take action $a$ at state $s$.\n",
    "\n",
    "Furthermore we define the action-value function,\n",
    "$$\n",
    "q_{\\pi}(s,a) = \\E{g_t(\\tau)|s_t = s,a_t=a,\\pi}\n",
    "$$\n",
    "where \n",
    "$$\n",
    "g_t(\\tau) = r_{t+1}+\\gamma r_{t+2} + \\dots = \\sum_{k=0}^{\\infty} \\gamma^k r_{t+1+k},\n",
    "$$\n",
    "is the total discounted reward of a specific trajectory $\\tau$ from time $t$, and the expectation in $q$ is over all possible\n",
    "trajectories,\n",
    "$\n",
    "\\tau=\\left\\{ (s_0,a_0,r_1,s_1), \\dots (s_T,a_T,r_{T+1},s_{T+1}) \\right\\}.\n",
    "$"
   ]
  },
  {
   "cell_type": "markdown",
   "metadata": {},
   "source": [
    "In the tutorial we saw that we can learn a value function starting with some random function and\n",
    "updating it iteratively by using the **Bellman optimality equation**.\n",
    "Given that we have some action-value function, we can immediately create a policy based on that\n",
    "by simply selecting an action which maximize the action-value at the current state, i.e.\n",
    "$$\n",
    "\\pi(a|s) =\n",
    "\\begin{cases}\n",
    "1, & a = \\arg\\max_{a'\\in\\cset{A}} q(s,a') \\\\\n",
    "0, & \\text{else}\n",
    "\\end{cases}.\n",
    "$$\n",
    "This is called $q$-learning. This approach aims to obtain a policy indirectly through the action-value function.\n",
    "Yet, in most cases we don't actually care about knowing the value of particular states,\n",
    "since all we need is a good policy for our agent. \n",
    "\n",
    "Here we'll take a different approach and learn a policy distribution $\\pi(a|s)$ directly - by using **policy gradients**."
   ]
  },
  {
   "cell_type": "markdown",
   "metadata": {},
   "source": [
    "### Formalism"
   ]
  },
  {
   "cell_type": "markdown",
   "metadata": {},
   "source": [
    "We define a parametric policy, $\\pi_\\vec{\\theta}(a|s)$, and maximize total discounted reward (or minimize the negative reward):\n",
    "$$\n",
    "\\mathcal{L}(\\vec{\\theta})=\\E[\\tau]{-g(\\tau)|\\pi_\\vec{\\theta}} = -\\int g(\\tau)p(\\tau|\\vec{\\theta})d\\tau,\n",
    "$$\n",
    "where $p(\\tau|\\vec{\\theta})$ is the probability of a specific trajectory $\\tau$ under the policy defined by $\\vec{\\theta}$.\n"
   ]
  },
  {
   "cell_type": "markdown",
   "metadata": {},
   "source": [
    "Since we want to find the parameters $\\vec{\\theta}$ which minimize $\\mathcal{L}(\\vec{\\theta})$, we'll compute the gradient w.r.t. $\\vec{\\theta}$:\n",
    "$$\n",
    "\\grad\\mathcal{L}(\\vec{\\theta}) = -\\int g(\\tau)\\grad p(\\tau|\\vec{\\theta})d\\tau.\n",
    "$$\n",
    "\n",
    "Unfortunately, if we try to write $p(\\tau|\\vec{\\theta})$ explicitly,\n",
    "we find that computing it's gradient with respect to $\\vec{\\theta}$ is\n",
    "quite intractable due to a huge product of terms depending on $\\vec{\\theta}$:\n",
    "$$\n",
    "p(\\tau|\\vec{\\theta})=p\\left(\\left\\{ (s_t,a_t,r_{t+1},s_{t+1})\\right\\}_{t\\geq0}\\given\\vec{\\theta}\\right)\n",
    "=p(s_0)\\prod_{t\\geq0} \\pi_{\\vec{\\theta}}(a_t|s_t)p(s_{t+1}|s_t,a_t).\n",
    "$$"
   ]
  },
  {
   "cell_type": "markdown",
   "metadata": {},
   "source": [
    "However, by using the fact that $\\grad_{x}\\log(f(x))=\\frac{\\grad_{x}f(x)}{f(x)}$, we can convert the product into a sum:\n",
    "$$\n",
    "\\begin{align}\n",
    "\\grad\\mathcal{L}(\\vec{\\theta})\n",
    "&= -\\int g(\\tau)\\grad p(\\tau|\\vec{\\theta})d\\tau\n",
    "= -\\int g(\\tau)\\frac{\\grad p(\\tau|\\vec{\\theta})}{p(\\tau|\\vec{\\theta})}p(\\tau|\\vec{\\theta})d\\tau \\\\\n",
    "&= -\\int g(\\tau)\\grad\\log\\left(p(\\tau|\\vec{\\theta})\\right)p(\\tau|\\vec{\\theta})d\\tau \\\\\n",
    "&= -\\int g(\\tau)\\grad\\log\\left( p(s_0)\\prod_{t\\geq0} \\pi_{\\vec{\\theta}}(a_t|s_t)p(s_{t+1}|s_t,a_t) \\right)\n",
    "p(\\tau|\\vec{\\theta})d\\tau \\\\\n",
    "&= -\\int g(\\tau)\\grad\\left( \\log p(s_0) + \\sum_{t\\geq0} \\log \\pi_{\\vec{\\theta}}(a_t|s_t) + \n",
    "\\sum_{t\\geq0}\\log p(s_{t+1}|s_t,a_t) \\right) p(\\tau|\\vec{\\theta})d\\tau \\\\\n",
    "&= -\\int g(\\tau)\\sum_{t\\geq0} \\grad\\log \\pi_{\\vec{\\theta}}(a_t|s_t) p(\\tau|\\vec{\\theta})d\\tau \\\\\n",
    "&= \\E[\\tau]{-g(\\tau)\\sum_{t\\geq0} \\grad\\log \\pi_{\\vec{\\theta}}(a_t|s_t)}.\n",
    "\\end{align}\n",
    "$$"
   ]
  },
  {
   "cell_type": "markdown",
   "metadata": {},
   "source": [
    "This is the \"vanilla\" version of the policy gradient. We can interpret is as a weighted log-likelihood function.\n",
    "The log-policy is the log-likelihood term we wish to maximize and the total discounted reward acts as a weight: high-return positive\n",
    "trajectories will cause the probability of actions taken during them to increase, and negative-return trajectories will cause the\n",
    "probabilities of actions taken to decrease.\n",
    "\n",
    "In the following figures we see three trajectories: high-return positive-reward (green), low-return positive-reward (yellow) and negative-return (red) and the action probabilities along the trajectories after the update. Credit: Sergey Levine.\n",
    "\n",
    "|<strong></strong>||\n",
    "|-----| ----|\n",
    "|<img src=\"imgs/pg1.png\" height=\"200\">|<img src=\"imgs/pg2.png\" height=\"200\">|\n"
   ]
  },
  {
   "cell_type": "markdown",
   "metadata": {},
   "source": [
    "The major drawback of the policy-gradient is it's high variance, which causes erratic optimization behavior and therefore slow convergence.\n",
    "One reason for this is that the log-policy weight term, $g(\\tau)$ can vary wildly between different trajectories, even if they're similar in\n",
    "actions. Later on we'll implement the loss and explore some methods of variance reduction."
   ]
  },
  {
   "cell_type": "markdown",
   "metadata": {},
   "source": [
    "### Landing on the moon with policy gradients"
   ]
  },
  {
   "cell_type": "markdown",
   "metadata": {},
   "source": [
    "In the spirit of the recent achievements of the Israeli space industry,\n",
    "we'll apply our reinforcement learning skills to solve a simple game called **LunarLander**.\n",
    "\n",
    "This game is available as an `environment` in OpenAI `gym`.\n",
    "\n",
    "<video loop autoplay src=\"http://gym.openai.com/videos/2019-04-06--My9IiAbqha/LunarLander-v2/original.mp4\" />"
   ]
  },
  {
   "cell_type": "markdown",
   "metadata": {},
   "source": [
    "In this environment, you need to control the lander and get it to land safely on the moon.\n",
    "To do so, you must apply bottom, right or left thrusters (each are either fully on or fully off)\n",
    "and get it to land within the designated zone as quickly as possible and with minimal wasted fuel."
   ]
  },
  {
   "cell_type": "code",
   "execution_count": 341,
   "metadata": {},
   "outputs": [],
   "source": [
    "import gym\n",
    "\n",
    "# Just for fun :) ... but also to re-define the default max number of steps\n",
    "ENV_NAME = 'Beresheet-v2'\n",
    "MAX_EPISODE_STEPS = 300\n",
    "if ENV_NAME not in gym.envs.registry.env_specs:\n",
    "    gym.register(\n",
    "        id=ENV_NAME,\n",
    "        entry_point='gym.envs.box2d:LunarLander',\n",
    "        max_episode_steps=MAX_EPISODE_STEPS,\n",
    "        reward_threshold=200,\n",
    "    )"
   ]
  },
  {
   "cell_type": "code",
   "execution_count": 342,
   "metadata": {},
   "outputs": [
    {
     "name": "stdout",
     "output_type": "stream",
     "text": [
      "<TimeLimit<LunarLander<Beresheet-v2>>>\n",
      "observations space: Box(-inf, inf, (8,), float32)\n",
      "action space: Discrete(4)\n"
     ]
    }
   ],
   "source": [
    "import gym\n",
    "\n",
    "env = gym.make(ENV_NAME)\n",
    "\n",
    "print(env)\n",
    "print(f'observations space: {env.observation_space}')\n",
    "print(f'action space: {env.action_space}')\n",
    "\n",
    "ENV_N_ACTIONS = env.action_space.n\n",
    "ENV_N_OBSERVATIONS = env.observation_space.shape[0]"
   ]
  },
  {
   "cell_type": "markdown",
   "metadata": {},
   "source": [
    "The observations at each step is the Lander's position, velocity, angle, angular velocity and ground contact state.\n",
    "The actions are no-op, fire left truster, bottom thruster and right thruster.\n",
    "\n",
    "You are **highly encouraged** to read the [documentation](https://github.com/openai/gym/blob/master/gym/envs/box2d/lunar_lander.py) in the source code of the `LunarLander` environment to understand the reward system,\n",
    "and see how the actions and observations are created."
   ]
  },
  {
   "cell_type": "markdown",
   "metadata": {},
   "source": [
    "### Policy network and Agent"
   ]
  },
  {
   "cell_type": "markdown",
   "metadata": {},
   "source": [
    "Let's start with our policy-model. This will be a simple neural net, which should take an observation and return a score for each possible action."
   ]
  },
  {
   "cell_type": "markdown",
   "metadata": {},
   "source": [
    "**TODO**:\n",
    "1. Implement all methods in the `PolicyNet` class in the `hw4/rl_pg.py` module.\n",
    "   Start small. A simple MLP with a few hidden layers is a good starting point. You can come back and change it later based on the the experiments.  \n",
    "   Notice that we'll use the `build_for_env` method to instantiate a `PolicyNet` based on the configuration of a given environment.\n",
    "2. If you need hyperparameters to configure your model (e.g. number of hidden layers, sizes, etc.), add them in `part1_pg_hyperparams()` in `hw4/answers.py`."
   ]
  },
  {
   "cell_type": "code",
   "execution_count": 343,
   "metadata": {},
   "outputs": [
    {
     "data": {
      "text/plain": [
       "PolicyNet(\n",
       "  (fc): Sequential(\n",
       "    (0): Linear(in_features=8, out_features=512, bias=True)\n",
       "    (1): ReLU()\n",
       "    (2): Linear(in_features=512, out_features=4, bias=True)\n",
       "  )\n",
       ")"
      ]
     },
     "execution_count": 343,
     "metadata": {},
     "output_type": "execute_result"
    }
   ],
   "source": [
    "import hw4.rl_pg as hw4pg\n",
    "import hw4.answers\n",
    "\n",
    "hp = hw4.answers.part1_pg_hyperparams()\n",
    "\n",
    "# You can add keyword-args to this function which will be populated from the\n",
    "# hyperparameters dict.\n",
    "p_net = hw4pg.PolicyNet.build_for_env(env, device, **hp)\n",
    "p_net"
   ]
  },
  {
   "cell_type": "markdown",
   "metadata": {},
   "source": [
    "Now we need an **agent**. The purpose of our agent will be to act according to the current policy and generate experiences.\n",
    "Our `PolicyAgent` will use a `PolicyNet` as the current policy function.\n",
    "\n",
    "\n",
    "We'll also define some extra datatypes to help us represent the data generated by our agent.\n",
    "You can find the `Experience`, `Episode` and `TrainBatch` datatypes in the `hw4/rl_data.py` module."
   ]
  },
  {
   "cell_type": "markdown",
   "metadata": {},
   "source": [
    "**TODO**: Implement the `current_action_distribution()` method of the `PolicyAgent` class in the `hw4/rl_pg.py` module."
   ]
  },
  {
   "cell_type": "code",
   "execution_count": 344,
   "metadata": {},
   "outputs": [
    {
     "name": "stdout",
     "output_type": "stream",
     "text": [
      "torch.Size([4]) (4,)\n",
      "torch.Size([4]) (4,)\n",
      "torch.Size([4]) (4,)\n",
      "torch.Size([4]) (4,)\n",
      "torch.Size([4]) (4,)\n",
      "torch.Size([4]) (4,)\n",
      "torch.Size([4]) (4,)\n",
      "torch.Size([4]) (4,)\n",
      "torch.Size([4]) (4,)\n",
      "torch.Size([4]) (4,)\n"
     ]
    }
   ],
   "source": [
    "for i in range (10):\n",
    "    agent = hw4pg.PolicyAgent(env, p_net, device)\n",
    "    d = agent.current_action_distribution()\n",
    "    print(d.shape, (env.action_space.n,))\n",
    "    \n",
    "    test.assertSequenceEqual(d.shape, (env.action_space.n,))\n",
    "    test.assertAlmostEqual(d.sum(), 1.0, delta=1e-5)"
   ]
  },
  {
   "cell_type": "markdown",
   "metadata": {},
   "source": [
    "**TODO**: Implement the `step()` method of the `PolicyAgent`."
   ]
  },
  {
   "cell_type": "code",
   "execution_count": 345,
   "metadata": {},
   "outputs": [
    {
     "name": "stdout",
     "output_type": "stream",
     "text": [
      "Experience(state=tensor([ 0.0054,  1.3912,  0.2763, -0.4515, -0.0079, -0.0970,  0.0000,  0.0000]), action=3, reward=-2.1458490493826035, is_done=False)\n"
     ]
    }
   ],
   "source": [
    "agent = hw4pg.PolicyAgent(env, p_net, device)\n",
    "exp = agent.step()\n",
    "\n",
    "test.assertIsInstance(exp, hw4pg.Experience)\n",
    "print(exp)"
   ]
  },
  {
   "cell_type": "markdown",
   "metadata": {},
   "source": [
    "To test our agent, we'll write some code that allows it to play an environment. We'll use the `Monitor`\n",
    "wrapper in `gym` to generate a video of the episode for visual debugging."
   ]
  },
  {
   "cell_type": "markdown",
   "metadata": {},
   "source": [
    "**TODO**: Complete the implementation of the `monitor_episode()` method of the `PolicyAgent`."
   ]
  },
  {
   "cell_type": "code",
   "execution_count": 346,
   "metadata": {},
   "outputs": [],
   "source": [
    "env, n_steps, reward = agent.monitor_episode(ENV_NAME, p_net, device=device)"
   ]
  },
  {
   "cell_type": "markdown",
   "metadata": {},
   "source": [
    "To display the Monitor video in this notebook, we'll use a helper function from our `jupyter_utils` and a small wrapper that extracts the path of the last video file. "
   ]
  },
  {
   "cell_type": "code",
   "execution_count": 347,
   "metadata": {},
   "outputs": [
    {
     "name": "stdout",
     "output_type": "stream",
     "text": [
      "<Monitor<TimeLimit<LunarLander<Beresheet-v2>>>> 0 -100\n"
     ]
    }
   ],
   "source": [
    "import cs236781.jupyter_utils as jupyter_utils\n",
    "\n",
    "def show_monitor_video(monitor_env, idx=0, **kw):\n",
    "    # Extract video path\n",
    "    video_path = monitor_env.videos[idx][0]\n",
    "    video_path = os.path.relpath(video_path, start=os.path.curdir)\n",
    "    \n",
    "    # Use helper function to embed the video\n",
    "    return jupyter_utils.show_video_in_notebook(video_path, **kw)\n",
    "print(env, n_steps, reward)"
   ]
  },
  {
   "cell_type": "code",
   "execution_count": 348,
   "metadata": {},
   "outputs": [
    {
     "name": "stdout",
     "output_type": "stream",
     "text": [
      "Episode ran for 0 steps. Total reward: -100.00\n"
     ]
    },
    {
     "data": {
      "text/html": [
       "<video src=\"data:video/mp4;base64,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\" controls autoplay width=\"500\" height=\"auto\" />"
      ],
      "text/plain": [
       "<IPython.core.display.HTML object>"
      ]
     },
     "execution_count": 348,
     "metadata": {},
     "output_type": "execute_result"
    }
   ],
   "source": [
    "print(f'Episode ran for {n_steps} steps. Total reward: {reward:.2f}')\n",
    "\n",
    "show_monitor_video(env)"
   ]
  },
  {
   "cell_type": "markdown",
   "metadata": {},
   "source": [
    "### Training data"
   ]
  },
  {
   "cell_type": "markdown",
   "metadata": {},
   "source": [
    "The next step is to create data to train on.\n",
    "We need to train on batches of state-action pairs, so that our network can learn to predict the actions.\n",
    "\n",
    "We'll split this task into three parts:\n",
    "1. Generate a batch of `Episode`s, by using an `Agent` that's playing according to our current policy network.\n",
    "   Each `Episode` object contains the `Experience` objects created by the agent.\n",
    "2. Calculate the total discounted reward for each state we encountered and action we took. This is our action-value estimate.\n",
    "3. Convert the `Episode`s into a batch of tensors to train on.\n",
    "   Each batch will contain states, action taken per state, reward accrued, and the calculated estimated state-values.\n",
    "   These will be stored in a `TrainBatch` object.\n"
   ]
  },
  {
   "cell_type": "markdown",
   "metadata": {},
   "source": [
    "**TODO**: Complete the implementation of the `episode_batch_generator()` method in the `TrainBatchDataset` class within the `hw4.rl_data` module. This will address part 1 in the list above."
   ]
  },
  {
   "cell_type": "code",
   "execution_count": 349,
   "metadata": {},
   "outputs": [
    {
     "name": "stdout",
     "output_type": "stream",
     "text": [
      "First episode: Episode(total_reward=-557.38, #experences=95)\n"
     ]
    }
   ],
   "source": [
    "import hw4.rl_data as hw4data\n",
    "\n",
    "def agent_fn():\n",
    "    env = gym.make(ENV_NAME)\n",
    "    hp = hw4.answers.part1_pg_hyperparams()\n",
    "    p_net = hw4pg.PolicyNet.build_for_env(env, device, **hp)\n",
    "    return hw4pg.PolicyAgent(env, p_net, device)\n",
    "    \n",
    "ds = hw4data.TrainBatchDataset(agent_fn, episode_batch_size=8, gamma=0.9)\n",
    "batch_gen = ds.episode_batch_generator()\n",
    "b = next(batch_gen)\n",
    "print('First episode:', b[0])\n",
    "\n",
    "test.assertEqual(len(b), 8)\n",
    "for ep in b:\n",
    "    test.assertIsInstance(ep, hw4data.Episode)\n",
    "    \n",
    "    # Check that it's a full episode\n",
    "    is_done = [exp.is_done for exp in ep.experiences]\n",
    "    test.assertFalse(any(is_done[0:-1]))\n",
    "    test.assertTrue(is_done[-1])"
   ]
  },
  {
   "cell_type": "markdown",
   "metadata": {},
   "source": [
    "**TODO**: Complete the implementation of the `calc_qvals()` method in the `Episode` class.\n",
    "This will address part 2.\n",
    "These q-values are an estimate of the actual action value function: $$\\hat{q}_{t} = \\sum_{t'\\geq t} \\gamma^{t'-t}r_{t'+1}.$$"
   ]
  },
  {
   "cell_type": "code",
   "execution_count": 350,
   "metadata": {},
   "outputs": [],
   "source": [
    "np.random.seed(SEED)\n",
    "test_rewards = np.random.randint(-10, 10, 100)\n",
    "test_experiences = [hw4pg.Experience(None,None,r,False) for r in test_rewards] \n",
    "test_episode = hw4data.Episode(np.sum(test_rewards), test_experiences)\n",
    "\n",
    "qvals = test_episode.calc_qvals(0.9)\n",
    "qvals = list(qvals)\n",
    "\n",
    "expected_qvals = np.load(os.path.join('tests', 'assets', 'part1_expected_qvals.npy'))\n",
    "for i in range(len(test_rewards)):\n",
    "    test.assertAlmostEqual(expected_qvals[i], qvals[i], delta=1e-3)"
   ]
  },
  {
   "cell_type": "markdown",
   "metadata": {},
   "source": [
    "**TODO**: Complete the implementation of the `from_episodes()` method in the `TrainBatch` class.\n",
    "This will address part 3.\n",
    "\n",
    "Notes:\n",
    "- The `TrainBatchDataset` class provides a generator function that will use the above function to lazily generate batches of training samples and labels on demand.\n",
    "- This allows us to use a standard `PyTorch` dataloader to wrap our Dataset and provide us with parallel data loading for free!\n",
    "  This means we can run multiple environments with multiple agents in separate background processes to generate data for training and thus prevent the data loading bottleneck which is caused by the fact that we must generate full Episodes to train on in order to calculate the q-values.\n",
    "- We'll set the `DataLoader`'s `batch_size` to `None` because we have already implemented custom batching in our dataset.\n",
    "- You can choose the number of worker processes generating data using the `num_workers` parameter in the hyperparams dict. Set `num_workers=0` to disable parallelization."
   ]
  },
  {
   "cell_type": "code",
   "execution_count": 351,
   "metadata": {},
   "outputs": [
    {
     "name": "stdout",
     "output_type": "stream",
     "text": [
      "#0: TrainBatch(states: torch.Size([1311, 8]), actions: torch.Size([1311]), q_vals: torch.Size([1311])), num_episodes: 1311)\n",
      "#1: TrainBatch(states: torch.Size([865, 8]), actions: torch.Size([865]), q_vals: torch.Size([865])), num_episodes: 865)\n",
      "#2: TrainBatch(states: torch.Size([1361, 8]), actions: torch.Size([1361]), q_vals: torch.Size([1361])), num_episodes: 1361)\n",
      "#3: TrainBatch(states: torch.Size([859, 8]), actions: torch.Size([859]), q_vals: torch.Size([859])), num_episodes: 859)\n",
      "#4: TrainBatch(states: torch.Size([984, 8]), actions: torch.Size([984]), q_vals: torch.Size([984])), num_episodes: 984)\n",
      "#5: TrainBatch(states: torch.Size([1248, 8]), actions: torch.Size([1248]), q_vals: torch.Size([1248])), num_episodes: 1248)\n",
      "#6: TrainBatch(states: torch.Size([1067, 8]), actions: torch.Size([1067]), q_vals: torch.Size([1067])), num_episodes: 1067)\n"
     ]
    }
   ],
   "source": [
    "from torch.utils.data import DataLoader\n",
    "\n",
    "hp = hw4.answers.part1_pg_hyperparams()\n",
    "\n",
    "ds = hw4data.TrainBatchDataset(agent_fn, episode_batch_size=8, gamma=0.9)\n",
    "dl = DataLoader(\n",
    "    ds,\n",
    "    batch_size=None,\n",
    "    num_workers=hp['num_workers'],\n",
    "    multiprocessing_context='fork' if hp['num_workers'] > 0 else None\n",
    ")\n",
    "\n",
    "\n",
    "for i, train_batch in enumerate(dl):\n",
    "    states, actions, qvals, reward_mean = train_batch\n",
    "    print(f'#{i}: {train_batch}')\n",
    "    test.assertEqual(states.shape[0], actions.shape[0])\n",
    "    test.assertEqual(qvals.shape[0], actions.shape[0])\n",
    "    test.assertEqual(states.shape[1], env.observation_space.shape[0])\n",
    "    if i > 5:\n",
    "        break"
   ]
  },
  {
   "cell_type": "markdown",
   "metadata": {},
   "source": [
    "### Loss functions"
   ]
  },
  {
   "cell_type": "markdown",
   "metadata": {},
   "source": [
    "As usual, we need a loss function to optimize over.\n",
    "We'll calculate three types of losses:\n",
    "1. The causal vanilla policy gradient loss.\n",
    "1. The policy gradient loss, with a baseline to reduce variance.\n",
    "2. An entropy-based loss whos purpose is to diversify the agent's action selection,\n",
    "   and prevent it from being \"too sure\" about its actions.\n",
    "   This loss will be used together with one of the above losses."
   ]
  },
  {
   "cell_type": "markdown",
   "metadata": {},
   "source": [
    "#### Causal vanilla policy-gradient"
   ]
  },
  {
   "cell_type": "markdown",
   "metadata": {},
   "source": [
    "We have derived the policy-gradient as\n",
    "$$\n",
    "\\grad\\mathcal{L}(\\vec{\\theta}) = \\E[\\tau]{-g(\\tau)\\sum_{t\\geq0} \\grad\\log \\pi_{\\vec{\\theta}}(a_t|s_t)}.\n",
    "$$\n",
    "\n",
    "By writing the discounted reward explicitly and enforcing causality, i.e. the action taken at time $t$ can't affect\n",
    "the reward at time $t'<t$, we can get a slightly lower-variance version of the policy gradient:\n",
    "\n",
    "$$\n",
    "\\grad\\mathcal{L}_{\\text{PG}}(\\vec{\\theta}) = \n",
    "\\E[\\tau]{-\\sum_{t\\geq0} \\left(\\sum_{t'\\geq t} \\gamma^{t'}r_{t'+1} \\right)\\grad\\log \\pi_{\\vec{\\theta}}(a_t|s_t)}.\n",
    "$$"
   ]
  },
  {
   "cell_type": "markdown",
   "metadata": {},
   "source": [
    "In practice, the expectation over trajectories is calculated using a Monte-Carlo approach, i.e. simply sampling $N$\n",
    "trajectories and average the term inside the expectation. Therefore, we will use the following estimated version of the policy gradient:\n",
    "\n",
    "$$\n",
    "\\begin{align}\n",
    "\\hat\\grad\\mathcal{L}_{\\text{PG}}(\\vec{\\theta})\n",
    "&=-\\frac{1}{N}\\sum_{i=1}^{N}\\sum_{t\\geq0} \\left(\\sum_{t'\\geq t} \\gamma^{t'}r_{i,t'+1} \\right)\\grad\\log \\pi_{\\vec{\\theta}}(a_{i,t}|s_{i,t}) \\\\\n",
    "&=-\\frac{1}{N}\\sum_{i=1}^{N}\\sum_{t\\geq0} \\hat{q}_{i,t} \\grad\\log \\pi_{\\vec{\\theta}}(a_{i,t}|s_{i,t}).\n",
    "\\end{align}\n",
    "$$\n",
    "\n",
    "Note the use of the notation $\\hat{q}_{i,t}$ to represent the estimated action-value at time $t$ in the sampled trajectory $i$.\n",
    "Here $\\hat{q}_{i,t}$ is acting as the weight-term for the policy gradient."
   ]
  },
  {
   "cell_type": "markdown",
   "metadata": {},
   "source": [
    "**TODO**: Complete the implementation of the `VanillaPolicyGradientLoss` class in the `hw4/rl_pg.py` module."
   ]
  },
  {
   "cell_type": "code",
   "execution_count": 356,
   "metadata": {},
   "outputs": [
    {
     "name": "stdout",
     "output_type": "stream",
     "text": [
      "test_batch=TrainBatch(states: torch.Size([388, 8]), actions: torch.Size([388]), q_vals: torch.Size([388])), num_episodes: 388)\n",
      "\n",
      "test_action_scores=\n",
      "tensor([[-7.8158e-01, -1.5094e-01,  4.1993e-01,  1.4059e+00],\n",
      "        [ 1.3185e+00,  2.8492e-05,  1.4242e+00, -6.2004e-01],\n",
      "        [ 1.1881e+00,  2.0556e+00,  6.6027e-01, -1.1078e+00],\n",
      "        ...,\n",
      "        [-3.4807e-01, -9.6609e-01, -6.5453e-01, -2.0421e+00],\n",
      "        [-1.1453e+00,  8.8890e-01,  2.4767e-01,  9.7610e-01],\n",
      "        [-1.2878e+00,  1.9194e+00, -9.3162e-01, -3.8786e-01]])\n",
      "shape=torch.Size([388, 4])\n",
      "\n",
      "loss_p=tensor(-36.3636)\n"
     ]
    },
    {
     "ename": "AssertionError",
     "evalue": "-36.36360168457031 != -36.642 within 0.01 delta (0.2783983154296905 difference)",
     "output_type": "error",
     "traceback": [
      "\u001b[1;31m---------------------------------------------------------------------------\u001b[0m",
      "\u001b[1;31mAssertionError\u001b[0m                            Traceback (most recent call last)",
      "\u001b[1;32m<ipython-input-356-522a8e3585c0>\u001b[0m in \u001b[0;36m<module>\u001b[1;34m\u001b[0m\n\u001b[0;32m     22\u001b[0m \u001b[1;33m\u001b[0m\u001b[0m\n\u001b[0;32m     23\u001b[0m \u001b[0mprint\u001b[0m\u001b[1;33m(\u001b[0m\u001b[1;34mf'{loss_p=}'\u001b[0m\u001b[1;33m)\u001b[0m\u001b[1;33m\u001b[0m\u001b[1;33m\u001b[0m\u001b[0m\n\u001b[1;32m---> 24\u001b[1;33m \u001b[0mtest\u001b[0m\u001b[1;33m.\u001b[0m\u001b[0massertAlmostEqual\u001b[0m\u001b[1;33m(\u001b[0m\u001b[0mloss_p\u001b[0m\u001b[1;33m.\u001b[0m\u001b[0mitem\u001b[0m\u001b[1;33m(\u001b[0m\u001b[1;33m)\u001b[0m\u001b[1;33m,\u001b[0m \u001b[1;33m-\u001b[0m\u001b[1;36m36.642\u001b[0m\u001b[1;33m,\u001b[0m \u001b[0mdelta\u001b[0m\u001b[1;33m=\u001b[0m\u001b[1;36m1e-2\u001b[0m\u001b[1;33m)\u001b[0m\u001b[1;33m\u001b[0m\u001b[1;33m\u001b[0m\u001b[0m\n\u001b[0m",
      "\u001b[1;32m~\\miniconda3\\envs\\cs236781-hw\\lib\\unittest\\case.py\u001b[0m in \u001b[0;36massertAlmostEqual\u001b[1;34m(self, first, second, places, msg, delta)\u001b[0m\n\u001b[0;32m    964\u001b[0m                 safe_repr(diff))\n\u001b[0;32m    965\u001b[0m         \u001b[0mmsg\u001b[0m \u001b[1;33m=\u001b[0m \u001b[0mself\u001b[0m\u001b[1;33m.\u001b[0m\u001b[0m_formatMessage\u001b[0m\u001b[1;33m(\u001b[0m\u001b[0mmsg\u001b[0m\u001b[1;33m,\u001b[0m \u001b[0mstandardMsg\u001b[0m\u001b[1;33m)\u001b[0m\u001b[1;33m\u001b[0m\u001b[1;33m\u001b[0m\u001b[0m\n\u001b[1;32m--> 966\u001b[1;33m         \u001b[1;32mraise\u001b[0m \u001b[0mself\u001b[0m\u001b[1;33m.\u001b[0m\u001b[0mfailureException\u001b[0m\u001b[1;33m(\u001b[0m\u001b[0mmsg\u001b[0m\u001b[1;33m)\u001b[0m\u001b[1;33m\u001b[0m\u001b[1;33m\u001b[0m\u001b[0m\n\u001b[0m\u001b[0;32m    967\u001b[0m \u001b[1;33m\u001b[0m\u001b[0m\n\u001b[0;32m    968\u001b[0m     def assertNotAlmostEqual(self, first, second, places=None, msg=None,\n",
      "\u001b[1;31mAssertionError\u001b[0m: -36.36360168457031 != -36.642 within 0.01 delta (0.2783983154296905 difference)"
     ]
    }
   ],
   "source": [
    "# Ensure deterministic run\n",
    "env = gym.make(ENV_NAME)\n",
    "env.seed(SEED)\n",
    "torch.manual_seed(SEED)\n",
    "\n",
    "def agent_fn():\n",
    "    # Use a simple \"network\" here, so that this test doesn't depend on\n",
    "    # your specific PolicyNet implementation\n",
    "    p_net_test = nn.Linear(ENV_N_OBSERVATIONS, ENV_N_ACTIONS, bias=True)\n",
    "    agent = hw4pg.PolicyAgent(env, p_net_test)\n",
    "    return agent\n",
    "\n",
    "dataloader = hw4data.TrainBatchDataset(agent_fn, gamma=0.9, episode_batch_size=4)\n",
    "\n",
    "test_batch = next(iter(dataloader))\n",
    "test_action_scores = torch.randn(len(test_batch), env.action_space.n)\n",
    "print(f\"{test_batch=}\", end='\\n\\n')\n",
    "print(f\"test_action_scores=\\n{test_action_scores}\\nshape={test_action_scores.shape}\", end='\\n\\n')\n",
    "\n",
    "loss_fn_p = hw4pg.VanillaPolicyGradientLoss()\n",
    "loss_p, _ = loss_fn_p(test_batch, test_action_scores)\n",
    "\n",
    "print(f'{loss_p=}')\n",
    "test.assertAlmostEqual(loss_p.item(), -36.642, delta=1e-2)"
   ]
  },
  {
   "cell_type": "markdown",
   "metadata": {},
   "source": [
    "#### Policy-gradient with baseline"
   ]
  },
  {
   "cell_type": "markdown",
   "metadata": {},
   "source": [
    "Another way to reduce the variance of our gradient is to use relative weighting of the log-policy instead of absolute reward values.\n",
    "$$\n",
    "\\hat\\grad\\mathcal{L}_{\\text{BPG}}(\\vec{\\theta})\n",
    "=-\\frac{1}{N}\\sum_{i=1}^{N}\\sum_{t\\geq0} \\left(\\hat{q}_{i,t}-b\\right) \\grad\\log \\pi_{\\vec{\\theta}}(a_{i,t}|s_{i,t}).\n",
    "$$\n",
    "In other words, we don't measure a trajectory's worth by it's total reward, but by how much better that total reward is relative to some\n",
    "expected (\"baseline\") reward value, denoted above by $b$.\n",
    "Note that subtracting a baseline has no effect on the expected value of the policy gradient. It's easy to prove this directly by definition.\n",
    "\n",
    "Here we'll implement a very simple baseline (not optimal in terms of variance reduction): the average of the estimated state-values $\\hat{q}_{i,t}$."
   ]
  },
  {
   "cell_type": "markdown",
   "metadata": {},
   "source": [
    "**TODO**: Complete the implementation of the `BaselinePolicyGradientLoss` class in the `hw4/rl_pg.py` module."
   ]
  },
  {
   "cell_type": "code",
   "execution_count": null,
   "metadata": {},
   "outputs": [],
   "source": [
    "# Using the same batch and action_scores from above cell\n",
    "loss_fn_p = hw4pg.BaselinePolicyGradientLoss()\n",
    "loss_p, loss_dict = loss_fn_p(test_batch, test_action_scores)\n",
    "\n",
    "print(f'{loss_dict=}')\n",
    "test.assertAlmostEqual(loss_dict['baseline'], -22.191, delta=1e-2)\n",
    "test.assertAlmostEqual(loss_p.item(), -0.278, delta=1e-2)"
   ]
  },
  {
   "cell_type": "markdown",
   "metadata": {},
   "source": [
    "#### Entropy loss"
   ]
  },
  {
   "cell_type": "markdown",
   "metadata": {},
   "source": [
    "The entropy of a probability distribution (in our case the policy), is\n",
    "$$\n",
    "H(\\pi) = -\\sum_{a} \\pi(a|s)\\log\\pi(a|s).\n",
    "$$\n",
    "The entropy is always positive and obtains it's maximum for a uniform distribution.\n",
    "We'll use the entropy of the policy as a bonus, i.e. we'll try to maximize it.\n",
    "The idea is the prevent the policy distribution from becoming too narrow and thus promote the agent's exploration."
   ]
  },
  {
   "cell_type": "markdown",
   "metadata": {},
   "source": [
    "First, we'll calculate the maximal possible entropy value of the action distribution for a set number of possible actions.\n",
    "This will be used as a normalization term.\n",
    "\n",
    "**TODO**: Complete the implementation of the `calc_max_entropy()` method in the `ActionEntropyLoss` class."
   ]
  },
  {
   "cell_type": "code",
   "execution_count": 288,
   "metadata": {},
   "outputs": [
    {
     "ename": "NotImplementedError",
     "evalue": "",
     "output_type": "error",
     "traceback": [
      "\u001b[1;31m---------------------------------------------------------------------------\u001b[0m",
      "\u001b[1;31mNotImplementedError\u001b[0m                       Traceback (most recent call last)",
      "\u001b[1;32m<ipython-input-288-be1b50efdaba>\u001b[0m in \u001b[0;36m<module>\u001b[1;34m\u001b[0m\n\u001b[1;32m----> 1\u001b[1;33m \u001b[0mloss_fn_e\u001b[0m \u001b[1;33m=\u001b[0m \u001b[0mhw4pg\u001b[0m\u001b[1;33m.\u001b[0m\u001b[0mActionEntropyLoss\u001b[0m\u001b[1;33m(\u001b[0m\u001b[0menv\u001b[0m\u001b[1;33m.\u001b[0m\u001b[0maction_space\u001b[0m\u001b[1;33m.\u001b[0m\u001b[0mn\u001b[0m\u001b[1;33m)\u001b[0m\u001b[1;33m\u001b[0m\u001b[1;33m\u001b[0m\u001b[0m\n\u001b[0m\u001b[0;32m      2\u001b[0m \u001b[0mprint\u001b[0m\u001b[1;33m(\u001b[0m\u001b[1;34m'max_entropy = '\u001b[0m\u001b[1;33m,\u001b[0m \u001b[0mloss_fn_e\u001b[0m\u001b[1;33m.\u001b[0m\u001b[0mmax_entropy\u001b[0m\u001b[1;33m)\u001b[0m\u001b[1;33m\u001b[0m\u001b[1;33m\u001b[0m\u001b[0m\n\u001b[0;32m      3\u001b[0m \u001b[1;33m\u001b[0m\u001b[0m\n\u001b[0;32m      4\u001b[0m \u001b[0mtest\u001b[0m\u001b[1;33m.\u001b[0m\u001b[0massertAlmostEqual\u001b[0m\u001b[1;33m(\u001b[0m\u001b[0mloss_fn_e\u001b[0m\u001b[1;33m.\u001b[0m\u001b[0mmax_entropy\u001b[0m\u001b[1;33m,\u001b[0m \u001b[1;36m1.38629436\u001b[0m\u001b[1;33m,\u001b[0m \u001b[0mdelta\u001b[0m\u001b[1;33m=\u001b[0m\u001b[1;36m1e-3\u001b[0m\u001b[1;33m)\u001b[0m\u001b[1;33m\u001b[0m\u001b[1;33m\u001b[0m\u001b[0m\n",
      "\u001b[1;32m~\\OneDrive - Technion\\Semester E\\236781 - Deep Learning on Computation Accelerators\\HW\\hw4\\hw4\\rl_pg.py\u001b[0m in \u001b[0;36m__init__\u001b[1;34m(self, n_actions, beta)\u001b[0m\n\u001b[0;32m    252\u001b[0m         \"\"\"\n\u001b[0;32m    253\u001b[0m         \u001b[0msuper\u001b[0m\u001b[1;33m(\u001b[0m\u001b[1;33m)\u001b[0m\u001b[1;33m.\u001b[0m\u001b[0m__init__\u001b[0m\u001b[1;33m(\u001b[0m\u001b[1;33m)\u001b[0m\u001b[1;33m\u001b[0m\u001b[1;33m\u001b[0m\u001b[0m\n\u001b[1;32m--> 254\u001b[1;33m         \u001b[0mself\u001b[0m\u001b[1;33m.\u001b[0m\u001b[0mmax_entropy\u001b[0m \u001b[1;33m=\u001b[0m \u001b[0mself\u001b[0m\u001b[1;33m.\u001b[0m\u001b[0mcalc_max_entropy\u001b[0m\u001b[1;33m(\u001b[0m\u001b[0mn_actions\u001b[0m\u001b[1;33m)\u001b[0m\u001b[1;33m\u001b[0m\u001b[1;33m\u001b[0m\u001b[0m\n\u001b[0m\u001b[0;32m    255\u001b[0m         \u001b[0mself\u001b[0m\u001b[1;33m.\u001b[0m\u001b[0mbeta\u001b[0m \u001b[1;33m=\u001b[0m \u001b[0mbeta\u001b[0m\u001b[1;33m\u001b[0m\u001b[1;33m\u001b[0m\u001b[0m\n\u001b[0;32m    256\u001b[0m \u001b[1;33m\u001b[0m\u001b[0m\n",
      "\u001b[1;32m~\\OneDrive - Technion\\Semester E\\236781 - Deep Learning on Computation Accelerators\\HW\\hw4\\hw4\\rl_pg.py\u001b[0m in \u001b[0;36mcalc_max_entropy\u001b[1;34m(n_actions)\u001b[0m\n\u001b[0;32m    264\u001b[0m         \u001b[1;31m# TODO: Compute max_entropy.\u001b[0m\u001b[1;33m\u001b[0m\u001b[1;33m\u001b[0m\u001b[1;33m\u001b[0m\u001b[0m\n\u001b[0;32m    265\u001b[0m         \u001b[1;31m# ====== YOUR CODE: ======\u001b[0m\u001b[1;33m\u001b[0m\u001b[1;33m\u001b[0m\u001b[1;33m\u001b[0m\u001b[0m\n\u001b[1;32m--> 266\u001b[1;33m         \u001b[1;32mraise\u001b[0m \u001b[0mNotImplementedError\u001b[0m\u001b[1;33m(\u001b[0m\u001b[1;33m)\u001b[0m\u001b[1;33m\u001b[0m\u001b[1;33m\u001b[0m\u001b[0m\n\u001b[0m\u001b[0;32m    267\u001b[0m         \u001b[1;31m# ========================\u001b[0m\u001b[1;33m\u001b[0m\u001b[1;33m\u001b[0m\u001b[1;33m\u001b[0m\u001b[0m\n\u001b[0;32m    268\u001b[0m         \u001b[1;32mreturn\u001b[0m \u001b[0mmax_entropy\u001b[0m\u001b[1;33m\u001b[0m\u001b[1;33m\u001b[0m\u001b[0m\n",
      "\u001b[1;31mNotImplementedError\u001b[0m: "
     ]
    }
   ],
   "source": [
    "loss_fn_e = hw4pg.ActionEntropyLoss(env.action_space.n)\n",
    "print('max_entropy = ', loss_fn_e.max_entropy)\n",
    "\n",
    "test.assertAlmostEqual(loss_fn_e.max_entropy, 1.38629436, delta=1e-3)"
   ]
  },
  {
   "cell_type": "markdown",
   "metadata": {},
   "source": [
    "**TODO**: Complete the implementation of the `forward()` method in the `ActionEntropyLoss` class."
   ]
  },
  {
   "cell_type": "code",
   "execution_count": null,
   "metadata": {
    "execution": {
     "iopub.execute_input": "2021-01-26T09:17:47.366171Z",
     "iopub.status.busy": "2021-01-26T09:17:47.365684Z",
     "iopub.status.idle": "2021-01-26T09:17:47.387917Z",
     "shell.execute_reply": "2021-01-26T09:17:47.388478Z"
    }
   },
   "outputs": [],
   "source": [
    "loss_e, _ = loss_fn_e(test_batch, test_action_scores)\n",
    "print('loss = ', loss_e)\n",
    "\n",
    "test.assertAlmostEqual(loss_e.item(), -0.8103, delta=1e-2)"
   ]
  },
  {
   "cell_type": "markdown",
   "metadata": {},
   "source": [
    "### Training"
   ]
  },
  {
   "cell_type": "markdown",
   "metadata": {},
   "source": [
    "We'll implement our training procedure as follows:\n",
    "\n",
    "1. Initialize the current policy to be a random policy.\n",
    "1. Sample $N$ trajectories from the environment using the current policy.\n",
    "2. Calculate the estimated $q$-values, $\\hat{q}_{i,t} = \\sum_{t'\\geq t} \\gamma^{t'}r_{i,t'+1}$ for each trajectory $i$.\n",
    "3. Calculate policy gradient estimate $\\hat\\grad\\mathcal{L}(\\vec{\\theta})$ as defined above.\n",
    "4. Perform SGD update $\\vec{\\theta}\\leftarrow\\vec{\\theta}-\\eta\\hat\\grad\\mathcal{L}(\\vec{\\theta})$.\n",
    "5. Repeat from step 2.\n",
    "\n",
    "This is known as the **REINFORCE** algorithm."
   ]
  },
  {
   "cell_type": "markdown",
   "metadata": {},
   "source": [
    "Fortunately, we've already implemented everything we need for steps 1-4 so we need only a bit more code to put it all together.\n",
    "\n",
    "The following block implements a wrapper, `train_pg` to create all the objects we need in order to train our policy gradient model.\n"
   ]
  },
  {
   "cell_type": "code",
   "execution_count": null,
   "metadata": {
    "execution": {
     "iopub.execute_input": "2021-01-26T09:17:47.396286Z",
     "iopub.status.busy": "2021-01-26T09:17:47.395771Z",
     "iopub.status.idle": "2021-01-26T09:17:47.418234Z",
     "shell.execute_reply": "2021-01-26T09:17:47.418597Z"
    }
   },
   "outputs": [],
   "source": [
    "import hw4.answers\n",
    "from functools import partial\n",
    "\n",
    "ENV_NAME = \"Beresheet-v2\"\n",
    "\n",
    "def agent_fn_train(agent_type, p_net, seed, envs_dict):\n",
    "    winfo = torch.utils.data.get_worker_info()\n",
    "    wid = winfo.id if winfo else 0\n",
    "    seed = seed + wid if seed else wid\n",
    "\n",
    "    env = gym.make(ENV_NAME)\n",
    "    envs_dict[wid] = env\n",
    "    env.seed(seed)\n",
    "    np.random.seed(seed)\n",
    "    torch.manual_seed(seed)\n",
    "\n",
    "    return agent_type(env, p_net)\n",
    "\n",
    "def train_rl(agent_type, net_type, loss_fns, hp, seed=None, checkpoints_file=None, **train_kw):\n",
    "    print(f'hyperparams: {hp}')\n",
    "    \n",
    "    envs = {}\n",
    "    p_net = net_type(ENV_N_OBSERVATIONS, ENV_N_ACTIONS, **hp)\n",
    "    p_net.share_memory()\n",
    "    agent_fn = partial(agent_fn_train, agent_type, p_net, seed, envs)\n",
    "    \n",
    "    dataset = hw4data.TrainBatchDataset(agent_fn, hp['batch_size'], hp['gamma'])\n",
    "    dataloader = DataLoader(\n",
    "        dataset, batch_size=None, num_workers=hp['num_workers'],\n",
    "        multiprocessing_context='fork' if hp['num_workers'] > 0 else None\n",
    "    )\n",
    "    optimizer = optim.Adam(p_net.parameters(), lr=hp['learn_rate'], eps=hp['eps'])\n",
    "    \n",
    "    trainer = hw4pg.PolicyTrainer(p_net, optimizer, loss_fns, dataloader, checkpoints_file)\n",
    "    try:\n",
    "        trainer.train(**train_kw)\n",
    "    except KeyboardInterrupt as e:\n",
    "        print('Training interrupted by user.')\n",
    "    finally:\n",
    "        for env in envs.values():\n",
    "            env.close()\n",
    "\n",
    "    # Include final model state\n",
    "    training_data = trainer.training_data\n",
    "    training_data['model_state'] = p_net.state_dict()\n",
    "    return training_data\n",
    "    \n",
    "def train_pg(baseline=False, entropy=False, **train_kwargs):\n",
    "    hp = hw4.answers.part1_pg_hyperparams()\n",
    "    \n",
    "    loss_fns = []\n",
    "    if baseline:\n",
    "        loss_fns.append(hw4pg.BaselinePolicyGradientLoss())\n",
    "    else:\n",
    "        loss_fns.append(hw4pg.VanillaPolicyGradientLoss())\n",
    "    if entropy:\n",
    "        loss_fns.append(hw4pg.ActionEntropyLoss(ENV_N_ACTIONS, hp['beta']))\n",
    "\n",
    "    return train_rl(hw4pg.PolicyAgent, hw4pg.PolicyNet, loss_fns, hp, **train_kwargs)"
   ]
  },
  {
   "cell_type": "markdown",
   "metadata": {},
   "source": [
    "The `PolicyTrainer` class implements the training loop, collects the losses and rewards and provides some useful checkpointing functionality.\n",
    "The training loop will generate batches of episodes and train on them until either:\n",
    "- The average total reward from the last `running_mean_len` episodes is greater than the `target_reward`, OR\n",
    "- The number of generated episodes reached `max_episodes`.\n",
    "\n",
    "Most of this class is already implemented for you. "
   ]
  },
  {
   "cell_type": "markdown",
   "metadata": {},
   "source": [
    "**TODO**:\n",
    "1. Complete the training loop by implementing the `train_batch()` method of the `PolicyTrainer`.\n",
    "2. Tweak the hyperparameters in the `part1_pg_hyperparams()` function within the `hw4/answers.py` module as needed. You get some sane defaults."
   ]
  },
  {
   "cell_type": "markdown",
   "metadata": {},
   "source": [
    "Let's check whether our model is actually training.\n",
    "We'll try to reach a very low (bad) target reward, just as a sanity check to see that training works.\n",
    "Your model should be able to reach this target reward within a few batches.\n",
    "\n",
    "You can increase the target reward and use this block to manually tweak your model and hyperparameters a few times."
   ]
  },
  {
   "cell_type": "code",
   "execution_count": null,
   "metadata": {
    "execution": {
     "iopub.execute_input": "2021-01-26T09:17:47.422376Z",
     "iopub.status.busy": "2021-01-26T09:17:47.421884Z",
     "iopub.status.idle": "2021-01-26T09:18:02.404013Z",
     "shell.execute_reply": "2021-01-26T09:18:02.404808Z"
    }
   },
   "outputs": [],
   "source": [
    "target_reward = -140 # VERY LOW target\n",
    "train_data = train_pg(target_reward=target_reward, seed=SEED, max_episodes=2000, running_mean_len=10)\n",
    "\n",
    "test.assertGreater(train_data['mean_reward'][-1], target_reward)"
   ]
  },
  {
   "cell_type": "markdown",
   "metadata": {},
   "source": [
    "### Experimenting with different losses"
   ]
  },
  {
   "cell_type": "markdown",
   "metadata": {},
   "source": [
    "We'll now run a few experiments to see the effect of diferent loss functions on the training dynamics. Namely, we'll try:\n",
    "1. Vanilla PG (`vpg`): No baseline, no entropy\n",
    "2. Baseline PG (`bpg`): Baseline, no entropy loss\n",
    "3. Entropy PG (`epg`): No baseline, with entropy loss\n",
    "3. Combined PG (`cpg`): Baseline, with entropy loss"
   ]
  },
  {
   "cell_type": "code",
   "execution_count": null,
   "metadata": {
    "execution": {
     "iopub.execute_input": "2021-01-26T09:18:02.409353Z",
     "iopub.status.busy": "2021-01-26T09:18:02.408844Z",
     "iopub.status.idle": "2021-01-26T09:18:02.432680Z",
     "shell.execute_reply": "2021-01-26T09:18:02.433225Z"
    }
   },
   "outputs": [],
   "source": [
    "from collections import namedtuple\n",
    "from pprint import pprint\n",
    "import itertools as it\n",
    "\n",
    "\n",
    "ExpConfig = namedtuple('ExpConfig', ('name','baseline','entropy'))\n",
    "\n",
    "def exp_configs():\n",
    "    exp_names = ('vpg', 'epg', 'bpg', 'cpg')\n",
    "    z = zip(exp_names, it.product((False, True), (False, True)))\n",
    "    return (ExpConfig(n, b, e) for (n, (b, e)) in z)\n",
    "\n",
    "pprint(list(exp_configs()))"
   ]
  },
  {
   "cell_type": "markdown",
   "metadata": {},
   "source": [
    "We'll save the training data from each experiment for plotting."
   ]
  },
  {
   "cell_type": "code",
   "execution_count": null,
   "metadata": {
    "execution": {
     "iopub.execute_input": "2021-01-26T09:18:02.436825Z",
     "iopub.status.busy": "2021-01-26T09:18:02.436330Z",
     "iopub.status.idle": "2021-01-26T09:18:02.457748Z",
     "shell.execute_reply": "2021-01-26T09:18:02.458103Z"
    }
   },
   "outputs": [],
   "source": [
    "import pickle\n",
    "\n",
    "def dump_training_data(data, filename):\n",
    "    os.makedirs(os.path.dirname(filename), exist_ok=True)\n",
    "    with open(filename, mode='wb') as file:\n",
    "        pickle.dump(data, file)\n",
    "        \n",
    "def load_training_data(filename):\n",
    "    with open(filename, mode='rb') as file:\n",
    "        return pickle.load(file)"
   ]
  },
  {
   "cell_type": "markdown",
   "metadata": {},
   "source": [
    "Let's run the experiments! We'll run each configuration for a fixed number of episodes so that we can compare them.\n",
    "\n",
    "Notes:\n",
    "1. Until your models start working, you can decrease the number of episodes for each experiment, or only run one experiment.\n",
    "2.  The results will be saved in a file. To re-run the experiments, you can set `force_run` to `True`."
   ]
  },
  {
   "cell_type": "code",
   "execution_count": null,
   "metadata": {
    "execution": {
     "iopub.execute_input": "2021-01-26T09:18:02.462232Z",
     "iopub.status.busy": "2021-01-26T09:18:02.461744Z",
     "iopub.status.idle": "2021-01-26T09:18:02.499868Z",
     "shell.execute_reply": "2021-01-26T09:18:02.500465Z"
    }
   },
   "outputs": [],
   "source": [
    "import math\n",
    "\n",
    "exp_max_episodes = 4000\n",
    "\n",
    "results = {}\n",
    "training_data_filename = os.path.join('results', f'part1_exp.dat')\n",
    "\n",
    "# Set to True to force re-run (careful! will delete old experiment results)\n",
    "force_run = False\n",
    "\n",
    "# Skip running if results file exists.\n",
    "if os.path.isfile(training_data_filename) and not force_run:\n",
    "    print(f'=== results file {training_data_filename} exists, skipping experiments.')\n",
    "    results = load_training_data(training_data_filename)\n",
    "    \n",
    "else:\n",
    "    for n, b, e in exp_configs():\n",
    "        print(f'=== Experiment {n}')\n",
    "        results[n] = train_pg(baseline=b, entropy=e, max_episodes=exp_max_episodes, post_batch_fn=None)\n",
    "        \n",
    "    dump_training_data(results, training_data_filename)"
   ]
  },
  {
   "cell_type": "code",
   "execution_count": null,
   "metadata": {
    "execution": {
     "iopub.execute_input": "2021-01-26T09:18:02.505328Z",
     "iopub.status.busy": "2021-01-26T09:18:02.504831Z",
     "iopub.status.idle": "2021-01-26T09:18:03.109900Z",
     "shell.execute_reply": "2021-01-26T09:18:03.110429Z"
    }
   },
   "outputs": [],
   "source": [
    "def plot_experiment_results(results, fig=None):\n",
    "    if fig is None:\n",
    "        fig, _ = plt.subplots(nrows=2, ncols=2, sharex=True, figsize=(18,12))\n",
    "    for i, plot_type in enumerate(('loss_p', 'baseline', 'loss_e', 'mean_reward')):\n",
    "        ax = fig.axes[i]\n",
    "        for exp_name, exp_res in results.items():\n",
    "            if plot_type not in exp_res:\n",
    "                continue\n",
    "            ax.plot(exp_res['episode_num'], exp_res[plot_type], label=exp_name)\n",
    "        ax.set_title(plot_type)\n",
    "        ax.set_xlabel('episode')\n",
    "        ax.legend()\n",
    "    return fig\n",
    "    \n",
    "experiments_results_fig = plot_experiment_results(results)"
   ]
  },
  {
   "cell_type": "markdown",
   "metadata": {},
   "source": [
    "You should see positive training dynamics in the graphs (reward going up).\n",
    "If you don't, use them to further update your model or hyperparams.\n",
    "\n",
    "To pass the test, you'll need to get a best total mean reward of at least 10 in the fixed number of epochs using the combined loss.\n",
    "It's possible to get much higher (over 100)."
   ]
  },
  {
   "cell_type": "code",
   "execution_count": null,
   "metadata": {
    "execution": {
     "iopub.execute_input": "2021-01-26T09:18:03.113686Z",
     "iopub.status.busy": "2021-01-26T09:18:03.113197Z",
     "iopub.status.idle": "2021-01-26T09:18:03.137262Z",
     "shell.execute_reply": "2021-01-26T09:18:03.137802Z"
    }
   },
   "outputs": [],
   "source": [
    "best_cpg_mean_reward = max(results['cpg']['mean_reward'])\n",
    "print(f'Best CPG mean reward: {best_cpg_mean_reward:.2f}')\n",
    "\n",
    "test.assertGreater(best_cpg_mean_reward, 10)"
   ]
  },
  {
   "cell_type": "markdown",
   "metadata": {},
   "source": [
    "Now let's take a look at a gameplay video of our `cpg` model after the short training!"
   ]
  },
  {
   "cell_type": "code",
   "execution_count": null,
   "metadata": {
    "execution": {
     "iopub.execute_input": "2021-01-26T09:18:03.141412Z",
     "iopub.status.busy": "2021-01-26T09:18:03.140807Z",
     "iopub.status.idle": "2021-01-26T09:18:08.250584Z",
     "shell.execute_reply": "2021-01-26T09:18:08.251102Z"
    }
   },
   "outputs": [],
   "source": [
    "hp = hw4.answers.part1_pg_hyperparams()\n",
    "p_net_cpg = hw4pg.PolicyNet.build_for_env(env, **hp)\n",
    "p_net_cpg.load_state_dict(results['cpg']['model_state'])\n",
    "\n",
    "env, n_steps, reward = hw4pg.PolicyAgent.monitor_episode(ENV_NAME, p_net_cpg)\n",
    "print(f'{n_steps} steps, total reward: {reward:.2f}')\n",
    "show_monitor_video(env)"
   ]
  },
  {
   "cell_type": "markdown",
   "metadata": {},
   "source": [
    "## Advantage Actor-Critic (AAC)\n",
    "<a id=part1_2></a>"
   ]
  },
  {
   "cell_type": "markdown",
   "metadata": {},
   "source": [
    "We have seen that the policy-gradient loss can be interpreted as a log-likelihood of the policy term\n",
    "(selecting a specific action at a specific state), weighted by the future rewards of that choice of action.\n",
    "\n",
    "However, naïvely weighting by rewards has significant drawbacks in terms of the variance of the resulting gradient.\n",
    "We addressed this by adding a simple baseline term which represented our \"expected reward\" so that we increase probability of actions\n",
    "leading to trajectories which exceed this expectation and vice-versa.\n",
    "\n",
    "In this part we'll explore a more powerful baseline, which is the idea behind the AAC method."
   ]
  },
  {
   "cell_type": "markdown",
   "metadata": {},
   "source": [
    "### The advantage function"
   ]
  },
  {
   "cell_type": "markdown",
   "metadata": {},
   "source": [
    "Recall the definition of the state-value function $v_{\\pi}(s)$ and action-value function $q_{\\pi}(s,a)$:\n",
    "\n",
    "$$\n",
    "\\begin{align}\n",
    "v_{\\pi}(s) &= \\E{g(\\tau)|s_0 = s,\\pi} \\\\\n",
    "q_{\\pi}(s,a) &= \\E{g(\\tau)|s_0 = s,a_0=a,\\pi}.\n",
    "\\end{align}\n",
    "$$\n",
    "\n",
    "Both these functions represent the value of the state $s$. However, $v_\\pi$ averages over the first action according to the policy,\n",
    "while $q_\\pi$ fixes the first action and then continues according to the policy."
   ]
  },
  {
   "cell_type": "markdown",
   "metadata": {},
   "source": [
    "Their difference is known as the **advantage function**:\n",
    "$$\n",
    "a_\\pi(s,a) = q_\\pi(s,a)-v_\\pi(s).\n",
    "$$\n",
    "\n",
    "If $a_\\pi(s,a)>0$ it means that it's better (in expectation) to take action $a$ in state $s$ compared to the average action.\n",
    "In other words, $a_\\pi(s,a)$ represents the *advantage* of using action $a$ in state $s$ compared to the others."
   ]
  },
  {
   "cell_type": "markdown",
   "metadata": {},
   "source": [
    "So far we have used an estimate for $q_\\pi$ as our weighting term for the log-policy, with a fixed baseline per batch.\n",
    "\n",
    "$$\n",
    "\\hat\\grad\\mathcal{L}_{\\text{BPG}}(\\vec{\\theta})\n",
    "=-\\frac{1}{N}\\sum_{i=1}^{N}\\sum_{t\\geq0} \\left(\\hat{q}_{i,t}-b\\right) \\grad\\log \\pi_{\\vec{\\theta}}(a_{i,t}|s_{i,t}).\n",
    "$$\n"
   ]
  },
  {
   "cell_type": "markdown",
   "metadata": {},
   "source": [
    "Now, we will use the state value as a baseline, so that an estimate of the advantage function is our weighting term:\n",
    "\n",
    "$$\n",
    "\\hat\\grad\\mathcal{L}_{\\text{AAC}}(\\vec{\\theta})\n",
    "=-\\frac{1}{N}\\sum_{i=1}^{N}\\sum_{t\\geq0} \\left(\\hat{q}_{i,t}-v_\\pi(s_t)\\right) \\grad\\log \\pi_{\\vec{\\theta}}(a_{i,t}|s_{i,t}).\n",
    "$$\n",
    "\n",
    "Intuitively, using the advantage function makes sense because it means we're weighting our policy's actions according to\n",
    "how advantageous they are compared to other possible actions."
   ]
  },
  {
   "cell_type": "markdown",
   "metadata": {},
   "source": [
    "But how will we know $v_\\pi(s)$? We'll learn it of course, using another neural network.\n",
    "This is known as actor-critic learning. We simultaneously learn the policy (actor) and the value of states (critic).\n",
    "We'll treat it as a regression task: given a state $s_t$, our state-value network will output $\\hat{v}_\\pi(s_t)$,\n",
    "an estimate of the actual unknown state-value.\n",
    "Our regression targets will be the discounted rewards, $\\hat{q}_{i,t}$ (see question 2),\n",
    "and we can use a simple MSE as the loss function,\n",
    "$$\n",
    "\\mathcal{L}_{\\text{SV}} = \\frac{1}{N}\\sum_{i=1}^{N}\\sum_{t\\geq0}\\left(\\hat{v}_\\pi(s_t) - \\hat{q}_{i,t}\\right)^2.\n",
    "$$\n"
   ]
  },
  {
   "cell_type": "markdown",
   "metadata": {},
   "source": [
    "### Implementation"
   ]
  },
  {
   "cell_type": "markdown",
   "metadata": {},
   "source": [
    "We'll build heavily on our implementation of the regular policy-gradient method, and just add a new model class and a new loss class, with a small modification to the agent."
   ]
  },
  {
   "cell_type": "markdown",
   "metadata": {},
   "source": [
    "Let's start with the model. It will accept a state, and return action scores (as before), but also the value of that state.\n",
    "You can experiment with a dual-head network that has a shared base, or implement two separate parts within the network.\n",
    "\n",
    "**TODO**:\n",
    "1. Implement the model as the `AACPolicyNet` class in the `hw4/rl_ac.py` module.\n",
    "1. Set the hyperparameters in the `part1_aac_hyperparams()` function of the `hw4.answers` module."
   ]
  },
  {
   "cell_type": "code",
   "execution_count": null,
   "metadata": {
    "execution": {
     "iopub.execute_input": "2021-01-26T09:18:08.255291Z",
     "iopub.status.busy": "2021-01-26T09:18:08.254804Z",
     "iopub.status.idle": "2021-01-26T09:18:08.283042Z",
     "shell.execute_reply": "2021-01-26T09:18:08.282479Z"
    }
   },
   "outputs": [],
   "source": [
    "import hw4.rl_ac as hw4ac\n",
    "\n",
    "hp = hw4.answers.part1_aac_hyperparams()\n",
    "pv_net = hw4ac.AACPolicyNet.build_for_env(env, device, **hp)\n",
    "pv_net"
   ]
  },
  {
   "cell_type": "markdown",
   "metadata": {},
   "source": [
    "**TODO**: Complete the implementation of the agent class, `AACPolicyAgent`, in the `hw4/rl_ac.py` module."
   ]
  },
  {
   "cell_type": "code",
   "execution_count": null,
   "metadata": {
    "execution": {
     "iopub.execute_input": "2021-01-26T09:18:08.286379Z",
     "iopub.status.busy": "2021-01-26T09:18:08.285898Z",
     "iopub.status.idle": "2021-01-26T09:18:08.308713Z",
     "shell.execute_reply": "2021-01-26T09:18:08.309268Z"
    }
   },
   "outputs": [],
   "source": [
    "agent = hw4ac.AACPolicyAgent(env, pv_net, device)\n",
    "exp = agent.step()\n",
    "\n",
    "test.assertIsInstance(exp, hw4pg.Experience)\n",
    "print(exp)"
   ]
  },
  {
   "cell_type": "markdown",
   "metadata": {},
   "source": [
    "**TODO**: Implement the AAC loss function as the class `AACPolicyGradientLoss` in the `hw4/rl_ac.py` module."
   ]
  },
  {
   "cell_type": "code",
   "execution_count": null,
   "metadata": {
    "execution": {
     "iopub.execute_input": "2021-01-26T09:18:08.312928Z",
     "iopub.status.busy": "2021-01-26T09:18:08.312402Z",
     "iopub.status.idle": "2021-01-26T09:18:08.334794Z",
     "shell.execute_reply": "2021-01-26T09:18:08.335304Z"
    }
   },
   "outputs": [],
   "source": [
    "loss_fn_aac = hw4ac.AACPolicyGradientLoss(delta=1.)\n",
    "test_state_values = torch.ones(test_action_scores.shape[0], 1)\n",
    "loss_t, loss_dict = loss_fn_aac(test_batch, (test_action_scores, test_state_values))\n",
    "\n",
    "print(f'{loss_dict=}')\n",
    "test.assertAlmostEqual(loss_dict['adv_m'], -23.191, delta=1e-2)\n",
    "test.assertAlmostEqual(loss_t.item(), 1183.948, delta=1e-2)"
   ]
  },
  {
   "cell_type": "markdown",
   "metadata": {},
   "source": [
    "### Experimentation"
   ]
  },
  {
   "cell_type": "markdown",
   "metadata": {},
   "source": [
    "Let's run the same experiment as before, but with the AAC method and compare the results."
   ]
  },
  {
   "cell_type": "code",
   "execution_count": null,
   "metadata": {
    "execution": {
     "iopub.execute_input": "2021-01-26T09:18:08.338840Z",
     "iopub.status.busy": "2021-01-26T09:18:08.338306Z",
     "iopub.status.idle": "2021-01-26T09:18:08.359046Z",
     "shell.execute_reply": "2021-01-26T09:18:08.359560Z"
    }
   },
   "outputs": [],
   "source": [
    "def train_aac(baseline=False, entropy=False, **train_kwargs):\n",
    "    hp = hw4.answers.part1_aac_hyperparams()\n",
    "    loss_fns = [hw4ac.AACPolicyGradientLoss(hp['delta']), hw4pg.ActionEntropyLoss(ENV_N_ACTIONS, hp['beta'])]\n",
    "    return train_rl(hw4ac.AACPolicyAgent, hw4ac.AACPolicyNet, loss_fns, hp, **train_kwargs)"
   ]
  },
  {
   "cell_type": "code",
   "execution_count": null,
   "metadata": {
    "execution": {
     "iopub.execute_input": "2021-01-26T09:18:08.363152Z",
     "iopub.status.busy": "2021-01-26T09:18:08.362656Z",
     "iopub.status.idle": "2021-01-26T09:18:08.391276Z",
     "shell.execute_reply": "2021-01-26T09:18:08.391794Z"
    }
   },
   "outputs": [],
   "source": [
    "training_data_filename = os.path.join('results', f'part1_exp_aac.dat')\n",
    "\n",
    "# Set to True to force re-run (careful, will delete old experiment results)\n",
    "force_run = False\n",
    "\n",
    "if os.path.isfile(training_data_filename) and not force_run:\n",
    "    print(f'=== results file {training_data_filename} exists, skipping experiments.')\n",
    "    results_aac = load_training_data(training_data_filename)\n",
    "    \n",
    "else:\n",
    "    print(f'=== Running AAC experiment')\n",
    "    training_data = train_aac(max_episodes=exp_max_episodes)\n",
    "    results_aac = dict(aac=training_data)\n",
    "    dump_training_data(results_aac, training_data_filename)"
   ]
  },
  {
   "cell_type": "code",
   "execution_count": null,
   "metadata": {
    "execution": {
     "iopub.execute_input": "2021-01-26T09:18:08.394569Z",
     "iopub.status.busy": "2021-01-26T09:18:08.394076Z",
     "iopub.status.idle": "2021-01-26T09:18:09.418890Z",
     "shell.execute_reply": "2021-01-26T09:18:09.419393Z"
    }
   },
   "outputs": [],
   "source": [
    "experiments_results_fig = plot_experiment_results(results)\n",
    "plot_experiment_results(results_aac, fig=experiments_results_fig);"
   ]
  },
  {
   "cell_type": "markdown",
   "metadata": {},
   "source": [
    "You should get better results with the AAC method, so this time the bar is higher (again, you should aim for a mean reward of 100+).\n",
    "Compare the graphs with combined PG method and see if they make sense."
   ]
  },
  {
   "cell_type": "code",
   "execution_count": null,
   "metadata": {
    "execution": {
     "iopub.execute_input": "2021-01-26T09:18:09.422570Z",
     "iopub.status.busy": "2021-01-26T09:18:09.422108Z",
     "iopub.status.idle": "2021-01-26T09:18:09.447846Z",
     "shell.execute_reply": "2021-01-26T09:18:09.447311Z"
    }
   },
   "outputs": [],
   "source": [
    "best_aac_mean_reward = max(results_aac['aac']['mean_reward'])\n",
    "print(f'Best AAC mean reward: {best_aac_mean_reward:.2f}')\n",
    "\n",
    "test.assertGreater(best_aac_mean_reward, 50)"
   ]
  },
  {
   "cell_type": "markdown",
   "metadata": {},
   "source": [
    "### Final model training and visualization"
   ]
  },
  {
   "cell_type": "markdown",
   "metadata": {},
   "source": [
    "Now, using your best model and hyperparams, let's train model for much longer and see the performance.\n",
    "Just for fun, we'll also visualize an episode every now and then so that we can see how well the agent is playing."
   ]
  },
  {
   "cell_type": "markdown",
   "metadata": {},
   "source": [
    "**TODO**:\n",
    "- Run the following block to train.\n",
    "- Tweak model or hyperparams as necessary.\n",
    "- Aim for high mean reward, at least 150+. It's possible to get over 200.\n",
    "- When training is done and you're satisfied with the model's outputs, rename the checkpoint file by adding `_final` to the file name.\n",
    "  This will cause the block to skip training and instead load your saved model when running the homework submission script.\n",
    "  Note that your submission zip file will not include the checkpoint file. This is OK."
   ]
  },
  {
   "cell_type": "code",
   "execution_count": null,
   "metadata": {
    "execution": {
     "iopub.execute_input": "2021-01-26T09:18:09.455548Z",
     "iopub.status.busy": "2021-01-26T09:18:09.455018Z",
     "iopub.status.idle": "2021-01-26T09:18:13.342220Z",
     "shell.execute_reply": "2021-01-26T09:18:13.342741Z"
    }
   },
   "outputs": [],
   "source": [
    "import IPython.display\n",
    "\n",
    "CHECKPOINTS_FILE = f'checkpoints/{ENV_NAME}-ac.dat'\n",
    "CHECKPOINTS_FILE_FINAL = f'checkpoints/{ENV_NAME}-ac_final.dat'\n",
    "TARGET_REWARD = 125\n",
    "MAX_EPISODES = 15_000\n",
    "\n",
    "def post_batch_fn(batch_idx, p_net, batch, print_every=20, final=False):\n",
    "    if not final and batch_idx % print_every != 0:\n",
    "        return\n",
    "    env, n_steps, reward = hw4ac.AACPolicyAgent.monitor_episode(ENV_NAME, p_net)\n",
    "    html = show_monitor_video(env, width=\"500\")\n",
    "    IPython.display.clear_output(wait=True)\n",
    "    print(f'Monitor@#{batch_idx}: n_steps={n_steps}, total_reward={reward:.3f}, final={final}')\n",
    "    IPython.display.display_html(html)\n",
    "    \n",
    "    \n",
    "if os.path.isfile(CHECKPOINTS_FILE_FINAL):\n",
    "    print(f'=== {CHECKPOINTS_FILE_FINAL} exists, skipping training...')\n",
    "    checkpoint_data = torch.load(CHECKPOINTS_FILE_FINAL)\n",
    "    hp = hw4.answers.part1_aac_hyperparams()\n",
    "    pv_net = hw4ac.AACPolicyNet.build_for_env(env, **hp)\n",
    "    pv_net.load_state_dict(checkpoint_data['params'])\n",
    "    print(f'=== Running best model...')\n",
    "    env, n_steps, reward = hw4ac.AACPolicyAgent.monitor_episode(ENV_NAME, pv_net)\n",
    "    print(f'=== Best model ran for {n_steps} steps. Total reward: {reward:.2f}')\n",
    "    IPython.display.display_html(show_monitor_video(env))\n",
    "    best_mean_reward = checkpoint_data[\"best_mean_reward\"]\n",
    "else:\n",
    "    print(f'=== Starting training...')\n",
    "    train_data = train_aac(TARGET_REWARD, max_episodes=MAX_EPISODES,\n",
    "                           seed=None, checkpoints_file=CHECKPOINTS_FILE, post_batch_fn=post_batch_fn)\n",
    "    print(f'=== Done, ', end='')\n",
    "    best_mean_reward = train_data[\"best_mean_reward\"][-1]\n",
    "    print(f'num_episodes={train_data[\"episode_num\"][-1]}, best_mean_reward={best_mean_reward:.1f}')\n",
    "          \n",
    "test.assertGreaterEqual(best_mean_reward, TARGET_REWARD)"
   ]
  },
  {
   "cell_type": "markdown",
   "metadata": {},
   "source": [
    "## Questions\n",
    "<a id=part1_3></a>"
   ]
  },
  {
   "cell_type": "markdown",
   "metadata": {},
   "source": [
    "**TODO**: Answer the following questions. Write your answers in the appropriate variables in the module `hw4/answers.py`."
   ]
  },
  {
   "cell_type": "code",
   "execution_count": null,
   "metadata": {
    "execution": {
     "iopub.execute_input": "2021-01-26T09:18:13.346023Z",
     "iopub.status.busy": "2021-01-26T09:18:13.345546Z",
     "iopub.status.idle": "2021-01-26T09:18:13.371344Z",
     "shell.execute_reply": "2021-01-26T09:18:13.371698Z"
    }
   },
   "outputs": [],
   "source": [
    "from cs236781.answers import display_answer\n",
    "import hw4.answers"
   ]
  },
  {
   "cell_type": "markdown",
   "metadata": {},
   "source": [
    "### Question 1\n",
    "\n",
    "Explain qualitatively why subtracting a baseline in the policy-gradient helps reduce it's variance.\n",
    "Specifically, give an example where it helps."
   ]
  },
  {
   "cell_type": "code",
   "execution_count": null,
   "metadata": {
    "execution": {
     "iopub.execute_input": "2021-01-26T09:18:13.374868Z",
     "iopub.status.busy": "2021-01-26T09:18:13.374386Z",
     "iopub.status.idle": "2021-01-26T09:18:13.396776Z",
     "shell.execute_reply": "2021-01-26T09:18:13.397289Z"
    }
   },
   "outputs": [],
   "source": [
    "display_answer(hw4.answers.part1_q1)"
   ]
  },
  {
   "cell_type": "markdown",
   "metadata": {},
   "source": [
    "### Question 2\n",
    "\n",
    "In AAC, when using the estimated q-values as regression targets for our state-values, why do we get a valid approximation?\n",
    "Hint: how is $v_\\pi(s)$ expressed in terms of $q_\\pi(s,a)$?"
   ]
  },
  {
   "cell_type": "code",
   "execution_count": null,
   "metadata": {
    "execution": {
     "iopub.execute_input": "2021-01-26T09:18:13.400191Z",
     "iopub.status.busy": "2021-01-26T09:18:13.399648Z",
     "iopub.status.idle": "2021-01-26T09:18:13.421561Z",
     "shell.execute_reply": "2021-01-26T09:18:13.422116Z"
    }
   },
   "outputs": [],
   "source": [
    "display_answer(hw4.answers.part1_q2)"
   ]
  },
  {
   "cell_type": "markdown",
   "metadata": {},
   "source": [
    "### Question 3\n",
    "\n",
    "1. Analyze and explain the graphs you got in first experiment run.\n",
    "2. Compare the experiment graphs you got with the AAC method to the regular PG method (`cpg`)."
   ]
  },
  {
   "cell_type": "code",
   "execution_count": null,
   "metadata": {
    "execution": {
     "iopub.execute_input": "2021-01-26T09:18:13.425046Z",
     "iopub.status.busy": "2021-01-26T09:18:13.424576Z",
     "iopub.status.idle": "2021-01-26T09:18:13.446311Z",
     "shell.execute_reply": "2021-01-26T09:18:13.446861Z"
    }
   },
   "outputs": [],
   "source": [
    "display_answer(hw4.answers.part1_q3)"
   ]
  }
 ],
 "metadata": {
  "kernelspec": {
   "display_name": "Python 3",
   "language": "python",
   "name": "python3"
  },
  "language_info": {
   "codemirror_mode": {
    "name": "ipython",
    "version": 3
   },
   "file_extension": ".py",
   "mimetype": "text/x-python",
   "name": "python",
   "nbconvert_exporter": "python",
   "pygments_lexer": "ipython3",
   "version": "3.8.6"
  }
 },
 "nbformat": 4,
 "nbformat_minor": 4
}
