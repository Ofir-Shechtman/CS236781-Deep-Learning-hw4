{
 "cells": [
  {
   "cell_type": "markdown",
   "metadata": {},
   "source": [
    "$$\n",
    "\\newcommand{\\mat}[1]{\\boldsymbol {#1}}\n",
    "\\newcommand{\\mattr}[1]{\\boldsymbol {#1}^\\top}\n",
    "\\newcommand{\\matinv}[1]{\\boldsymbol {#1}^{-1}}\n",
    "\\newcommand{\\vec}[1]{\\boldsymbol {#1}}\n",
    "\\newcommand{\\vectr}[1]{\\boldsymbol {#1}^\\top}\n",
    "\\newcommand{\\rvar}[1]{\\mathrm {#1}}\n",
    "\\newcommand{\\rvec}[1]{\\boldsymbol{\\mathrm{#1}}}\n",
    "\\newcommand{\\diag}{\\mathop{\\mathrm {diag}}}\n",
    "\\newcommand{\\set}[1]{\\mathbb {#1}}\n",
    "\\newcommand{\\cset}[1]{\\mathcal{#1}}\n",
    "\\newcommand{\\norm}[1]{\\left\\lVert#1\\right\\rVert}\n",
    "\\newcommand{\\pderiv}[2]{\\frac{\\partial #1}{\\partial #2}}\n",
    "\\newcommand{\\bb}[1]{\\boldsymbol{#1}}\n",
    "\\newcommand{\\E}[2][]{\\mathbb{E}_{#1}\\left[#2\\right]}\n",
    "\\newcommand{\\ip}[3]{\\left<#1,#2\\right>_{#3}}\n",
    "\\newcommand{\\given}[]{\\,\\middle\\vert\\,}\n",
    "\\newcommand{\\DKL}[2]{\\cset{D}_{\\text{KL}}\\left(#1\\,\\Vert\\, #2\\right)}\n",
    "\\newcommand{\\grad}[]{\\nabla}\n",
    "$$\n",
    "# Part 1: Deep Reinforcement Learning\n",
    "<a id=part1></a>"
   ]
  },
  {
   "cell_type": "markdown",
   "metadata": {},
   "source": [
    "In the tutorial we have seen value-based reinforcement learning, in which we learn to approximate the action-value function $q(s,a)$.\n",
    "\n",
    "In this exercise we'll explore a different approach, directly learning the agent's policy distribution, $\\pi(a|s)$\n",
    "by using *policy gradients*, in order to safely land on the moon!"
   ]
  },
  {
   "cell_type": "code",
   "execution_count": 3,
   "metadata": {},
   "outputs": [
    {
     "name": "stdout",
     "output_type": "stream",
     "text": [
      "The autoreload extension is already loaded. To reload it, use:\n",
      "  %reload_ext autoreload\n"
     ]
    }
   ],
   "source": [
    "%load_ext autoreload\n",
    "%autoreload 2\n",
    "%matplotlib inline\n",
    "\n",
    "import unittest\n",
    "import os\n",
    "import sys\n",
    "import pathlib\n",
    "import urllib\n",
    "import shutil\n",
    "import re\n",
    "\n",
    "import numpy as np\n",
    "import torch\n",
    "import torch.nn as nn\n",
    "import torch.optim as optim\n",
    "import matplotlib.pyplot as plt"
   ]
  },
  {
   "cell_type": "code",
   "execution_count": 4,
   "metadata": {},
   "outputs": [
    {
     "name": "stdout",
     "output_type": "stream",
     "text": [
      "Using device: cpu\n"
     ]
    }
   ],
   "source": [
    "test = unittest.TestCase()\n",
    "plt.rcParams.update({'font.size': 12})\n",
    "device = torch.device('cuda' if torch.cuda.is_available() else 'cpu')\n",
    "\n",
    "# Prefer CPU, GPU won't help much in this assignment\n",
    "device = 'cpu'\n",
    "print('Using device:', device)\n",
    "\n",
    "# Seed for deterministic tests\n",
    "SEED = 42"
   ]
  },
  {
   "cell_type": "markdown",
   "metadata": {},
   "source": [
    "Some technical notes before we begin:\n",
    "\n",
    "- This part does not require a GPU. We won't need large models, and the computation bottleneck will be the generation of episodes to train on.\n",
    "- In order to run this notebook on the server, you must prepend the `xvfb-run` command to create a virtual screen. For example,\n",
    "    - to run this notebook with `srun` do\n",
    "        ```\n",
    "        srun -c2 --gres=gpu:1 xvfb-run -a -s \"-screen 0 1440x900x24\" python main.py run-nb <filename>\n",
    "        ```\n",
    "    - To run the submission script, do\n",
    "        ```\n",
    "        srun -c2 xvfb-run -a -s \"-screen 0 1440x900x24\" python main.py prepare-submission ...\n",
    "        ```\n",
    "    - note that we have already included the `xvfb-run` command inside the `jupyter-lab.sh` script, so you can use it as usual with `srun`.\n",
    "    and so on.\n",
    "- The OpenAI `gym` library is not officially supported on windows. However it should be possible to install and run the necessary environment for this exercise. However, we cannot provide you with technical support for this. If you have trouble installing locally, we suggest running on the course server."
   ]
  },
  {
   "cell_type": "markdown",
   "metadata": {},
   "source": [
    "## Policy gradients\n",
    "<a id=part1_1></a>"
   ]
  },
  {
   "cell_type": "markdown",
   "metadata": {},
   "source": [
    "Recall from the tutorial that we define the **policy** of an agent as the conditional distribution,\n",
    "$$\n",
    "\\pi(a|s) = \\Pr(a_t=a\\vert s_t=s),\n",
    "$$\n",
    "which defines how likely the agent is to take action $a$ at state $s$.\n",
    "\n",
    "Furthermore we define the action-value function,\n",
    "$$\n",
    "q_{\\pi}(s,a) = \\E{g_t(\\tau)|s_t = s,a_t=a,\\pi}\n",
    "$$\n",
    "where \n",
    "$$\n",
    "g_t(\\tau) = r_{t+1}+\\gamma r_{t+2} + \\dots = \\sum_{k=0}^{\\infty} \\gamma^k r_{t+1+k},\n",
    "$$\n",
    "is the total discounted reward of a specific trajectory $\\tau$ from time $t$, and the expectation in $q$ is over all possible\n",
    "trajectories,\n",
    "$\n",
    "\\tau=\\left\\{ (s_0,a_0,r_1,s_1), \\dots (s_T,a_T,r_{T+1},s_{T+1}) \\right\\}.\n",
    "$"
   ]
  },
  {
   "cell_type": "markdown",
   "metadata": {},
   "source": [
    "In the tutorial we saw that we can learn a value function starting with some random function and\n",
    "updating it iteratively by using the **Bellman optimality equation**.\n",
    "Given that we have some action-value function, we can immediately create a policy based on that\n",
    "by simply selecting an action which maximize the action-value at the current state, i.e.\n",
    "$$\n",
    "\\pi(a|s) =\n",
    "\\begin{cases}\n",
    "1, & a = \\arg\\max_{a'\\in\\cset{A}} q(s,a') \\\\\n",
    "0, & \\text{else}\n",
    "\\end{cases}.\n",
    "$$\n",
    "This is called $q$-learning. This approach aims to obtain a policy indirectly through the action-value function.\n",
    "Yet, in most cases we don't actually care about knowing the value of particular states,\n",
    "since all we need is a good policy for our agent. \n",
    "\n",
    "Here we'll take a different approach and learn a policy distribution $\\pi(a|s)$ directly - by using **policy gradients**."
   ]
  },
  {
   "cell_type": "markdown",
   "metadata": {},
   "source": [
    "### Formalism"
   ]
  },
  {
   "cell_type": "markdown",
   "metadata": {},
   "source": [
    "We define a parametric policy, $\\pi_\\vec{\\theta}(a|s)$, and maximize total discounted reward (or minimize the negative reward):\n",
    "$$\n",
    "\\mathcal{L}(\\vec{\\theta})=\\E[\\tau]{-g(\\tau)|\\pi_\\vec{\\theta}} = -\\int g(\\tau)p(\\tau|\\vec{\\theta})d\\tau,\n",
    "$$\n",
    "where $p(\\tau|\\vec{\\theta})$ is the probability of a specific trajectory $\\tau$ under the policy defined by $\\vec{\\theta}$.\n"
   ]
  },
  {
   "cell_type": "markdown",
   "metadata": {},
   "source": [
    "Since we want to find the parameters $\\vec{\\theta}$ which minimize $\\mathcal{L}(\\vec{\\theta})$, we'll compute the gradient w.r.t. $\\vec{\\theta}$:\n",
    "$$\n",
    "\\grad\\mathcal{L}(\\vec{\\theta}) = -\\int g(\\tau)\\grad p(\\tau|\\vec{\\theta})d\\tau.\n",
    "$$\n",
    "\n",
    "Unfortunately, if we try to write $p(\\tau|\\vec{\\theta})$ explicitly,\n",
    "we find that computing it's gradient with respect to $\\vec{\\theta}$ is\n",
    "quite intractable due to a huge product of terms depending on $\\vec{\\theta}$:\n",
    "$$\n",
    "p(\\tau|\\vec{\\theta})=p\\left(\\left\\{ (s_t,a_t,r_{t+1},s_{t+1})\\right\\}_{t\\geq0}\\given\\vec{\\theta}\\right)\n",
    "=p(s_0)\\prod_{t\\geq0} \\pi_{\\vec{\\theta}}(a_t|s_t)p(s_{t+1}|s_t,a_t).\n",
    "$$"
   ]
  },
  {
   "cell_type": "markdown",
   "metadata": {},
   "source": [
    "However, by using the fact that $\\grad_{x}\\log(f(x))=\\frac{\\grad_{x}f(x)}{f(x)}$, we can convert the product into a sum:\n",
    "$$\n",
    "\\begin{align}\n",
    "\\grad\\mathcal{L}(\\vec{\\theta})\n",
    "&= -\\int g(\\tau)\\grad p(\\tau|\\vec{\\theta})d\\tau\n",
    "= -\\int g(\\tau)\\frac{\\grad p(\\tau|\\vec{\\theta})}{p(\\tau|\\vec{\\theta})}p(\\tau|\\vec{\\theta})d\\tau \\\\\n",
    "&= -\\int g(\\tau)\\grad\\log\\left(p(\\tau|\\vec{\\theta})\\right)p(\\tau|\\vec{\\theta})d\\tau \\\\\n",
    "&= -\\int g(\\tau)\\grad\\log\\left( p(s_0)\\prod_{t\\geq0} \\pi_{\\vec{\\theta}}(a_t|s_t)p(s_{t+1}|s_t,a_t) \\right)\n",
    "p(\\tau|\\vec{\\theta})d\\tau \\\\\n",
    "&= -\\int g(\\tau)\\grad\\left( \\log p(s_0) + \\sum_{t\\geq0} \\log \\pi_{\\vec{\\theta}}(a_t|s_t) + \n",
    "\\sum_{t\\geq0}\\log p(s_{t+1}|s_t,a_t) \\right) p(\\tau|\\vec{\\theta})d\\tau \\\\\n",
    "&= -\\int g(\\tau)\\sum_{t\\geq0} \\grad\\log \\pi_{\\vec{\\theta}}(a_t|s_t) p(\\tau|\\vec{\\theta})d\\tau \\\\\n",
    "&= \\E[\\tau]{-g(\\tau)\\sum_{t\\geq0} \\grad\\log \\pi_{\\vec{\\theta}}(a_t|s_t)}.\n",
    "\\end{align}\n",
    "$$"
   ]
  },
  {
   "cell_type": "markdown",
   "metadata": {},
   "source": [
    "This is the \"vanilla\" version of the policy gradient. We can interpret is as a weighted log-likelihood function.\n",
    "The log-policy is the log-likelihood term we wish to maximize and the total discounted reward acts as a weight: high-return positive\n",
    "trajectories will cause the probability of actions taken during them to increase, and negative-return trajectories will cause the\n",
    "probabilities of actions taken to decrease.\n",
    "\n",
    "In the following figures we see three trajectories: high-return positive-reward (green), low-return positive-reward (yellow) and negative-return (red) and the action probabilities along the trajectories after the update. Credit: Sergey Levine.\n",
    "\n",
    "|<strong></strong>||\n",
    "|-----| ----|\n",
    "|<img src=\"imgs/pg1.png\" height=\"200\">|<img src=\"imgs/pg2.png\" height=\"200\">|\n"
   ]
  },
  {
   "cell_type": "markdown",
   "metadata": {},
   "source": [
    "The major drawback of the policy-gradient is it's high variance, which causes erratic optimization behavior and therefore slow convergence.\n",
    "One reason for this is that the log-policy weight term, $g(\\tau)$ can vary wildly between different trajectories, even if they're similar in\n",
    "actions. Later on we'll implement the loss and explore some methods of variance reduction."
   ]
  },
  {
   "cell_type": "markdown",
   "metadata": {},
   "source": [
    "### Landing on the moon with policy gradients"
   ]
  },
  {
   "cell_type": "markdown",
   "metadata": {},
   "source": [
    "In the spirit of the recent achievements of the Israeli space industry,\n",
    "we'll apply our reinforcement learning skills to solve a simple game called **LunarLander**.\n",
    "\n",
    "This game is available as an `environment` in OpenAI `gym`.\n",
    "\n",
    "<video loop autoplay src=\"http://gym.openai.com/videos/2019-04-06--My9IiAbqha/LunarLander-v2/original.mp4\" />"
   ]
  },
  {
   "cell_type": "markdown",
   "metadata": {},
   "source": [
    "In this environment, you need to control the lander and get it to land safely on the moon.\n",
    "To do so, you must apply bottom, right or left thrusters (each are either fully on or fully off)\n",
    "and get it to land within the designated zone as quickly as possible and with minimal wasted fuel."
   ]
  },
  {
   "cell_type": "code",
   "execution_count": 134,
   "metadata": {},
   "outputs": [],
   "source": [
    "import gym\n",
    "\n",
    "# Just for fun :) ... but also to re-define the default max number of steps\n",
    "ENV_NAME = 'Beresheet-v2'\n",
    "MAX_EPISODE_STEPS = 300\n",
    "if ENV_NAME not in gym.envs.registry.env_specs:\n",
    "    gym.register(\n",
    "        id=ENV_NAME,\n",
    "        entry_point='gym.envs.box2d:LunarLander',\n",
    "        max_episode_steps=MAX_EPISODE_STEPS,\n",
    "        reward_threshold=200,\n",
    "    )"
   ]
  },
  {
   "cell_type": "code",
   "execution_count": 135,
   "metadata": {},
   "outputs": [
    {
     "name": "stdout",
     "output_type": "stream",
     "text": [
      "<TimeLimit<LunarLander<Beresheet-v2>>>\n",
      "observations space: Box(-inf, inf, (8,), float32)\n",
      "action space: Discrete(4)\n"
     ]
    }
   ],
   "source": [
    "import gym\n",
    "\n",
    "env = gym.make(ENV_NAME)\n",
    "\n",
    "print(env)\n",
    "print(f'observations space: {env.observation_space}')\n",
    "print(f'action space: {env.action_space}')\n",
    "\n",
    "ENV_N_ACTIONS = env.action_space.n\n",
    "ENV_N_OBSERVATIONS = env.observation_space.shape[0]"
   ]
  },
  {
   "cell_type": "markdown",
   "metadata": {},
   "source": [
    "The observations at each step is the Lander's position, velocity, angle, angular velocity and ground contact state.\n",
    "The actions are no-op, fire left truster, bottom thruster and right thruster.\n",
    "\n",
    "You are **highly encouraged** to read the [documentation](https://github.com/openai/gym/blob/master/gym/envs/box2d/lunar_lander.py) in the source code of the `LunarLander` environment to understand the reward system,\n",
    "and see how the actions and observations are created."
   ]
  },
  {
   "cell_type": "markdown",
   "metadata": {},
   "source": [
    "### Policy network and Agent"
   ]
  },
  {
   "cell_type": "markdown",
   "metadata": {},
   "source": [
    "Let's start with our policy-model. This will be a simple neural net, which should take an observation and return a score for each possible action."
   ]
  },
  {
   "cell_type": "markdown",
   "metadata": {},
   "source": [
    "**TODO**:\n",
    "1. Implement all methods in the `PolicyNet` class in the `hw4/rl_pg.py` module.\n",
    "   Start small. A simple MLP with a few hidden layers is a good starting point. You can come back and change it later based on the the experiments.  \n",
    "   Notice that we'll use the `build_for_env` method to instantiate a `PolicyNet` based on the configuration of a given environment.\n",
    "2. If you need hyperparameters to configure your model (e.g. number of hidden layers, sizes, etc.), add them in `part1_pg_hyperparams()` in `hw4/answers.py`."
   ]
  },
  {
   "cell_type": "code",
   "execution_count": 137,
   "metadata": {},
   "outputs": [
    {
     "name": "stdout",
     "output_type": "stream",
     "text": [
      "{'batch_size': 32, 'gamma': 0.99, 'beta': 0.5, 'learn_rate': 0.0006, 'eps': 1e-08, 'num_workers': 0, 'hidden_layers': [128], 'n_bias': False}\n"
     ]
    },
    {
     "data": {
      "text/plain": [
       "PolicyNet(\n",
       "  (fc): Sequential(\n",
       "    (0): Linear(in_features=8, out_features=128, bias=False)\n",
       "    (1): ReLU()\n",
       "    (2): Linear(in_features=128, out_features=4, bias=False)\n",
       "  )\n",
       ")"
      ]
     },
     "execution_count": 137,
     "metadata": {},
     "output_type": "execute_result"
    }
   ],
   "source": [
    "import hw4.rl_pg as hw4pg\n",
    "import hw4.answers\n",
    "\n",
    "hp = hw4.answers.part1_pg_hyperparams()\n",
    "print(hp)\n",
    "# You can add keyword-args to this function which will be populated from the\n",
    "# hyperparameters dict.\n",
    "p_net = hw4pg.PolicyNet.build_for_env(env, device, **hp)\n",
    "p_net"
   ]
  },
  {
   "cell_type": "markdown",
   "metadata": {},
   "source": [
    "Now we need an **agent**. The purpose of our agent will be to act according to the current policy and generate experiences.\n",
    "Our `PolicyAgent` will use a `PolicyNet` as the current policy function.\n",
    "\n",
    "\n",
    "We'll also define some extra datatypes to help us represent the data generated by our agent.\n",
    "You can find the `Experience`, `Episode` and `TrainBatch` datatypes in the `hw4/rl_data.py` module."
   ]
  },
  {
   "cell_type": "markdown",
   "metadata": {},
   "source": [
    "**TODO**: Implement the `current_action_distribution()` method of the `PolicyAgent` class in the `hw4/rl_pg.py` module."
   ]
  },
  {
   "cell_type": "code",
   "execution_count": 422,
   "metadata": {},
   "outputs": [
    {
     "name": "stdout",
     "output_type": "stream",
     "text": [
      "tensor([[-0.2440, -0.0945, -0.1182,  0.1026]], grad_fn=<MmBackward>)\n",
      "torch.Size([4]) (4,)\n",
      "tensor([[-0.1941, -0.1164, -0.0896,  0.1087]], grad_fn=<MmBackward>)\n",
      "torch.Size([4]) (4,)\n",
      "tensor([[-0.1723, -0.0816, -0.0871,  0.0794]], grad_fn=<MmBackward>)\n",
      "torch.Size([4]) (4,)\n",
      "tensor([[-0.1590, -0.0738, -0.0757,  0.0620]], grad_fn=<MmBackward>)\n",
      "torch.Size([4]) (4,)\n",
      "tensor([[-0.1385, -0.1032, -0.0635,  0.0687]], grad_fn=<MmBackward>)\n",
      "torch.Size([4]) (4,)\n",
      "tensor([[-0.1441, -0.1137, -0.0621,  0.0760]], grad_fn=<MmBackward>)\n",
      "torch.Size([4]) (4,)\n",
      "tensor([[-0.2256, -0.0936, -0.1180,  0.1107]], grad_fn=<MmBackward>)\n",
      "torch.Size([4]) (4,)\n",
      "tensor([[-0.1341, -0.0818, -0.0632,  0.0567]], grad_fn=<MmBackward>)\n",
      "torch.Size([4]) (4,)\n",
      "tensor([[-0.1227, -0.1807, -0.0135,  0.0825]], grad_fn=<MmBackward>)\n",
      "torch.Size([4]) (4,)\n",
      "tensor([[-0.2345, -0.1003, -0.1254,  0.1168]], grad_fn=<MmBackward>)\n",
      "torch.Size([4]) (4,)\n"
     ]
    }
   ],
   "source": [
    "for i in range (10):\n",
    "    agent = hw4pg.PolicyAgent(env, p_net, device)\n",
    "    d = agent.current_action_distribution()\n",
    "    print(d.shape, (env.action_space.n,))\n",
    "    \n",
    "    test.assertSequenceEqual(d.shape, (env.action_space.n,))\n",
    "    test.assertAlmostEqual(d.sum(), 1.0, delta=1e-5)"
   ]
  },
  {
   "cell_type": "markdown",
   "metadata": {},
   "source": [
    "**TODO**: Implement the `step()` method of the `PolicyAgent`."
   ]
  },
  {
   "cell_type": "code",
   "execution_count": 9,
   "metadata": {},
   "outputs": [
    {
     "name": "stdout",
     "output_type": "stream",
     "text": [
      "Experience(state=tensor([ 0.0036,  1.3911,  0.1802, -0.4533, -0.0041, -0.0404,  0.0000,  0.0000]), action=0, reward=-1.5453496281249102, is_done=False)\n"
     ]
    }
   ],
   "source": [
    "agent = hw4pg.PolicyAgent(env, p_net, device)\n",
    "exp = agent.step()\n",
    "\n",
    "test.assertIsInstance(exp, hw4pg.Experience)\n",
    "print(exp)"
   ]
  },
  {
   "cell_type": "markdown",
   "metadata": {},
   "source": [
    "To test our agent, we'll write some code that allows it to play an environment. We'll use the `Monitor`\n",
    "wrapper in `gym` to generate a video of the episode for visual debugging."
   ]
  },
  {
   "cell_type": "markdown",
   "metadata": {},
   "source": [
    "**TODO**: Complete the implementation of the `monitor_episode()` method of the `PolicyAgent`."
   ]
  },
  {
   "cell_type": "code",
   "execution_count": 10,
   "metadata": {},
   "outputs": [],
   "source": [
    "env, n_steps, reward = agent.monitor_episode(ENV_NAME, p_net, device=device)"
   ]
  },
  {
   "cell_type": "markdown",
   "metadata": {},
   "source": [
    "To display the Monitor video in this notebook, we'll use a helper function from our `jupyter_utils` and a small wrapper that extracts the path of the last video file. "
   ]
  },
  {
   "cell_type": "code",
   "execution_count": 11,
   "metadata": {},
   "outputs": [
    {
     "name": "stdout",
     "output_type": "stream",
     "text": [
      "<Monitor<TimeLimit<LunarLander<Beresheet-v2>>>> 96 -346.71820433913456\n"
     ]
    }
   ],
   "source": [
    "import cs236781.jupyter_utils as jupyter_utils\n",
    "\n",
    "def show_monitor_video(monitor_env, idx=0, **kw):\n",
    "    # Extract video path\n",
    "    video_path = monitor_env.videos[idx][0]\n",
    "    video_path = os.path.relpath(video_path, start=os.path.curdir)\n",
    "    \n",
    "    # Use helper function to embed the video\n",
    "    return jupyter_utils.show_video_in_notebook(video_path, **kw)\n",
    "print(env, n_steps, reward)"
   ]
  },
  {
   "cell_type": "code",
   "execution_count": 12,
   "metadata": {},
   "outputs": [
    {
     "name": "stdout",
     "output_type": "stream",
     "text": [
      "Episode ran for 96 steps. Total reward: -346.72\n"
     ]
    },
    {
     "data": {
      "text/html": [
       "<video src=\"data:video/mp4;base64,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\" controls autoplay width=\"500\" height=\"auto\" />"
      ],
      "text/plain": [
       "<IPython.core.display.HTML object>"
      ]
     },
     "execution_count": 12,
     "metadata": {},
     "output_type": "execute_result"
    }
   ],
   "source": [
    "print(f'Episode ran for {n_steps} steps. Total reward: {reward:.2f}')\n",
    "\n",
    "show_monitor_video(env)"
   ]
  },
  {
   "cell_type": "markdown",
   "metadata": {},
   "source": [
    "### Training data"
   ]
  },
  {
   "cell_type": "markdown",
   "metadata": {},
   "source": [
    "The next step is to create data to train on.\n",
    "We need to train on batches of state-action pairs, so that our network can learn to predict the actions.\n",
    "\n",
    "We'll split this task into three parts:\n",
    "1. Generate a batch of `Episode`s, by using an `Agent` that's playing according to our current policy network.\n",
    "   Each `Episode` object contains the `Experience` objects created by the agent.\n",
    "2. Calculate the total discounted reward for each state we encountered and action we took. This is our action-value estimate.\n",
    "3. Convert the `Episode`s into a batch of tensors to train on.\n",
    "   Each batch will contain states, action taken per state, reward accrued, and the calculated estimated state-values.\n",
    "   These will be stored in a `TrainBatch` object.\n"
   ]
  },
  {
   "cell_type": "markdown",
   "metadata": {},
   "source": [
    "**TODO**: Complete the implementation of the `episode_batch_generator()` method in the `TrainBatchDataset` class within the `hw4.rl_data` module. This will address part 1 in the list above."
   ]
  },
  {
   "cell_type": "code",
   "execution_count": 13,
   "metadata": {},
   "outputs": [
    {
     "name": "stdout",
     "output_type": "stream",
     "text": [
      "First episode: Episode(total_reward=-84.15, #experences=70)\n"
     ]
    }
   ],
   "source": [
    "import hw4.rl_data as hw4data\n",
    "\n",
    "def agent_fn():\n",
    "    env = gym.make(ENV_NAME)\n",
    "    hp = hw4.answers.part1_pg_hyperparams()\n",
    "    p_net = hw4pg.PolicyNet.build_for_env(env, device, **hp)\n",
    "    return hw4pg.PolicyAgent(env, p_net, device)\n",
    "    \n",
    "ds = hw4data.TrainBatchDataset(agent_fn, episode_batch_size=8, gamma=0.9)\n",
    "batch_gen = ds.episode_batch_generator()\n",
    "b = next(batch_gen)\n",
    "print('First episode:', b[0])\n",
    "\n",
    "test.assertEqual(len(b), 8)\n",
    "for ep in b:\n",
    "    test.assertIsInstance(ep, hw4data.Episode)\n",
    "    \n",
    "    # Check that it's a full episode\n",
    "    is_done = [exp.is_done for exp in ep.experiences]\n",
    "    test.assertFalse(any(is_done[0:-1]))\n",
    "    test.assertTrue(is_done[-1])"
   ]
  },
  {
   "cell_type": "markdown",
   "metadata": {},
   "source": [
    "**TODO**: Complete the implementation of the `calc_qvals()` method in the `Episode` class.\n",
    "This will address part 2.\n",
    "These q-values are an estimate of the actual action value function: $$\\hat{q}_{t} = \\sum_{t'\\geq t} \\gamma^{t'-t}r_{t'+1}.$$"
   ]
  },
  {
   "cell_type": "code",
   "execution_count": 14,
   "metadata": {},
   "outputs": [],
   "source": [
    "np.random.seed(SEED)\n",
    "test_rewards = np.random.randint(-10, 10, 100)\n",
    "test_experiences = [hw4pg.Experience(None,None,r,False) for r in test_rewards] \n",
    "test_episode = hw4data.Episode(np.sum(test_rewards), test_experiences)\n",
    "\n",
    "qvals = test_episode.calc_qvals(0.9)\n",
    "qvals = list(qvals)\n",
    "\n",
    "expected_qvals = np.load(os.path.join('tests', 'assets', 'part1_expected_qvals.npy'))\n",
    "for i in range(len(test_rewards)):\n",
    "    test.assertAlmostEqual(expected_qvals[i], qvals[i], delta=1e-3)"
   ]
  },
  {
   "cell_type": "markdown",
   "metadata": {},
   "source": [
    "**TODO**: Complete the implementation of the `from_episodes()` method in the `TrainBatch` class.\n",
    "This will address part 3.\n",
    "\n",
    "Notes:\n",
    "- The `TrainBatchDataset` class provides a generator function that will use the above function to lazily generate batches of training samples and labels on demand.\n",
    "- This allows us to use a standard `PyTorch` dataloader to wrap our Dataset and provide us with parallel data loading for free!\n",
    "  This means we can run multiple environments with multiple agents in separate background processes to generate data for training and thus prevent the data loading bottleneck which is caused by the fact that we must generate full Episodes to train on in order to calculate the q-values.\n",
    "- We'll set the `DataLoader`'s `batch_size` to `None` because we have already implemented custom batching in our dataset.\n",
    "- You can choose the number of worker processes generating data using the `num_workers` parameter in the hyperparams dict. Set `num_workers=0` to disable parallelization."
   ]
  },
  {
   "cell_type": "code",
   "execution_count": 15,
   "metadata": {},
   "outputs": [
    {
     "name": "stdout",
     "output_type": "stream",
     "text": [
      "#0: TrainBatch(states: torch.Size([697, 8]), actions: torch.Size([697]), q_vals: torch.Size([697])), num_episodes: 8)\n",
      "#1: TrainBatch(states: torch.Size([831, 8]), actions: torch.Size([831]), q_vals: torch.Size([831])), num_episodes: 8)\n",
      "#2: TrainBatch(states: torch.Size([738, 8]), actions: torch.Size([738]), q_vals: torch.Size([738])), num_episodes: 8)\n",
      "#3: TrainBatch(states: torch.Size([801, 8]), actions: torch.Size([801]), q_vals: torch.Size([801])), num_episodes: 8)\n",
      "#4: TrainBatch(states: torch.Size([796, 8]), actions: torch.Size([796]), q_vals: torch.Size([796])), num_episodes: 8)\n",
      "#5: TrainBatch(states: torch.Size([921, 8]), actions: torch.Size([921]), q_vals: torch.Size([921])), num_episodes: 8)\n",
      "#6: TrainBatch(states: torch.Size([740, 8]), actions: torch.Size([740]), q_vals: torch.Size([740])), num_episodes: 8)\n"
     ]
    }
   ],
   "source": [
    "from torch.utils.data import DataLoader\n",
    "\n",
    "hp = hw4.answers.part1_pg_hyperparams()\n",
    "\n",
    "ds = hw4data.TrainBatchDataset(agent_fn, episode_batch_size=8, gamma=0.9)\n",
    "dl = DataLoader(\n",
    "    ds,\n",
    "    batch_size=None,\n",
    "    num_workers=hp['num_workers'],\n",
    "    multiprocessing_context='fork' if hp['num_workers'] > 0 else None\n",
    ")\n",
    "\n",
    "\n",
    "for i, train_batch in enumerate(dl):\n",
    "    states, actions, qvals, reward_mean = train_batch\n",
    "    print(f'#{i}: {train_batch}')\n",
    "    test.assertEqual(states.shape[0], actions.shape[0])\n",
    "    test.assertEqual(qvals.shape[0], actions.shape[0])\n",
    "    test.assertEqual(states.shape[1], env.observation_space.shape[0])\n",
    "    if i > 5:\n",
    "        break"
   ]
  },
  {
   "cell_type": "markdown",
   "metadata": {},
   "source": [
    "### Loss functions"
   ]
  },
  {
   "cell_type": "markdown",
   "metadata": {},
   "source": [
    "As usual, we need a loss function to optimize over.\n",
    "We'll calculate three types of losses:\n",
    "1. The causal vanilla policy gradient loss.\n",
    "1. The policy gradient loss, with a baseline to reduce variance.\n",
    "2. An entropy-based loss whos purpose is to diversify the agent's action selection,\n",
    "   and prevent it from being \"too sure\" about its actions.\n",
    "   This loss will be used together with one of the above losses."
   ]
  },
  {
   "cell_type": "markdown",
   "metadata": {},
   "source": [
    "#### Causal vanilla policy-gradient"
   ]
  },
  {
   "cell_type": "markdown",
   "metadata": {},
   "source": [
    "We have derived the policy-gradient as\n",
    "$$\n",
    "\\grad\\mathcal{L}(\\vec{\\theta}) = \\E[\\tau]{-g(\\tau)\\sum_{t\\geq0} \\grad\\log \\pi_{\\vec{\\theta}}(a_t|s_t)}.\n",
    "$$\n",
    "\n",
    "By writing the discounted reward explicitly and enforcing causality, i.e. the action taken at time $t$ can't affect\n",
    "the reward at time $t'<t$, we can get a slightly lower-variance version of the policy gradient:\n",
    "\n",
    "$$\n",
    "\\grad\\mathcal{L}_{\\text{PG}}(\\vec{\\theta}) = \n",
    "\\E[\\tau]{-\\sum_{t\\geq0} \\left(\\sum_{t'\\geq t} \\gamma^{t'}r_{t'+1} \\right)\\grad\\log \\pi_{\\vec{\\theta}}(a_t|s_t)}.\n",
    "$$"
   ]
  },
  {
   "cell_type": "markdown",
   "metadata": {},
   "source": [
    "In practice, the expectation over trajectories is calculated using a Monte-Carlo approach, i.e. simply sampling $N$\n",
    "trajectories and average the term inside the expectation. Therefore, we will use the following estimated version of the policy gradient:\n",
    "\n",
    "$$\n",
    "\\begin{align}\n",
    "\\hat\\grad\\mathcal{L}_{\\text{PG}}(\\vec{\\theta})\n",
    "&=-\\frac{1}{N}\\sum_{i=1}^{N}\\sum_{t\\geq0} \\left(\\sum_{t'\\geq t} \\gamma^{t'}r_{i,t'+1} \\right)\\grad\\log \\pi_{\\vec{\\theta}}(a_{i,t}|s_{i,t}) \\\\\n",
    "&=-\\frac{1}{N}\\sum_{i=1}^{N}\\sum_{t\\geq0} \\hat{q}_{i,t} \\grad\\log \\pi_{\\vec{\\theta}}(a_{i,t}|s_{i,t}).\n",
    "\\end{align}\n",
    "$$\n",
    "\n",
    "Note the use of the notation $\\hat{q}_{i,t}$ to represent the estimated action-value at time $t$ in the sampled trajectory $i$.\n",
    "Here $\\hat{q}_{i,t}$ is acting as the weight-term for the policy gradient."
   ]
  },
  {
   "cell_type": "markdown",
   "metadata": {},
   "source": [
    "**TODO**: Complete the implementation of the `VanillaPolicyGradientLoss` class in the `hw4/rl_pg.py` module."
   ]
  },
  {
   "cell_type": "code",
   "execution_count": 419,
   "metadata": {},
   "outputs": [
    {
     "name": "stdout",
     "output_type": "stream",
     "text": [
      "test_batch=TrainBatch(states: torch.Size([388, 8]), actions: torch.Size([388]), q_vals: torch.Size([388])), num_episodes: 4)\n",
      "\n",
      "test_action_scores=\n",
      "tensor([[-7.8158e-01, -1.5094e-01,  4.1993e-01,  1.4059e+00],\n",
      "        [ 1.3185e+00,  2.8492e-05,  1.4242e+00, -6.2004e-01],\n",
      "        [ 1.1881e+00,  2.0556e+00,  6.6027e-01, -1.1078e+00],\n",
      "        ...,\n",
      "        [-3.4807e-01, -9.6609e-01, -6.5453e-01, -2.0421e+00],\n",
      "        [-1.1453e+00,  8.8890e-01,  2.4767e-01,  9.7610e-01],\n",
      "        [-1.2878e+00,  1.9194e+00, -9.3162e-01, -3.8786e-01]])\n",
      "shape=torch.Size([388, 4])\n",
      "\n",
      "tensor([[-7.8158e-01, -1.5094e-01,  4.1993e-01,  1.4059e+00],\n",
      "        [ 1.3185e+00,  2.8492e-05,  1.4242e+00, -6.2004e-01],\n",
      "        [ 1.1881e+00,  2.0556e+00,  6.6027e-01, -1.1078e+00],\n",
      "        ...,\n",
      "        [-3.4807e-01, -9.6609e-01, -6.5453e-01, -2.0421e+00],\n",
      "        [-1.1453e+00,  8.8890e-01,  2.4767e-01,  9.7610e-01],\n",
      "        [-1.2878e+00,  1.9194e+00, -9.3162e-01, -3.8786e-01]])\n",
      "loss_p=tensor(-36.6423)\n"
     ]
    }
   ],
   "source": [
    "# Ensure deterministic run\n",
    "env = gym.make(ENV_NAME)\n",
    "env.seed(SEED)\n",
    "torch.manual_seed(SEED)\n",
    "\n",
    "def agent_fn():\n",
    "    # Use a simple \"network\" here, so that this test doesn't depend on\n",
    "    # your specific PolicyNet implementation\n",
    "    p_net_test = nn.Linear(ENV_N_OBSERVATIONS, ENV_N_ACTIONS, bias=True)\n",
    "    agent = hw4pg.PolicyAgent(env, p_net_test)\n",
    "    return agent\n",
    "\n",
    "dataloader = hw4data.TrainBatchDataset(agent_fn, gamma=0.9, episode_batch_size=4)\n",
    "\n",
    "test_batch = next(iter(dataloader))\n",
    "test_action_scores = torch.randn(len(test_batch), env.action_space.n)\n",
    "print(f\"{test_batch=}\", end='\\n\\n')\n",
    "print(f\"test_action_scores=\\n{test_action_scores}\\nshape={test_action_scores.shape}\", end='\\n\\n')\n",
    "\n",
    "loss_fn_p = hw4pg.VanillaPolicyGradientLoss()\n",
    "loss_p, _ = loss_fn_p(test_batch, test_action_scores)\n",
    "\n",
    "print(f'{loss_p=}')\n",
    "test.assertAlmostEqual(loss_p.item(), -36.642, delta=1e-2)"
   ]
  },
  {
   "cell_type": "markdown",
   "metadata": {},
   "source": [
    "#### Policy-gradient with baseline"
   ]
  },
  {
   "cell_type": "markdown",
   "metadata": {},
   "source": [
    "Another way to reduce the variance of our gradient is to use relative weighting of the log-policy instead of absolute reward values.\n",
    "$$\n",
    "\\hat\\grad\\mathcal{L}_{\\text{BPG}}(\\vec{\\theta})\n",
    "=-\\frac{1}{N}\\sum_{i=1}^{N}\\sum_{t\\geq0} \\left(\\hat{q}_{i,t}-b\\right) \\grad\\log \\pi_{\\vec{\\theta}}(a_{i,t}|s_{i,t}).\n",
    "$$\n",
    "In other words, we don't measure a trajectory's worth by it's total reward, but by how much better that total reward is relative to some\n",
    "expected (\"baseline\") reward value, denoted above by $b$.\n",
    "Note that subtracting a baseline has no effect on the expected value of the policy gradient. It's easy to prove this directly by definition.\n",
    "\n",
    "Here we'll implement a very simple baseline (not optimal in terms of variance reduction): the average of the estimated state-values $\\hat{q}_{i,t}$."
   ]
  },
  {
   "cell_type": "markdown",
   "metadata": {},
   "source": [
    "**TODO**: Complete the implementation of the `BaselinePolicyGradientLoss` class in the `hw4/rl_pg.py` module."
   ]
  },
  {
   "cell_type": "code",
   "execution_count": 364,
   "metadata": {},
   "outputs": [
    {
     "name": "stdout",
     "output_type": "stream",
     "text": [
      "loss_dict={'loss_p': -0.27867746353149414, 'baseline': -22.191164016723633}\n"
     ]
    }
   ],
   "source": [
    "# Using the same batch and action_scores from above cell\n",
    "loss_fn_p = hw4pg.BaselinePolicyGradientLoss()\n",
    "loss_p, loss_dict = loss_fn_p(test_batch, test_action_scores)\n",
    "\n",
    "print(f'{loss_dict=}')\n",
    "test.assertAlmostEqual(loss_dict['baseline'], -22.191, delta=1e-2)\n",
    "test.assertAlmostEqual(loss_p.item(), -0.278, delta=1e-2)"
   ]
  },
  {
   "cell_type": "markdown",
   "metadata": {},
   "source": [
    "#### Entropy loss"
   ]
  },
  {
   "cell_type": "markdown",
   "metadata": {},
   "source": [
    "The entropy of a probability distribution (in our case the policy), is\n",
    "$$\n",
    "H(\\pi) = -\\sum_{a} \\pi(a|s)\\log\\pi(a|s).\n",
    "$$\n",
    "The entropy is always positive and obtains it's maximum for a uniform distribution.\n",
    "We'll use the entropy of the policy as a bonus, i.e. we'll try to maximize it.\n",
    "The idea is the prevent the policy distribution from becoming too narrow and thus promote the agent's exploration."
   ]
  },
  {
   "cell_type": "markdown",
   "metadata": {},
   "source": [
    "First, we'll calculate the maximal possible entropy value of the action distribution for a set number of possible actions.\n",
    "This will be used as a normalization term.\n",
    "\n",
    "**TODO**: Complete the implementation of the `calc_max_entropy()` method in the `ActionEntropyLoss` class."
   ]
  },
  {
   "cell_type": "code",
   "execution_count": 365,
   "metadata": {},
   "outputs": [
    {
     "name": "stdout",
     "output_type": "stream",
     "text": [
      "max_entropy =  1.3862943611198906\n"
     ]
    }
   ],
   "source": [
    "loss_fn_e = hw4pg.ActionEntropyLoss(env.action_space.n)\n",
    "print('max_entropy = ', loss_fn_e.max_entropy)\n",
    "\n",
    "test.assertAlmostEqual(loss_fn_e.max_entropy, 1.38629436, delta=1e-3)"
   ]
  },
  {
   "cell_type": "markdown",
   "metadata": {},
   "source": [
    "**TODO**: Complete the implementation of the `forward()` method in the `ActionEntropyLoss` class."
   ]
  },
  {
   "cell_type": "code",
   "execution_count": 366,
   "metadata": {},
   "outputs": [
    {
     "name": "stdout",
     "output_type": "stream",
     "text": [
      "loss =  tensor(-0.8103)\n"
     ]
    }
   ],
   "source": [
    "loss_e, _ = loss_fn_e(test_batch, test_action_scores)\n",
    "print('loss = ', loss_e)\n",
    "\n",
    "test.assertAlmostEqual(loss_e.item(), -0.8103, delta=1e-2)"
   ]
  },
  {
   "cell_type": "markdown",
   "metadata": {},
   "source": [
    "### Training"
   ]
  },
  {
   "cell_type": "markdown",
   "metadata": {},
   "source": [
    "We'll implement our training procedure as follows:\n",
    "\n",
    "1. Initialize the current policy to be a random policy.\n",
    "1. Sample $N$ trajectories from the environment using the current policy.\n",
    "2. Calculate the estimated $q$-values, $\\hat{q}_{i,t} = \\sum_{t'\\geq t} \\gamma^{t'}r_{i,t'+1}$ for each trajectory $i$.\n",
    "3. Calculate policy gradient estimate $\\hat\\grad\\mathcal{L}(\\vec{\\theta})$ as defined above.\n",
    "4. Perform SGD update $\\vec{\\theta}\\leftarrow\\vec{\\theta}-\\eta\\hat\\grad\\mathcal{L}(\\vec{\\theta})$.\n",
    "5. Repeat from step 2.\n",
    "\n",
    "This is known as the **REINFORCE** algorithm."
   ]
  },
  {
   "cell_type": "markdown",
   "metadata": {},
   "source": [
    "Fortunately, we've already implemented everything we need for steps 1-4 so we need only a bit more code to put it all together.\n",
    "\n",
    "The following block implements a wrapper, `train_pg` to create all the objects we need in order to train our policy gradient model.\n"
   ]
  },
  {
   "cell_type": "code",
   "execution_count": 20,
   "metadata": {},
   "outputs": [],
   "source": [
    "import hw4.answers\n",
    "from functools import partial\n",
    "\n",
    "ENV_NAME = \"Beresheet-v2\"\n",
    "\n",
    "def agent_fn_train(agent_type, p_net, seed, envs_dict):\n",
    "    winfo = torch.utils.data.get_worker_info()\n",
    "    wid = winfo.id if winfo else 0\n",
    "    seed = seed + wid if seed else wid\n",
    "\n",
    "    env = gym.make(ENV_NAME)\n",
    "    envs_dict[wid] = env\n",
    "    env.seed(seed)\n",
    "    np.random.seed(seed)\n",
    "    torch.manual_seed(seed)\n",
    "\n",
    "    return agent_type(env, p_net)\n",
    "\n",
    "def train_rl(agent_type, net_type, loss_fns, hp, seed=None, checkpoints_file=None, **train_kw):\n",
    "    #print(f'hyperparams: {hp}')\n",
    "    \n",
    "    envs = {}\n",
    "    p_net = net_type(ENV_N_OBSERVATIONS, ENV_N_ACTIONS, **hp)\n",
    "    p_net.share_memory()\n",
    "    agent_fn = partial(agent_fn_train, agent_type, p_net, seed, envs)\n",
    "    \n",
    "    dataset = hw4data.TrainBatchDataset(agent_fn, hp['batch_size'], hp['gamma'])\n",
    "    dataloader = DataLoader(\n",
    "        dataset, batch_size=None, num_workers=hp['num_workers'],\n",
    "        multiprocessing_context='fork' if hp['num_workers'] > 0 else None\n",
    "    )\n",
    "    optimizer = optim.Adam(p_net.parameters(), lr=hp['learn_rate'], eps=hp['eps'])\n",
    "    \n",
    "    trainer = hw4pg.PolicyTrainer(p_net, optimizer, loss_fns, dataloader, checkpoints_file)\n",
    "    try:\n",
    "        trainer.train(**train_kw)\n",
    "    except KeyboardInterrupt as e:\n",
    "        print('Training interrupted by user.')\n",
    "    finally:\n",
    "        for env in envs.values():\n",
    "            env.close()\n",
    "\n",
    "    # Include final model state\n",
    "    training_data = trainer.training_data\n",
    "    training_data['model_state'] = p_net.state_dict()\n",
    "    return training_data\n",
    "    \n",
    "def train_pg(baseline=False, entropy=False, **train_kwargs):\n",
    "    hp = hw4.answers.part1_pg_hyperparams()\n",
    "    \n",
    "    loss_fns = []\n",
    "    if baseline:\n",
    "        loss_fns.append(hw4pg.BaselinePolicyGradientLoss())\n",
    "    else:\n",
    "        loss_fns.append(hw4pg.VanillaPolicyGradientLoss())\n",
    "    if entropy:\n",
    "        loss_fns.append(hw4pg.ActionEntropyLoss(ENV_N_ACTIONS, hp['beta']))\n",
    "\n",
    "    return train_rl(hw4pg.PolicyAgent, hw4pg.PolicyNet, loss_fns, hp, **train_kwargs)"
   ]
  },
  {
   "cell_type": "markdown",
   "metadata": {},
   "source": [
    "The `PolicyTrainer` class implements the training loop, collects the losses and rewards and provides some useful checkpointing functionality.\n",
    "The training loop will generate batches of episodes and train on them until either:\n",
    "- The average total reward from the last `running_mean_len` episodes is greater than the `target_reward`, OR\n",
    "- The number of generated episodes reached `max_episodes`.\n",
    "\n",
    "Most of this class is already implemented for you. "
   ]
  },
  {
   "cell_type": "markdown",
   "metadata": {},
   "source": [
    "**TODO**:\n",
    "1. Complete the training loop by implementing the `train_batch()` method of the `PolicyTrainer`.\n",
    "2. Tweak the hyperparameters in the `part1_pg_hyperparams()` function within the `hw4/answers.py` module as needed. You get some sane defaults."
   ]
  },
  {
   "cell_type": "markdown",
   "metadata": {},
   "source": [
    "Let's check whether our model is actually training.\n",
    "We'll try to reach a very low (bad) target reward, just as a sanity check to see that training works.\n",
    "Your model should be able to reach this target reward within a few batches.\n",
    "\n",
    "You can increase the target reward and use this block to manually tweak your model and hyperparameters a few times."
   ]
  },
  {
   "cell_type": "code",
   "execution_count": 133,
   "metadata": {},
   "outputs": [
    {
     "name": "stdout",
     "output_type": "stream",
     "text": [
      "=== Training...\n",
      "#7: step=00023293, loss_p=-106.17, m_reward(10)=-115.5 (best=-156.4):   1%|▊                                                           | 256/20000 [00:12<16:34, 19.85it/s]\n",
      "\n",
      "=== 🚀 SOLVED - Target reward reached! 🚀\n"
     ]
    }
   ],
   "source": [
    "target_reward = -140 # VERY LOW target\n",
    "train_data = train_pg(target_reward=target_reward, seed=SEED, max_episodes=20000, running_mean_len=10)\n",
    "\n",
    "test.assertGreater(train_data['mean_reward'][-1], target_reward)"
   ]
  },
  {
   "cell_type": "markdown",
   "metadata": {},
   "source": [
    "### Experimenting with different losses"
   ]
  },
  {
   "cell_type": "markdown",
   "metadata": {},
   "source": [
    "We'll now run a few experiments to see the effect of diferent loss functions on the training dynamics. Namely, we'll try:\n",
    "1. Vanilla PG (`vpg`): No baseline, no entropy\n",
    "2. Baseline PG (`bpg`): Baseline, no entropy loss\n",
    "3. Entropy PG (`epg`): No baseline, with entropy loss\n",
    "3. Combined PG (`cpg`): Baseline, with entropy loss"
   ]
  },
  {
   "cell_type": "code",
   "execution_count": 22,
   "metadata": {},
   "outputs": [
    {
     "name": "stdout",
     "output_type": "stream",
     "text": [
      "[ExpConfig(name='vpg', baseline=False, entropy=False),\n",
      " ExpConfig(name='epg', baseline=False, entropy=True),\n",
      " ExpConfig(name='bpg', baseline=True, entropy=False),\n",
      " ExpConfig(name='cpg', baseline=True, entropy=True)]\n"
     ]
    }
   ],
   "source": [
    "from collections import namedtuple\n",
    "from pprint import pprint\n",
    "import itertools as it\n",
    "\n",
    "\n",
    "ExpConfig = namedtuple('ExpConfig', ('name','baseline','entropy'))\n",
    "\n",
    "def exp_configs():\n",
    "    exp_names = ('vpg', 'epg', 'bpg', 'cpg')\n",
    "    z = zip(exp_names, it.product((False, True), (False, True)))\n",
    "    return (ExpConfig(n, b, e) for (n, (b, e)) in z)\n",
    "\n",
    "pprint(list(exp_configs()))"
   ]
  },
  {
   "cell_type": "markdown",
   "metadata": {},
   "source": [
    "We'll save the training data from each experiment for plotting."
   ]
  },
  {
   "cell_type": "code",
   "execution_count": 23,
   "metadata": {},
   "outputs": [],
   "source": [
    "import pickle\n",
    "\n",
    "def dump_training_data(data, filename):\n",
    "    os.makedirs(os.path.dirname(filename), exist_ok=True)\n",
    "    with open(filename, mode='wb') as file:\n",
    "        pickle.dump(data, file)\n",
    "        \n",
    "def load_training_data(filename):\n",
    "    with open(filename, mode='rb') as file:\n",
    "        return pickle.load(file)"
   ]
  },
  {
   "cell_type": "markdown",
   "metadata": {},
   "source": [
    "Let's run the experiments! We'll run each configuration for a fixed number of episodes so that we can compare them.\n",
    "\n",
    "Notes:\n",
    "1. Until your models start working, you can decrease the number of episodes for each experiment, or only run one experiment.\n",
    "2.  The results will be saved in a file. To re-run the experiments, you can set `force_run` to `True`."
   ]
  },
  {
   "cell_type": "code",
   "execution_count": 130,
   "metadata": {},
   "outputs": [
    {
     "name": "stdout",
     "output_type": "stream",
     "text": [
      "=== Experiment cpg\n",
      "=== Training...\n",
      "#124: step=00489815, loss_p= -4.99, baseline=-70.86, loss_e= -0.26, m_reward(100)=-130.3 (best= -12.6): 100%|██████████████████████████| 4000/4000 [05:08<00:00, 12.97it/s]\n",
      "\n",
      "=== STOPPING - Max episode reached\n"
     ]
    }
   ],
   "source": [
    "import math\n",
    "\n",
    "exp_max_episodes = 4000\n",
    "\n",
    "results = {}\n",
    "training_data_filename = os.path.join('results', f'part1_exp.dat')\n",
    "\n",
    "# Set to True to force re-run (careful! will delete old experiment results)\n",
    "force_run = True\n",
    "\n",
    "# Skip running if results file exists.\n",
    "if os.path.isfile(training_data_filename) and not force_run:\n",
    "    print(f'=== results file {training_data_filename} exists, skipping experiments.')\n",
    "    results = load_training_data(training_data_filename)\n",
    "    \n",
    "else:\n",
    "    for n, b, e in list(exp_configs())[3:]:\n",
    "        print(f'=== Experiment {n}')\n",
    "        results[n] = train_pg(baseline=b, entropy=e, max_episodes=exp_max_episodes, post_batch_fn=None)\n",
    "        \n",
    "    dump_training_data(results, training_data_filename)"
   ]
  },
  {
   "cell_type": "code",
   "execution_count": 131,
   "metadata": {},
   "outputs": [
    {
     "data": {
      "image/png": "[encoded data removed]",
      "text/plain": [
       "<Figure size 1296x864 with 4 Axes>"
      ]
     },
     "metadata": {
      "needs_background": "light"
     },
     "output_type": "display_data"
    }
   ],
   "source": [
    "def plot_experiment_results(results, fig=None):\n",
    "    if fig is None:\n",
    "        fig, _ = plt.subplots(nrows=2, ncols=2, sharex=True, figsize=(18,12))\n",
    "    for i, plot_type in enumerate(('loss_p', 'baseline', 'loss_e', 'mean_reward')):\n",
    "        ax = fig.axes[i]\n",
    "        for exp_name, exp_res in results.items():\n",
    "            if plot_type not in exp_res:\n",
    "                continue\n",
    "            ax.plot(exp_res['episode_num'], exp_res[plot_type], label=exp_name)\n",
    "        ax.set_title(plot_type)\n",
    "        ax.set_xlabel('episode')\n",
    "        ax.legend()\n",
    "    return fig\n",
    "    \n",
    "experiments_results_fig = plot_experiment_results(results)"
   ]
  },
  {
   "cell_type": "markdown",
   "metadata": {},
   "source": [
    "You should see positive training dynamics in the graphs (reward going up).\n",
    "If you don't, use them to further update your model or hyperparams.\n",
    "\n",
    "To pass the test, you'll need to get a best total mean reward of at least 10 in the fixed number of epochs using the combined loss.\n",
    "It's possible to get much higher (over 100)."
   ]
  },
  {
   "cell_type": "code",
   "execution_count": 47,
   "metadata": {},
   "outputs": [
    {
     "name": "stdout",
     "output_type": "stream",
     "text": [
      "Best CPG mean reward: 75.91\n"
     ]
    }
   ],
   "source": [
    "best_cpg_mean_reward = max(results['cpg']['mean_reward'])\n",
    "print(f'Best CPG mean reward: {best_cpg_mean_reward:.2f}')\n",
    "\n",
    "test.assertGreater(best_cpg_mean_reward, 10)"
   ]
  },
  {
   "cell_type": "markdown",
   "metadata": {},
   "source": [
    "Now let's take a look at a gameplay video of our `cpg` model after the short training!"
   ]
  },
  {
   "cell_type": "code",
   "execution_count": 48,
   "metadata": {},
   "outputs": [
    {
     "name": "stdout",
     "output_type": "stream",
     "text": [
      "83 steps, total reward: -154.64\n"
     ]
    },
    {
     "data": {
      "text/html": [
       "<video src=\"data:video/mp4;base64,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\" controls autoplay width=\"500\" height=\"auto\" />"
      ],
      "text/plain": [
       "<IPython.core.display.HTML object>"
      ]
     },
     "execution_count": 48,
     "metadata": {},
     "output_type": "execute_result"
    }
   ],
   "source": [
    "hp = hw4.answers.part1_pg_hyperparams()\n",
    "p_net_cpg = hw4pg.PolicyNet.build_for_env(env, **hp)\n",
    "p_net_cpg.load_state_dict(results['cpg']['model_state'])\n",
    "\n",
    "env, n_steps, reward = hw4pg.PolicyAgent.monitor_episode(ENV_NAME, p_net_cpg)\n",
    "print(f'{n_steps} steps, total reward: {reward:.2f}')\n",
    "show_monitor_video(env)"
   ]
  },
  {
   "cell_type": "markdown",
   "metadata": {},
   "source": [
    "## Advantage Actor-Critic (AAC)\n",
    "<a id=part1_2></a>"
   ]
  },
  {
   "cell_type": "markdown",
   "metadata": {},
   "source": [
    "We have seen that the policy-gradient loss can be interpreted as a log-likelihood of the policy term\n",
    "(selecting a specific action at a specific state), weighted by the future rewards of that choice of action.\n",
    "\n",
    "However, naïvely weighting by rewards has significant drawbacks in terms of the variance of the resulting gradient.\n",
    "We addressed this by adding a simple baseline term which represented our \"expected reward\" so that we increase probability of actions\n",
    "leading to trajectories which exceed this expectation and vice-versa.\n",
    "\n",
    "In this part we'll explore a more powerful baseline, which is the idea behind the AAC method."
   ]
  },
  {
   "cell_type": "markdown",
   "metadata": {},
   "source": [
    "### The advantage function"
   ]
  },
  {
   "cell_type": "markdown",
   "metadata": {},
   "source": [
    "Recall the definition of the state-value function $v_{\\pi}(s)$ and action-value function $q_{\\pi}(s,a)$:\n",
    "\n",
    "$$\n",
    "\\begin{align}\n",
    "v_{\\pi}(s) &= \\E{g(\\tau)|s_0 = s,\\pi} \\\\\n",
    "q_{\\pi}(s,a) &= \\E{g(\\tau)|s_0 = s,a_0=a,\\pi}.\n",
    "\\end{align}\n",
    "$$\n",
    "\n",
    "Both these functions represent the value of the state $s$. However, $v_\\pi$ averages over the first action according to the policy,\n",
    "while $q_\\pi$ fixes the first action and then continues according to the policy."
   ]
  },
  {
   "cell_type": "markdown",
   "metadata": {},
   "source": [
    "Their difference is known as the **advantage function**:\n",
    "$$\n",
    "a_\\pi(s,a) = q_\\pi(s,a)-v_\\pi(s).\n",
    "$$\n",
    "\n",
    "If $a_\\pi(s,a)>0$ it means that it's better (in expectation) to take action $a$ in state $s$ compared to the average action.\n",
    "In other words, $a_\\pi(s,a)$ represents the *advantage* of using action $a$ in state $s$ compared to the others."
   ]
  },
  {
   "cell_type": "markdown",
   "metadata": {},
   "source": [
    "So far we have used an estimate for $q_\\pi$ as our weighting term for the log-policy, with a fixed baseline per batch.\n",
    "\n",
    "$$\n",
    "\\hat\\grad\\mathcal{L}_{\\text{BPG}}(\\vec{\\theta})\n",
    "=-\\frac{1}{N}\\sum_{i=1}^{N}\\sum_{t\\geq0} \\left(\\hat{q}_{i,t}-b\\right) \\grad\\log \\pi_{\\vec{\\theta}}(a_{i,t}|s_{i,t}).\n",
    "$$\n"
   ]
  },
  {
   "cell_type": "markdown",
   "metadata": {},
   "source": [
    "Now, we will use the state value as a baseline, so that an estimate of the advantage function is our weighting term:\n",
    "\n",
    "$$\n",
    "\\hat\\grad\\mathcal{L}_{\\text{AAC}}(\\vec{\\theta})\n",
    "=-\\frac{1}{N}\\sum_{i=1}^{N}\\sum_{t\\geq0} \\left(\\hat{q}_{i,t}-v_\\pi(s_t)\\right) \\grad\\log \\pi_{\\vec{\\theta}}(a_{i,t}|s_{i,t}).\n",
    "$$\n",
    "\n",
    "Intuitively, using the advantage function makes sense because it means we're weighting our policy's actions according to\n",
    "how advantageous they are compared to other possible actions."
   ]
  },
  {
   "cell_type": "markdown",
   "metadata": {},
   "source": [
    "But how will we know $v_\\pi(s)$? We'll learn it of course, using another neural network.\n",
    "This is known as actor-critic learning. We simultaneously learn the policy (actor) and the value of states (critic).\n",
    "We'll treat it as a regression task: given a state $s_t$, our state-value network will output $\\hat{v}_\\pi(s_t)$,\n",
    "an estimate of the actual unknown state-value.\n",
    "Our regression targets will be the discounted rewards, $\\hat{q}_{i,t}$ (see question 2),\n",
    "and we can use a simple MSE as the loss function,\n",
    "$$\n",
    "\\mathcal{L}_{\\text{SV}} = \\frac{1}{N}\\sum_{i=1}^{N}\\sum_{t\\geq0}\\left(\\hat{v}_\\pi(s_t) - \\hat{q}_{i,t}\\right)^2.\n",
    "$$\n"
   ]
  },
  {
   "cell_type": "markdown",
   "metadata": {},
   "source": [
    "### Implementation"
   ]
  },
  {
   "cell_type": "markdown",
   "metadata": {},
   "source": [
    "We'll build heavily on our implementation of the regular policy-gradient method, and just add a new model class and a new loss class, with a small modification to the agent."
   ]
  },
  {
   "cell_type": "markdown",
   "metadata": {},
   "source": [
    "Let's start with the model. It will accept a state, and return action scores (as before), but also the value of that state.\n",
    "You can experiment with a dual-head network that has a shared base, or implement two separate parts within the network.\n",
    "\n",
    "**TODO**:\n",
    "1. Implement the model as the `AACPolicyNet` class in the `hw4/rl_ac.py` module.\n",
    "1. Set the hyperparameters in the `part1_aac_hyperparams()` function of the `hw4.answers` module."
   ]
  },
  {
   "cell_type": "code",
   "execution_count": 424,
   "metadata": {},
   "outputs": [
    {
     "data": {
      "text/plain": [
       "AACPolicyNet(\n",
       "  (affine): Linear(in_features=8, out_features=128, bias=True)\n",
       "  (action_layer): Linear(in_features=128, out_features=4, bias=True)\n",
       "  (value_layer): Linear(in_features=128, out_features=1, bias=True)\n",
       ")"
      ]
     },
     "execution_count": 424,
     "metadata": {},
     "output_type": "execute_result"
    }
   ],
   "source": [
    "import hw4.rl_ac as hw4ac\n",
    "\n",
    "hp = hw4.answers.part1_aac_hyperparams()\n",
    "pv_net = hw4ac.AACPolicyNet.build_for_env(env, device, **hp)\n",
    "pv_net"
   ]
  },
  {
   "cell_type": "markdown",
   "metadata": {},
   "source": [
    "**TODO**: Complete the implementation of the agent class, `AACPolicyAgent`, in the `hw4/rl_ac.py` module."
   ]
  },
  {
   "cell_type": "code",
   "execution_count": 425,
   "metadata": {},
   "outputs": [
    {
     "name": "stdout",
     "output_type": "stream",
     "text": [
      "Experience(state=tensor([ 0.0020,  1.4066,  0.1015, -0.1097, -0.0023, -0.0228,  0.0000,  0.0000]), action=0, reward=-1.6246086040852106, is_done=False)\n"
     ]
    }
   ],
   "source": [
    "agent = hw4ac.AACPolicyAgent(env, pv_net, device)\n",
    "exp = agent.step()\n",
    "\n",
    "test.assertIsInstance(exp, hw4pg.Experience)\n",
    "print(exp)"
   ]
  },
  {
   "cell_type": "markdown",
   "metadata": {},
   "source": [
    "**TODO**: Implement the AAC loss function as the class `AACPolicyGradientLoss` in the `hw4/rl_ac.py` module."
   ]
  },
  {
   "cell_type": "code",
   "execution_count": 427,
   "metadata": {},
   "outputs": [
    {
     "name": "stdout",
     "output_type": "stream",
     "text": [
      "loss_dict={'loss_p': -38.28092956542969, 'loss_v': 1222.2298583984375, 'adv_m': -23.191162109375}\n"
     ]
    }
   ],
   "source": [
    "loss_fn_aac = hw4ac.AACPolicyGradientLoss(delta=1.)\n",
    "test_state_values = torch.ones(test_action_scores.shape[0], 1)\n",
    "loss_t, loss_dict = loss_fn_aac(test_batch, (test_action_scores, test_state_values))\n",
    "\n",
    "print(f'{loss_dict=}')\n",
    "test.assertAlmostEqual(loss_dict['adv_m'], -23.191, delta=1e-2)\n",
    "test.assertAlmostEqual(loss_t.item(), 1183.948, delta=1e-2)"
   ]
  },
  {
   "cell_type": "markdown",
   "metadata": {},
   "source": [
    "### Experimentation"
   ]
  },
  {
   "cell_type": "markdown",
   "metadata": {},
   "source": [
    "Let's run the same experiment as before, but with the AAC method and compare the results."
   ]
  },
  {
   "cell_type": "code",
   "execution_count": 400,
   "metadata": {},
   "outputs": [],
   "source": [
    "def train_aac(baseline=False, entropy=False, **train_kwargs):\n",
    "    hp = hw4.answers.part1_aac_hyperparams()\n",
    "    loss_fns = [hw4ac.AACPolicyGradientLoss(hp['delta'])]\n",
    "    return train_rl(hw4ac.AACPolicyAgent, hw4ac.AACPolicyNet, loss_fns, hp, **train_kwargs)\n",
    "\n",
    "class Loss(nn.Module):\n",
    "    def forward(self, batch, model_output: torch.Tensor, **kw):\n",
    "        action_scores, state_values = model_output\n",
    "        state_values = state_values.view(-1)\n",
    "        rewards = batch.q_vals\n",
    "        #print(rewards)\n",
    "        rewards = (rewards - rewards.mean()) / (rewards.std())\n",
    "        #print(rewards)\n",
    "        log_proba = torch.log_softmax(action_scores, dim=1)\n",
    "        selected_actions = log_proba.gather(dim=1, index=batch.actions.view(-1, 1)).view(-1)\n",
    "        #print(selected_actions, state_values, rewards)\n",
    "        loss = 0\n",
    "        for logprob, value, reward in zip(selected_actions, state_values, rewards):\n",
    "            advantage = reward  - value.item()\n",
    "            action_loss = -logprob * advantage\n",
    "            value_loss = torch.nn.functional.mse_loss(value, reward)\n",
    "            loss += (action_loss + value_loss)\n",
    "        return loss, dict(loss_p=loss.item())\n",
    "        \n",
    "        \n",
    "\n",
    "def train_aac2(baseline=False, entropy=False, **train_kwargs):\n",
    "    hp = hw4.answers.part1_aac_hyperparams()\n",
    "    loss_fns = [Loss()]\n",
    "    return train_rl(hw4ac.AACPolicyAgent, hw4ac.AACPolicyNet, loss_fns, hp, **train_kwargs)\n",
    "\n",
    "def train_aac3(agent_type, net_type, seed=None, checkpoints_file=None, **train_kw):\n",
    "    hp = hw4.answers.part1_aac_hyperparams()\n",
    "    envs = {}\n",
    "    p_net = net_type(ENV_N_OBSERVATIONS, ENV_N_ACTIONS, **hp)\n",
    "    p_net.share_memory()\n",
    "    agent_fn = partial(agent_fn_train, agent_type, p_net, seed, envs)\n",
    "    dataset = hw4data.TrainBatchDataset(agent_fn, hp['batch_size'], hp['gamma'])\n",
    "    dataloader = DataLoader(dataset, batch_size=None, num_workers=hp['num_workers'],  multiprocessing_context=None)\n",
    "    optimizer = optim.Adam(p_net.parameters(), lr=hp['learn_rate'], eps=hp['eps'])\n",
    "    l_f = Loss()\n",
    "    for i_episode, batch in enumerate(dataloader, start=i):\n",
    "        model_output = p_net(batch.states)\n",
    "        optimizer.zero_grad()\n",
    "        loss = l_f(batch, model_output)[0]\n",
    "        loss.backward()\n",
    "        optimizer.step() \n",
    "        #print('Episode {}\\tlength: {}\\treward: {}\\tloss: {}'.format(i_episode, len(batch), batch.total_rewards.item(), loss.item()))"
   ]
  },
  {
   "cell_type": "code",
   "execution_count": null,
   "metadata": {},
   "outputs": [
    {
     "name": "stdout",
     "output_type": "stream",
     "text": [
      "=== Running AAC experiment\n",
      "=== Training...\n",
      "#1601: step=00416803, loss_p= -0.01, loss_v=  0.01, adv_m=  0.00, m_reward(100)= 110.2 (best= 133.3):  40%|███████████▏                | 1602/4000 [11:19<18:45,  2.13it/s]"
     ]
    }
   ],
   "source": [
    "training_data_filename = os.path.join('results', f'part1_exp_aac.dat')\n",
    "\n",
    "# Set to True to force re-run (careful, will delete old experiment results)\n",
    "force_run = True\n",
    "          \n",
    "if os.path.isfile(training_data_filename) and not force_run:\n",
    "    print(f'=== results file {training_data_filename} exists, skipping experiments.')\n",
    "    results_aac = load_training_data(training_data_filename)\n",
    "    \n",
    "else:\n",
    "    '''import itertools\n",
    "    hp = hw4.answers.part1_aac_hyperparams()\n",
    "for batch_size, beta, learn_rate, hidden_layersin, delta in itertools.product([4, 8, 32], [0.5, 1], [0.02, 0.002, 0.0002], [[16], [64], [256], [16,256]], [1]):\n",
    "    u = {\"batch_size\":batch_size, \"beta\":beta, \"learn_rate\":learn_rate, \"hidden_layers\":hidden_layersin, \"delta\":delta}\n",
    "    hp.update(u)\n",
    "    print(f'\\n{hp}\\n')\n",
    "    hp = hw4.answers.part1_aac_hyperparams()\n",
    "    loss_fns = [hw4ac.AACPolicyGradientLoss(hp['delta']), hw4pg.ActionEntropyLoss(ENV_N_ACTIONS, hp['beta'])]\n",
    "    training_data =  train_rl(hw4ac.AACPolicyAgent, hw4ac.AACPolicyNet, loss_fns, hp, max_episodes=exp_max_episodes) '''\n",
    "          \n",
    "    print(f'=== Running AAC experiment')\n",
    "    training_data = train_aac(max_episodes=exp_max_episodes)\n",
    "    results_aac = dict(aac=training_data)\n",
    "    dump_training_data(results_aac, training_data_filename)"
   ]
  },
  {
   "cell_type": "code",
   "execution_count": null,
   "metadata": {},
   "outputs": [],
   "source": [
    "# experiments_results_fig = plot_experiment_results(results)\n",
    "plot_experiment_results(results_aac, fig=experiments_results_fig)"
   ]
  },
  {
   "cell_type": "markdown",
   "metadata": {},
   "source": [
    "You should get better results with the AAC method, so this time the bar is higher (again, you should aim for a mean reward of 100+).\n",
    "Compare the graphs with combined PG method and see if they make sense."
   ]
  },
  {
   "cell_type": "code",
   "execution_count": 380,
   "metadata": {},
   "outputs": [
    {
     "name": "stdout",
     "output_type": "stream",
     "text": [
      "Best AAC mean reward: -86.64\n"
     ]
    },
    {
     "ename": "AssertionError",
     "evalue": "-86.64046 not greater than 50",
     "output_type": "error",
     "traceback": [
      "\u001b[1;31m---------------------------------------------------------------------------\u001b[0m",
      "\u001b[1;31mAssertionError\u001b[0m                            Traceback (most recent call last)",
      "\u001b[1;32m<ipython-input-380-f27e31829102>\u001b[0m in \u001b[0;36m<module>\u001b[1;34m\u001b[0m\n\u001b[0;32m      2\u001b[0m \u001b[0mprint\u001b[0m\u001b[1;33m(\u001b[0m\u001b[1;34mf'Best AAC mean reward: {best_aac_mean_reward:.2f}'\u001b[0m\u001b[1;33m)\u001b[0m\u001b[1;33m\u001b[0m\u001b[1;33m\u001b[0m\u001b[0m\n\u001b[0;32m      3\u001b[0m \u001b[1;33m\u001b[0m\u001b[0m\n\u001b[1;32m----> 4\u001b[1;33m \u001b[0mtest\u001b[0m\u001b[1;33m.\u001b[0m\u001b[0massertGreater\u001b[0m\u001b[1;33m(\u001b[0m\u001b[0mbest_aac_mean_reward\u001b[0m\u001b[1;33m,\u001b[0m \u001b[1;36m50\u001b[0m\u001b[1;33m)\u001b[0m\u001b[1;33m\u001b[0m\u001b[1;33m\u001b[0m\u001b[0m\n\u001b[0m",
      "\u001b[1;32m~\\miniconda3\\envs\\cs236781-hw\\lib\\unittest\\case.py\u001b[0m in \u001b[0;36massertGreater\u001b[1;34m(self, a, b, msg)\u001b[0m\n\u001b[0;32m   1308\u001b[0m         \u001b[1;32mif\u001b[0m \u001b[1;32mnot\u001b[0m \u001b[0ma\u001b[0m \u001b[1;33m>\u001b[0m \u001b[0mb\u001b[0m\u001b[1;33m:\u001b[0m\u001b[1;33m\u001b[0m\u001b[1;33m\u001b[0m\u001b[0m\n\u001b[0;32m   1309\u001b[0m             \u001b[0mstandardMsg\u001b[0m \u001b[1;33m=\u001b[0m \u001b[1;34m'%s not greater than %s'\u001b[0m \u001b[1;33m%\u001b[0m \u001b[1;33m(\u001b[0m\u001b[0msafe_repr\u001b[0m\u001b[1;33m(\u001b[0m\u001b[0ma\u001b[0m\u001b[1;33m)\u001b[0m\u001b[1;33m,\u001b[0m \u001b[0msafe_repr\u001b[0m\u001b[1;33m(\u001b[0m\u001b[0mb\u001b[0m\u001b[1;33m)\u001b[0m\u001b[1;33m)\u001b[0m\u001b[1;33m\u001b[0m\u001b[1;33m\u001b[0m\u001b[0m\n\u001b[1;32m-> 1310\u001b[1;33m             \u001b[0mself\u001b[0m\u001b[1;33m.\u001b[0m\u001b[0mfail\u001b[0m\u001b[1;33m(\u001b[0m\u001b[0mself\u001b[0m\u001b[1;33m.\u001b[0m\u001b[0m_formatMessage\u001b[0m\u001b[1;33m(\u001b[0m\u001b[0mmsg\u001b[0m\u001b[1;33m,\u001b[0m \u001b[0mstandardMsg\u001b[0m\u001b[1;33m)\u001b[0m\u001b[1;33m)\u001b[0m\u001b[1;33m\u001b[0m\u001b[1;33m\u001b[0m\u001b[0m\n\u001b[0m\u001b[0;32m   1311\u001b[0m \u001b[1;33m\u001b[0m\u001b[0m\n\u001b[0;32m   1312\u001b[0m     \u001b[1;32mdef\u001b[0m \u001b[0massertGreaterEqual\u001b[0m\u001b[1;33m(\u001b[0m\u001b[0mself\u001b[0m\u001b[1;33m,\u001b[0m \u001b[0ma\u001b[0m\u001b[1;33m,\u001b[0m \u001b[0mb\u001b[0m\u001b[1;33m,\u001b[0m \u001b[0mmsg\u001b[0m\u001b[1;33m=\u001b[0m\u001b[1;32mNone\u001b[0m\u001b[1;33m)\u001b[0m\u001b[1;33m:\u001b[0m\u001b[1;33m\u001b[0m\u001b[1;33m\u001b[0m\u001b[0m\n",
      "\u001b[1;32m~\\miniconda3\\envs\\cs236781-hw\\lib\\unittest\\case.py\u001b[0m in \u001b[0;36mfail\u001b[1;34m(self, msg)\u001b[0m\n\u001b[0;32m    751\u001b[0m     \u001b[1;32mdef\u001b[0m \u001b[0mfail\u001b[0m\u001b[1;33m(\u001b[0m\u001b[0mself\u001b[0m\u001b[1;33m,\u001b[0m \u001b[0mmsg\u001b[0m\u001b[1;33m=\u001b[0m\u001b[1;32mNone\u001b[0m\u001b[1;33m)\u001b[0m\u001b[1;33m:\u001b[0m\u001b[1;33m\u001b[0m\u001b[1;33m\u001b[0m\u001b[0m\n\u001b[0;32m    752\u001b[0m         \u001b[1;34m\"\"\"Fail immediately, with the given message.\"\"\"\u001b[0m\u001b[1;33m\u001b[0m\u001b[1;33m\u001b[0m\u001b[0m\n\u001b[1;32m--> 753\u001b[1;33m         \u001b[1;32mraise\u001b[0m \u001b[0mself\u001b[0m\u001b[1;33m.\u001b[0m\u001b[0mfailureException\u001b[0m\u001b[1;33m(\u001b[0m\u001b[0mmsg\u001b[0m\u001b[1;33m)\u001b[0m\u001b[1;33m\u001b[0m\u001b[1;33m\u001b[0m\u001b[0m\n\u001b[0m\u001b[0;32m    754\u001b[0m \u001b[1;33m\u001b[0m\u001b[0m\n\u001b[0;32m    755\u001b[0m     \u001b[1;32mdef\u001b[0m \u001b[0massertFalse\u001b[0m\u001b[1;33m(\u001b[0m\u001b[0mself\u001b[0m\u001b[1;33m,\u001b[0m \u001b[0mexpr\u001b[0m\u001b[1;33m,\u001b[0m \u001b[0mmsg\u001b[0m\u001b[1;33m=\u001b[0m\u001b[1;32mNone\u001b[0m\u001b[1;33m)\u001b[0m\u001b[1;33m:\u001b[0m\u001b[1;33m\u001b[0m\u001b[1;33m\u001b[0m\u001b[0m\n",
      "\u001b[1;31mAssertionError\u001b[0m: -86.64046 not greater than 50"
     ]
    }
   ],
   "source": [
    "best_aac_mean_reward = max(results_aac['aac']['mean_reward'])\n",
    "print(f'Best AAC mean reward: {best_aac_mean_reward:.2f}')\n",
    "\n",
    "test.assertGreater(best_aac_mean_reward, 50)"
   ]
  },
  {
   "cell_type": "markdown",
   "metadata": {},
   "source": [
    "### Final model training and visualization"
   ]
  },
  {
   "cell_type": "markdown",
   "metadata": {},
   "source": [
    "Now, using your best model and hyperparams, let's train model for much longer and see the performance.\n",
    "Just for fun, we'll also visualize an episode every now and then so that we can see how well the agent is playing."
   ]
  },
  {
   "cell_type": "markdown",
   "metadata": {},
   "source": [
    "**TODO**:\n",
    "- Run the following block to train.\n",
    "- Tweak model or hyperparams as necessary.\n",
    "- Aim for high mean reward, at least 150+. It's possible to get over 200.\n",
    "- When training is done and you're satisfied with the model's outputs, rename the checkpoint file by adding `_final` to the file name.\n",
    "  This will cause the block to skip training and instead load your saved model when running the homework submission script.\n",
    "  Note that your submission zip file will not include the checkpoint file. This is OK."
   ]
  },
  {
   "cell_type": "code",
   "execution_count": 116,
   "metadata": {},
   "outputs": [
    {
     "name": "stdout",
     "output_type": "stream",
     "text": [
      "=== Starting training...\n",
      "=== Loading checkpoint checkpoints/Beresheet-v2-ac.dat, "
     ]
    },
    {
     "ename": "RuntimeError",
     "evalue": "Error(s) in loading state_dict for AACPolicyNet:\n\tMissing key(s) in state_dict: \"common_fc.2.weight\". \n\tUnexpected key(s) in state_dict: \"action.bias\", \"state.bias\", \"common_fc.0.bias\". \n\tsize mismatch for common_fc.0.weight: copying a param with shape torch.Size([256, 8]) from checkpoint, the shape in current model is torch.Size([32, 8]).",
     "output_type": "error",
     "traceback": [
      "\u001b[1;31m---------------------------------------------------------------------------\u001b[0m",
      "\u001b[1;31mRuntimeError\u001b[0m                              Traceback (most recent call last)",
      "\u001b[1;32m<ipython-input-116-5733356eb238>\u001b[0m in \u001b[0;36m<module>\u001b[1;34m\u001b[0m\n\u001b[0;32m     29\u001b[0m \u001b[1;32melse\u001b[0m\u001b[1;33m:\u001b[0m\u001b[1;33m\u001b[0m\u001b[1;33m\u001b[0m\u001b[0m\n\u001b[0;32m     30\u001b[0m     \u001b[0mprint\u001b[0m\u001b[1;33m(\u001b[0m\u001b[1;34mf'=== Starting training...'\u001b[0m\u001b[1;33m)\u001b[0m\u001b[1;33m\u001b[0m\u001b[1;33m\u001b[0m\u001b[0m\n\u001b[1;32m---> 31\u001b[1;33m     train_data = train_aac(TARGET_REWARD, max_episodes=MAX_EPISODES,\n\u001b[0m\u001b[0;32m     32\u001b[0m                            seed=None, checkpoints_file=CHECKPOINTS_FILE, post_batch_fn=post_batch_fn)\n\u001b[0;32m     33\u001b[0m     \u001b[0mprint\u001b[0m\u001b[1;33m(\u001b[0m\u001b[1;34mf'=== Done, '\u001b[0m\u001b[1;33m,\u001b[0m \u001b[0mend\u001b[0m\u001b[1;33m=\u001b[0m\u001b[1;34m''\u001b[0m\u001b[1;33m)\u001b[0m\u001b[1;33m\u001b[0m\u001b[1;33m\u001b[0m\u001b[0m\n",
      "\u001b[1;32m<ipython-input-101-aa17821f4893>\u001b[0m in \u001b[0;36mtrain_aac\u001b[1;34m(baseline, entropy, **train_kwargs)\u001b[0m\n\u001b[0;32m      2\u001b[0m     \u001b[0mhp\u001b[0m \u001b[1;33m=\u001b[0m \u001b[0mhw4\u001b[0m\u001b[1;33m.\u001b[0m\u001b[0manswers\u001b[0m\u001b[1;33m.\u001b[0m\u001b[0mpart1_aac_hyperparams\u001b[0m\u001b[1;33m(\u001b[0m\u001b[1;33m)\u001b[0m\u001b[1;33m\u001b[0m\u001b[1;33m\u001b[0m\u001b[0m\n\u001b[0;32m      3\u001b[0m     \u001b[0mloss_fns\u001b[0m \u001b[1;33m=\u001b[0m \u001b[1;33m[\u001b[0m\u001b[0mhw4ac\u001b[0m\u001b[1;33m.\u001b[0m\u001b[0mAACPolicyGradientLoss\u001b[0m\u001b[1;33m(\u001b[0m\u001b[0mhp\u001b[0m\u001b[1;33m[\u001b[0m\u001b[1;34m'delta'\u001b[0m\u001b[1;33m]\u001b[0m\u001b[1;33m)\u001b[0m\u001b[1;33m,\u001b[0m \u001b[0mhw4pg\u001b[0m\u001b[1;33m.\u001b[0m\u001b[0mActionEntropyLoss\u001b[0m\u001b[1;33m(\u001b[0m\u001b[0mENV_N_ACTIONS\u001b[0m\u001b[1;33m,\u001b[0m \u001b[0mhp\u001b[0m\u001b[1;33m[\u001b[0m\u001b[1;34m'beta'\u001b[0m\u001b[1;33m]\u001b[0m\u001b[1;33m)\u001b[0m\u001b[1;33m]\u001b[0m\u001b[1;33m\u001b[0m\u001b[1;33m\u001b[0m\u001b[0m\n\u001b[1;32m----> 4\u001b[1;33m     \u001b[1;32mreturn\u001b[0m \u001b[0mtrain_rl\u001b[0m\u001b[1;33m(\u001b[0m\u001b[0mhw4ac\u001b[0m\u001b[1;33m.\u001b[0m\u001b[0mAACPolicyAgent\u001b[0m\u001b[1;33m,\u001b[0m \u001b[0mhw4ac\u001b[0m\u001b[1;33m.\u001b[0m\u001b[0mAACPolicyNet\u001b[0m\u001b[1;33m,\u001b[0m \u001b[0mloss_fns\u001b[0m\u001b[1;33m,\u001b[0m \u001b[0mhp\u001b[0m\u001b[1;33m,\u001b[0m \u001b[1;33m**\u001b[0m\u001b[0mtrain_kwargs\u001b[0m\u001b[1;33m)\u001b[0m\u001b[1;33m\u001b[0m\u001b[1;33m\u001b[0m\u001b[0m\n\u001b[0m",
      "\u001b[1;32m<ipython-input-20-b7f21d116dbd>\u001b[0m in \u001b[0;36mtrain_rl\u001b[1;34m(agent_type, net_type, loss_fns, hp, seed, checkpoints_file, **train_kw)\u001b[0m\n\u001b[0;32m     34\u001b[0m     \u001b[0mtrainer\u001b[0m \u001b[1;33m=\u001b[0m \u001b[0mhw4pg\u001b[0m\u001b[1;33m.\u001b[0m\u001b[0mPolicyTrainer\u001b[0m\u001b[1;33m(\u001b[0m\u001b[0mp_net\u001b[0m\u001b[1;33m,\u001b[0m \u001b[0moptimizer\u001b[0m\u001b[1;33m,\u001b[0m \u001b[0mloss_fns\u001b[0m\u001b[1;33m,\u001b[0m \u001b[0mdataloader\u001b[0m\u001b[1;33m,\u001b[0m \u001b[0mcheckpoints_file\u001b[0m\u001b[1;33m)\u001b[0m\u001b[1;33m\u001b[0m\u001b[1;33m\u001b[0m\u001b[0m\n\u001b[0;32m     35\u001b[0m     \u001b[1;32mtry\u001b[0m\u001b[1;33m:\u001b[0m\u001b[1;33m\u001b[0m\u001b[1;33m\u001b[0m\u001b[0m\n\u001b[1;32m---> 36\u001b[1;33m         \u001b[0mtrainer\u001b[0m\u001b[1;33m.\u001b[0m\u001b[0mtrain\u001b[0m\u001b[1;33m(\u001b[0m\u001b[1;33m**\u001b[0m\u001b[0mtrain_kw\u001b[0m\u001b[1;33m)\u001b[0m\u001b[1;33m\u001b[0m\u001b[1;33m\u001b[0m\u001b[0m\n\u001b[0m\u001b[0;32m     37\u001b[0m     \u001b[1;32mexcept\u001b[0m \u001b[0mKeyboardInterrupt\u001b[0m \u001b[1;32mas\u001b[0m \u001b[0me\u001b[0m\u001b[1;33m:\u001b[0m\u001b[1;33m\u001b[0m\u001b[1;33m\u001b[0m\u001b[0m\n\u001b[0;32m     38\u001b[0m         \u001b[0mprint\u001b[0m\u001b[1;33m(\u001b[0m\u001b[1;34m'Training interrupted by user.'\u001b[0m\u001b[1;33m)\u001b[0m\u001b[1;33m\u001b[0m\u001b[1;33m\u001b[0m\u001b[0m\n",
      "\u001b[1;32m~\\OneDrive - Technion\\Semester E\\236781 - Deep Learning on Computation Accelerators\\HW\\hw4\\hw4\\rl_pg.py\u001b[0m in \u001b[0;36mtrain\u001b[1;34m(self, target_reward, running_mean_len, max_episodes, post_batch_fn)\u001b[0m\n\u001b[0;32m    378\u001b[0m \u001b[1;33m\u001b[0m\u001b[0m\n\u001b[0;32m    379\u001b[0m         \u001b[1;32mif\u001b[0m \u001b[0mself\u001b[0m\u001b[1;33m.\u001b[0m\u001b[0mcheckpoint_file\u001b[0m \u001b[1;32mand\u001b[0m \u001b[0mos\u001b[0m\u001b[1;33m.\u001b[0m\u001b[0mpath\u001b[0m\u001b[1;33m.\u001b[0m\u001b[0misfile\u001b[0m\u001b[1;33m(\u001b[0m\u001b[0mself\u001b[0m\u001b[1;33m.\u001b[0m\u001b[0mcheckpoint_file\u001b[0m\u001b[1;33m)\u001b[0m\u001b[1;33m:\u001b[0m\u001b[1;33m\u001b[0m\u001b[1;33m\u001b[0m\u001b[0m\n\u001b[1;32m--> 380\u001b[1;33m             \u001b[0mi\u001b[0m\u001b[1;33m,\u001b[0m \u001b[0mbest_mean_reward\u001b[0m \u001b[1;33m=\u001b[0m \u001b[0mself\u001b[0m\u001b[1;33m.\u001b[0m\u001b[0mload_checkpoint\u001b[0m\u001b[1;33m(\u001b[0m\u001b[1;33m)\u001b[0m\u001b[1;33m\u001b[0m\u001b[1;33m\u001b[0m\u001b[0m\n\u001b[0m\u001b[0;32m    381\u001b[0m \u001b[1;33m\u001b[0m\u001b[0m\n\u001b[0;32m    382\u001b[0m         \u001b[1;32mif\u001b[0m \u001b[0mpost_batch_fn\u001b[0m \u001b[1;32mis\u001b[0m \u001b[1;32mNone\u001b[0m\u001b[1;33m:\u001b[0m\u001b[1;33m\u001b[0m\u001b[1;33m\u001b[0m\u001b[0m\n",
      "\u001b[1;32m~\\OneDrive - Technion\\Semester E\\236781 - Deep Learning on Computation Accelerators\\HW\\hw4\\hw4\\rl_pg.py\u001b[0m in \u001b[0;36mload_checkpoint\u001b[1;34m(self)\u001b[0m\n\u001b[0;32m    342\u001b[0m         \u001b[0mprint\u001b[0m\u001b[1;33m(\u001b[0m\u001b[1;34mf\"=== Loading checkpoint {self.checkpoint_file}, \"\u001b[0m\u001b[1;33m,\u001b[0m \u001b[0mend\u001b[0m\u001b[1;33m=\u001b[0m\u001b[1;34m\"\"\u001b[0m\u001b[1;33m)\u001b[0m\u001b[1;33m\u001b[0m\u001b[1;33m\u001b[0m\u001b[0m\n\u001b[0;32m    343\u001b[0m         \u001b[0mdata\u001b[0m \u001b[1;33m=\u001b[0m \u001b[0mtorch\u001b[0m\u001b[1;33m.\u001b[0m\u001b[0mload\u001b[0m\u001b[1;33m(\u001b[0m\u001b[0mself\u001b[0m\u001b[1;33m.\u001b[0m\u001b[0mcheckpoint_file\u001b[0m\u001b[1;33m)\u001b[0m\u001b[1;33m\u001b[0m\u001b[1;33m\u001b[0m\u001b[0m\n\u001b[1;32m--> 344\u001b[1;33m         \u001b[0mself\u001b[0m\u001b[1;33m.\u001b[0m\u001b[0mmodel\u001b[0m\u001b[1;33m.\u001b[0m\u001b[0mload_state_dict\u001b[0m\u001b[1;33m(\u001b[0m\u001b[0mdata\u001b[0m\u001b[1;33m[\u001b[0m\u001b[1;34m\"params\"\u001b[0m\u001b[1;33m]\u001b[0m\u001b[1;33m)\u001b[0m\u001b[1;33m\u001b[0m\u001b[1;33m\u001b[0m\u001b[0m\n\u001b[0m\u001b[0;32m    345\u001b[0m         \u001b[0mprint\u001b[0m\u001b[1;33m(\u001b[0m\u001b[1;34mf'best_mean_reward={data[\"best_mean_reward\"]:.2f}'\u001b[0m\u001b[1;33m)\u001b[0m\u001b[1;33m\u001b[0m\u001b[1;33m\u001b[0m\u001b[0m\n\u001b[0;32m    346\u001b[0m         \u001b[1;32mreturn\u001b[0m \u001b[0mdata\u001b[0m\u001b[1;33m[\u001b[0m\u001b[1;34m\"iter\"\u001b[0m\u001b[1;33m]\u001b[0m\u001b[1;33m,\u001b[0m \u001b[0mdata\u001b[0m\u001b[1;33m[\u001b[0m\u001b[1;34m\"best_mean_reward\"\u001b[0m\u001b[1;33m]\u001b[0m\u001b[1;33m\u001b[0m\u001b[1;33m\u001b[0m\u001b[0m\n",
      "\u001b[1;32m~\\miniconda3\\envs\\cs236781-hw\\lib\\site-packages\\torch\\nn\\modules\\module.py\u001b[0m in \u001b[0;36mload_state_dict\u001b[1;34m(self, state_dict, strict)\u001b[0m\n\u001b[0;32m   1042\u001b[0m \u001b[1;33m\u001b[0m\u001b[0m\n\u001b[0;32m   1043\u001b[0m         \u001b[1;32mif\u001b[0m \u001b[0mlen\u001b[0m\u001b[1;33m(\u001b[0m\u001b[0merror_msgs\u001b[0m\u001b[1;33m)\u001b[0m \u001b[1;33m>\u001b[0m \u001b[1;36m0\u001b[0m\u001b[1;33m:\u001b[0m\u001b[1;33m\u001b[0m\u001b[1;33m\u001b[0m\u001b[0m\n\u001b[1;32m-> 1044\u001b[1;33m             raise RuntimeError('Error(s) in loading state_dict for {}:\\n\\t{}'.format(\n\u001b[0m\u001b[0;32m   1045\u001b[0m                                self.__class__.__name__, \"\\n\\t\".join(error_msgs)))\n\u001b[0;32m   1046\u001b[0m         \u001b[1;32mreturn\u001b[0m \u001b[0m_IncompatibleKeys\u001b[0m\u001b[1;33m(\u001b[0m\u001b[0mmissing_keys\u001b[0m\u001b[1;33m,\u001b[0m \u001b[0munexpected_keys\u001b[0m\u001b[1;33m)\u001b[0m\u001b[1;33m\u001b[0m\u001b[1;33m\u001b[0m\u001b[0m\n",
      "\u001b[1;31mRuntimeError\u001b[0m: Error(s) in loading state_dict for AACPolicyNet:\n\tMissing key(s) in state_dict: \"common_fc.2.weight\". \n\tUnexpected key(s) in state_dict: \"action.bias\", \"state.bias\", \"common_fc.0.bias\". \n\tsize mismatch for common_fc.0.weight: copying a param with shape torch.Size([256, 8]) from checkpoint, the shape in current model is torch.Size([32, 8])."
     ]
    }
   ],
   "source": [
    "import IPython.display\n",
    "\n",
    "CHECKPOINTS_FILE = f'checkpoints/{ENV_NAME}-ac.dat'\n",
    "CHECKPOINTS_FILE_FINAL = f'checkpoints/{ENV_NAME}-ac_final.dat'\n",
    "TARGET_REWARD = 125\n",
    "MAX_EPISODES = 15_000\n",
    "\n",
    "def post_batch_fn(batch_idx, p_net, batch, print_every=20, final=False):\n",
    "    if not final and batch_idx % print_every != 0:\n",
    "        return\n",
    "    env, n_steps, reward = hw4ac.AACPolicyAgent.monitor_episode(ENV_NAME, p_net)\n",
    "    html = show_monitor_video(env, width=\"500\")\n",
    "    IPython.display.clear_output(wait=True)\n",
    "    print(f'Monitor@#{batch_idx}: n_steps={n_steps}, total_reward={reward:.3f}, final={final}')\n",
    "    IPython.display.display_html(html)\n",
    "    \n",
    "    \n",
    "if os.path.isfile(CHECKPOINTS_FILE_FINAL):\n",
    "    print(f'=== {CHECKPOINTS_FILE_FINAL} exists, skipping training...')\n",
    "    checkpoint_data = torch.load(CHECKPOINTS_FILE_FINAL)\n",
    "    hp = hw4.answers.part1_aac_hyperparams()\n",
    "    pv_net = hw4ac.AACPolicyNet.build_for_env(env, **hp)\n",
    "    pv_net.load_state_dict(checkpoint_data['params'])\n",
    "    print(f'=== Running best model...')\n",
    "    env, n_steps, reward = hw4ac.AACPolicyAgent.monitor_episode(ENV_NAME, pv_net)\n",
    "    print(f'=== Best model ran for {n_steps} steps. Total reward: {reward:.2f}')\n",
    "    IPython.display.display_html(show_monitor_video(env))\n",
    "    best_mean_reward = checkpoint_data[\"best_mean_reward\"]\n",
    "else:\n",
    "    print(f'=== Starting training...')\n",
    "    train_data = train_aac(TARGET_REWARD, max_episodes=MAX_EPISODES,\n",
    "                           seed=None, checkpoints_file=CHECKPOINTS_FILE, post_batch_fn=post_batch_fn)\n",
    "    print(f'=== Done, ', end='')\n",
    "    best_mean_reward = train_data[\"best_mean_reward\"][-1]\n",
    "    print(f'num_episodes={train_data[\"episode_num\"][-1]}, best_mean_reward={best_mean_reward:.1f}')\n",
    "          \n",
    "test.assertGreaterEqual(best_mean_reward, TARGET_REWARD)"
   ]
  },
  {
   "cell_type": "markdown",
   "metadata": {},
   "source": [
    "## Questions\n",
    "<a id=part1_3></a>"
   ]
  },
  {
   "cell_type": "markdown",
   "metadata": {},
   "source": [
    "**TODO**: Answer the following questions. Write your answers in the appropriate variables in the module `hw4/answers.py`."
   ]
  },
  {
   "cell_type": "code",
   "execution_count": null,
   "metadata": {},
   "outputs": [],
   "source": [
    "from cs236781.answers import display_answer\n",
    "import hw4.answers"
   ]
  },
  {
   "cell_type": "markdown",
   "metadata": {},
   "source": [
    "### Question 1\n",
    "\n",
    "Explain qualitatively why subtracting a baseline in the policy-gradient helps reduce it's variance.\n",
    "Specifically, give an example where it helps."
   ]
  },
  {
   "cell_type": "code",
   "execution_count": null,
   "metadata": {},
   "outputs": [],
   "source": [
    "display_answer(hw4.answers.part1_q1)"
   ]
  },
  {
   "cell_type": "markdown",
   "metadata": {},
   "source": [
    "### Question 2\n",
    "\n",
    "In AAC, when using the estimated q-values as regression targets for our state-values, why do we get a valid approximation?\n",
    "Hint: how is $v_\\pi(s)$ expressed in terms of $q_\\pi(s,a)$?"
   ]
  },
  {
   "cell_type": "code",
   "execution_count": null,
   "metadata": {},
   "outputs": [],
   "source": [
    "display_answer(hw4.answers.part1_q2)"
   ]
  },
  {
   "cell_type": "markdown",
   "metadata": {},
   "source": [
    "### Question 3\n",
    "\n",
    "1. Analyze and explain the graphs you got in first experiment run.\n",
    "2. Compare the experiment graphs you got with the AAC method to the regular PG method (`cpg`)."
   ]
  },
  {
   "cell_type": "code",
   "execution_count": null,
   "metadata": {},
   "outputs": [],
   "source": [
    "display_answer(hw4.answers.part1_q3)"
   ]
  },
  {
   "cell_type": "code",
   "execution_count": 370,
   "metadata": {},
   "outputs": [
    {
     "data": {
      "image/svg+xml": [
       "<?xml version=\"1.0\" encoding=\"UTF-8\" standalone=\"no\"?>\r\n",
       "<!DOCTYPE svg PUBLIC \"-//W3C//DTD SVG 1.1//EN\"\r\n",
       " \"http://www.w3.org/Graphics/SVG/1.1/DTD/svg11.dtd\">\r\n",
       "<!-- Generated by graphviz version 2.38.0 (20140413.2041)\r\n",
       " -->\r\n",
       "<!-- Title: %3 Pages: 1 -->\r\n",
       "<svg width=\"204pt\" height=\"214pt\"\r\n",
       " viewBox=\"0.00 0.00 204.00 214.00\" xmlns=\"http://www.w3.org/2000/svg\" xmlns:xlink=\"http://www.w3.org/1999/xlink\">\r\n",
       "<g id=\"graph0\" class=\"graph\" transform=\"scale(1 1) rotate(0) translate(4 210)\">\r\n",
       "<title>%3</title>\r\n",
       "<polygon fill=\"white\" stroke=\"none\" points=\"-4,4 -4,-210 200,-210 200,4 -4,4\"/>\r\n",
       "<!-- 2257515232512 -->\r\n",
       "<g id=\"node1\" class=\"node\"><title>2257515232512</title>\r\n",
       "<polygon fill=\"#caff70\" stroke=\"black\" points=\"142,-21 52,-21 52,-0 142,-0 142,-21\"/>\r\n",
       "<text text-anchor=\"middle\" x=\"97\" y=\"-7.4\" font-family=\"Times New Roman,serif\" font-size=\"12.00\">SumBackward0</text>\r\n",
       "</g>\r\n",
       "<!-- 2258894594976 -->\r\n",
       "<g id=\"node2\" class=\"node\"><title>2258894594976</title>\r\n",
       "<polygon fill=\"lightgrey\" stroke=\"black\" points=\"142,-78 52,-78 52,-57 142,-57 142,-78\"/>\r\n",
       "<text text-anchor=\"middle\" x=\"97\" y=\"-64.4\" font-family=\"Times New Roman,serif\" font-size=\"12.00\">AddBackward0</text>\r\n",
       "</g>\r\n",
       "<!-- 2258894594976&#45;&gt;2257515232512 -->\r\n",
       "<g id=\"edge1\" class=\"edge\"><title>2258894594976&#45;&gt;2257515232512</title>\r\n",
       "<path fill=\"none\" stroke=\"black\" d=\"M97,-56.9197C97,-49.9083 97,-40.1442 97,-31.4652\"/>\r\n",
       "<polygon fill=\"black\" stroke=\"black\" points=\"100.5,-31.3408 97,-21.3408 93.5001,-31.3409 100.5,-31.3408\"/>\r\n",
       "</g>\r\n",
       "<!-- 2258894594592 -->\r\n",
       "<g id=\"node3\" class=\"node\"><title>2258894594592</title>\r\n",
       "<polygon fill=\"lightgrey\" stroke=\"black\" points=\"88,-135 0,-135 0,-114 88,-114 88,-135\"/>\r\n",
       "<text text-anchor=\"middle\" x=\"44\" y=\"-121.4\" font-family=\"Times New Roman,serif\" font-size=\"12.00\">MulBackward0</text>\r\n",
       "</g>\r\n",
       "<!-- 2258894594592&#45;&gt;2258894594976 -->\r\n",
       "<g id=\"edge2\" class=\"edge\"><title>2258894594592&#45;&gt;2258894594976</title>\r\n",
       "<path fill=\"none\" stroke=\"black\" d=\"M53.2319,-113.92C60.7391,-106.129 71.521,-94.9405 80.5049,-85.6176\"/>\r\n",
       "<polygon fill=\"black\" stroke=\"black\" points=\"83.0983,-87.9703 87.517,-78.3408 78.0578,-83.113 83.0983,-87.9703\"/>\r\n",
       "</g>\r\n",
       "<!-- 2258894597664 -->\r\n",
       "<g id=\"node4\" class=\"node\"><title>2258894597664</title>\r\n",
       "<polygon fill=\"lightblue\" stroke=\"black\" points=\"124,-206 70,-206 70,-171 124,-171 124,-206\"/>\r\n",
       "<text text-anchor=\"middle\" x=\"97\" y=\"-178.4\" font-family=\"Times New Roman,serif\" font-size=\"12.00\"> (2)</text>\r\n",
       "</g>\r\n",
       "<!-- 2258894597664&#45;&gt;2258894594592 -->\r\n",
       "<g id=\"edge3\" class=\"edge\"><title>2258894597664&#45;&gt;2258894594592</title>\r\n",
       "<path fill=\"none\" stroke=\"black\" d=\"M82.797,-170.885C75.3613,-162.187 66.2659,-151.547 58.7511,-142.756\"/>\r\n",
       "<polygon fill=\"black\" stroke=\"black\" points=\"61.2944,-140.345 52.1362,-135.018 55.9736,-144.893 61.2944,-140.345\"/>\r\n",
       "</g>\r\n",
       "<!-- 2258894597520 -->\r\n",
       "<g id=\"node5\" class=\"node\"><title>2258894597520</title>\r\n",
       "<polygon fill=\"lightgrey\" stroke=\"black\" points=\"196,-135 106,-135 106,-114 196,-114 196,-135\"/>\r\n",
       "<text text-anchor=\"middle\" x=\"151\" y=\"-121.4\" font-family=\"Times New Roman,serif\" font-size=\"12.00\">AddBackward0</text>\r\n",
       "</g>\r\n",
       "<!-- 2258894597664&#45;&gt;2258894597520 -->\r\n",
       "<g id=\"edge5\" class=\"edge\"><title>2258894597664&#45;&gt;2258894597520</title>\r\n",
       "<path fill=\"none\" stroke=\"black\" d=\"M111.471,-170.885C119.047,-162.187 128.314,-151.547 135.971,-142.756\"/>\r\n",
       "<polygon fill=\"black\" stroke=\"black\" points=\"138.782,-144.857 142.71,-135.018 133.503,-140.26 138.782,-144.857\"/>\r\n",
       "</g>\r\n",
       "<!-- 2258894597520&#45;&gt;2258894594976 -->\r\n",
       "<g id=\"edge4\" class=\"edge\"><title>2258894597520&#45;&gt;2258894594976</title>\r\n",
       "<path fill=\"none\" stroke=\"black\" d=\"M141.594,-113.92C133.945,-106.129 122.96,-94.9405 113.806,-85.6176\"/>\r\n",
       "<polygon fill=\"black\" stroke=\"black\" points=\"116.165,-83.0244 106.662,-78.3408 111.17,-87.9286 116.165,-83.0244\"/>\r\n",
       "</g>\r\n",
       "</g>\r\n",
       "</svg>\r\n"
      ],
      "text/plain": [
       "<graphviz.dot.Digraph at 0x20d9e64b910>"
      ]
     },
     "execution_count": 370,
     "metadata": {},
     "output_type": "execute_result"
    }
   ],
   "source": [
    "import torch\n",
    "from torchviz import make_dot\n",
    "x=torch.ones(2, requires_grad=True)\n",
    "y=2*x\n",
    "z=3+x\n",
    "r=(y+z).sum()    \n",
    "make_dot(r)\n"
   ]
  },
  {
   "cell_type": "code",
   "execution_count": 375,
   "metadata": {},
   "outputs": [
    {
     "name": "stdout",
     "output_type": "stream",
     "text": [
      "Help on package a2c:\n",
      "\n",
      "NAME\n",
      "    a2c\n",
      "\n",
      "PACKAGE CONTENTS\n",
      "\n",
      "\n",
      "FILE\n",
      "    (built-in)\n",
      "\n",
      "\n"
     ]
    }
   ],
   "source": []
  },
  {
   "cell_type": "code",
   "execution_count": null,
   "metadata": {},
   "outputs": [],
   "source": []
  }
 ],
 "metadata": {
  "kernelspec": {
   "display_name": "Python 3",
   "language": "python",
   "name": "python3"
  },
  "language_info": {
   "codemirror_mode": {
    "name": "ipython",
    "version": 3
   },
   "file_extension": ".py",
   "mimetype": "text/x-python",
   "name": "python",
   "nbconvert_exporter": "python",
   "pygments_lexer": "ipython3",
   "version": "3.8.6"
  }
 },
 "nbformat": 4,
 "nbformat_minor": 4
}
