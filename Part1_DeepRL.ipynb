{
 "cells": [
  {
   "cell_type": "markdown",
   "metadata": {},
   "source": [
    "$$\n",
    "\\newcommand{\\mat}[1]{\\boldsymbol {#1}}\n",
    "\\newcommand{\\mattr}[1]{\\boldsymbol {#1}^\\top}\n",
    "\\newcommand{\\matinv}[1]{\\boldsymbol {#1}^{-1}}\n",
    "\\newcommand{\\vec}[1]{\\boldsymbol {#1}}\n",
    "\\newcommand{\\vectr}[1]{\\boldsymbol {#1}^\\top}\n",
    "\\newcommand{\\rvar}[1]{\\mathrm {#1}}\n",
    "\\newcommand{\\rvec}[1]{\\boldsymbol{\\mathrm{#1}}}\n",
    "\\newcommand{\\diag}{\\mathop{\\mathrm {diag}}}\n",
    "\\newcommand{\\set}[1]{\\mathbb {#1}}\n",
    "\\newcommand{\\cset}[1]{\\mathcal{#1}}\n",
    "\\newcommand{\\norm}[1]{\\left\\lVert#1\\right\\rVert}\n",
    "\\newcommand{\\pderiv}[2]{\\frac{\\partial #1}{\\partial #2}}\n",
    "\\newcommand{\\bb}[1]{\\boldsymbol{#1}}\n",
    "\\newcommand{\\E}[2][]{\\mathbb{E}_{#1}\\left[#2\\right]}\n",
    "\\newcommand{\\ip}[3]{\\left<#1,#2\\right>_{#3}}\n",
    "\\newcommand{\\given}[]{\\,\\middle\\vert\\,}\n",
    "\\newcommand{\\DKL}[2]{\\cset{D}_{\\text{KL}}\\left(#1\\,\\Vert\\, #2\\right)}\n",
    "\\newcommand{\\grad}[]{\\nabla}\n",
    "$$\n",
    "# Part 1: Deep Reinforcement Learning\n",
    "<a id=part1></a>"
   ]
  },
  {
   "cell_type": "markdown",
   "metadata": {},
   "source": [
    "In the tutorial we have seen value-based reinforcement learning, in which we learn to approximate the action-value function $q(s,a)$.\n",
    "\n",
    "In this exercise we'll explore a different approach, directly learning the agent's policy distribution, $\\pi(a|s)$\n",
    "by using *policy gradients*, in order to safely land on the moon!"
   ]
  },
  {
   "cell_type": "code",
   "execution_count": 254,
   "metadata": {},
   "outputs": [
    {
     "name": "stdout",
     "output_type": "stream",
     "text": [
      "The autoreload extension is already loaded. To reload it, use:\n",
      "  %reload_ext autoreload\n"
     ]
    }
   ],
   "source": [
    "%load_ext autoreload\n",
    "%autoreload 2\n",
    "%matplotlib inline\n",
    "\n",
    "import unittest\n",
    "import os\n",
    "import sys\n",
    "import pathlib\n",
    "import urllib\n",
    "import shutil\n",
    "import re\n",
    "\n",
    "import numpy as np\n",
    "import torch\n",
    "import torch.nn as nn\n",
    "import torch.optim as optim\n",
    "import matplotlib.pyplot as plt"
   ]
  },
  {
   "cell_type": "code",
   "execution_count": 255,
   "metadata": {},
   "outputs": [
    {
     "name": "stdout",
     "output_type": "stream",
     "text": [
      "Using device: cpu\n"
     ]
    }
   ],
   "source": [
    "test = unittest.TestCase()\n",
    "plt.rcParams.update({'font.size': 12})\n",
    "device = torch.device('cuda' if torch.cuda.is_available() else 'cpu')\n",
    "\n",
    "# Prefer CPU, GPU won't help much in this assignment\n",
    "device = 'cpu'\n",
    "print('Using device:', device)\n",
    "\n",
    "# Seed for deterministic tests\n",
    "SEED = 42"
   ]
  },
  {
   "cell_type": "markdown",
   "metadata": {},
   "source": [
    "Some technical notes before we begin:\n",
    "\n",
    "- This part does not require a GPU. We won't need large models, and the computation bottleneck will be the generation of episodes to train on.\n",
    "- In order to run this notebook on the server, you must prepend the `xvfb-run` command to create a virtual screen. For example,\n",
    "    - to run this notebook with `srun` do\n",
    "        ```\n",
    "        srun -c2 --gres=gpu:1 xvfb-run -a -s \"-screen 0 1440x900x24\" python main.py run-nb <filename>\n",
    "        ```\n",
    "    - To run the submission script, do\n",
    "        ```\n",
    "        srun -c2 xvfb-run -a -s \"-screen 0 1440x900x24\" python main.py prepare-submission ...\n",
    "        ```\n",
    "    - note that we have already included the `xvfb-run` command inside the `jupyter-lab.sh` script, so you can use it as usual with `srun`.\n",
    "    and so on.\n",
    "- The OpenAI `gym` library is not officially supported on windows. However it should be possible to install and run the necessary environment for this exercise. However, we cannot provide you with technical support for this. If you have trouble installing locally, we suggest running on the course server."
   ]
  },
  {
   "cell_type": "markdown",
   "metadata": {},
   "source": [
    "## Policy gradients\n",
    "<a id=part1_1></a>"
   ]
  },
  {
   "cell_type": "markdown",
   "metadata": {},
   "source": [
    "Recall from the tutorial that we define the **policy** of an agent as the conditional distribution,\n",
    "$$\n",
    "\\pi(a|s) = \\Pr(a_t=a\\vert s_t=s),\n",
    "$$\n",
    "which defines how likely the agent is to take action $a$ at state $s$.\n",
    "\n",
    "Furthermore we define the action-value function,\n",
    "$$\n",
    "q_{\\pi}(s,a) = \\E{g_t(\\tau)|s_t = s,a_t=a,\\pi}\n",
    "$$\n",
    "where \n",
    "$$\n",
    "g_t(\\tau) = r_{t+1}+\\gamma r_{t+2} + \\dots = \\sum_{k=0}^{\\infty} \\gamma^k r_{t+1+k},\n",
    "$$\n",
    "is the total discounted reward of a specific trajectory $\\tau$ from time $t$, and the expectation in $q$ is over all possible\n",
    "trajectories,\n",
    "$\n",
    "\\tau=\\left\\{ (s_0,a_0,r_1,s_1), \\dots (s_T,a_T,r_{T+1},s_{T+1}) \\right\\}.\n",
    "$"
   ]
  },
  {
   "cell_type": "markdown",
   "metadata": {},
   "source": [
    "In the tutorial we saw that we can learn a value function starting with some random function and\n",
    "updating it iteratively by using the **Bellman optimality equation**.\n",
    "Given that we have some action-value function, we can immediately create a policy based on that\n",
    "by simply selecting an action which maximize the action-value at the current state, i.e.\n",
    "$$\n",
    "\\pi(a|s) =\n",
    "\\begin{cases}\n",
    "1, & a = \\arg\\max_{a'\\in\\cset{A}} q(s,a') \\\\\n",
    "0, & \\text{else}\n",
    "\\end{cases}.\n",
    "$$\n",
    "This is called $q$-learning. This approach aims to obtain a policy indirectly through the action-value function.\n",
    "Yet, in most cases we don't actually care about knowing the value of particular states,\n",
    "since all we need is a good policy for our agent. \n",
    "\n",
    "Here we'll take a different approach and learn a policy distribution $\\pi(a|s)$ directly - by using **policy gradients**."
   ]
  },
  {
   "cell_type": "markdown",
   "metadata": {},
   "source": [
    "### Formalism"
   ]
  },
  {
   "cell_type": "markdown",
   "metadata": {},
   "source": [
    "We define a parametric policy, $\\pi_\\vec{\\theta}(a|s)$, and maximize total discounted reward (or minimize the negative reward):\n",
    "$$\n",
    "\\mathcal{L}(\\vec{\\theta})=\\E[\\tau]{-g(\\tau)|\\pi_\\vec{\\theta}} = -\\int g(\\tau)p(\\tau|\\vec{\\theta})d\\tau,\n",
    "$$\n",
    "where $p(\\tau|\\vec{\\theta})$ is the probability of a specific trajectory $\\tau$ under the policy defined by $\\vec{\\theta}$.\n"
   ]
  },
  {
   "cell_type": "markdown",
   "metadata": {},
   "source": [
    "Since we want to find the parameters $\\vec{\\theta}$ which minimize $\\mathcal{L}(\\vec{\\theta})$, we'll compute the gradient w.r.t. $\\vec{\\theta}$:\n",
    "$$\n",
    "\\grad\\mathcal{L}(\\vec{\\theta}) = -\\int g(\\tau)\\grad p(\\tau|\\vec{\\theta})d\\tau.\n",
    "$$\n",
    "\n",
    "Unfortunately, if we try to write $p(\\tau|\\vec{\\theta})$ explicitly,\n",
    "we find that computing it's gradient with respect to $\\vec{\\theta}$ is\n",
    "quite intractable due to a huge product of terms depending on $\\vec{\\theta}$:\n",
    "$$\n",
    "p(\\tau|\\vec{\\theta})=p\\left(\\left\\{ (s_t,a_t,r_{t+1},s_{t+1})\\right\\}_{t\\geq0}\\given\\vec{\\theta}\\right)\n",
    "=p(s_0)\\prod_{t\\geq0} \\pi_{\\vec{\\theta}}(a_t|s_t)p(s_{t+1}|s_t,a_t).\n",
    "$$"
   ]
  },
  {
   "cell_type": "markdown",
   "metadata": {},
   "source": [
    "However, by using the fact that $\\grad_{x}\\log(f(x))=\\frac{\\grad_{x}f(x)}{f(x)}$, we can convert the product into a sum:\n",
    "$$\n",
    "\\begin{align}\n",
    "\\grad\\mathcal{L}(\\vec{\\theta})\n",
    "&= -\\int g(\\tau)\\grad p(\\tau|\\vec{\\theta})d\\tau\n",
    "= -\\int g(\\tau)\\frac{\\grad p(\\tau|\\vec{\\theta})}{p(\\tau|\\vec{\\theta})}p(\\tau|\\vec{\\theta})d\\tau \\\\\n",
    "&= -\\int g(\\tau)\\grad\\log\\left(p(\\tau|\\vec{\\theta})\\right)p(\\tau|\\vec{\\theta})d\\tau \\\\\n",
    "&= -\\int g(\\tau)\\grad\\log\\left( p(s_0)\\prod_{t\\geq0} \\pi_{\\vec{\\theta}}(a_t|s_t)p(s_{t+1}|s_t,a_t) \\right)\n",
    "p(\\tau|\\vec{\\theta})d\\tau \\\\\n",
    "&= -\\int g(\\tau)\\grad\\left( \\log p(s_0) + \\sum_{t\\geq0} \\log \\pi_{\\vec{\\theta}}(a_t|s_t) + \n",
    "\\sum_{t\\geq0}\\log p(s_{t+1}|s_t,a_t) \\right) p(\\tau|\\vec{\\theta})d\\tau \\\\\n",
    "&= -\\int g(\\tau)\\sum_{t\\geq0} \\grad\\log \\pi_{\\vec{\\theta}}(a_t|s_t) p(\\tau|\\vec{\\theta})d\\tau \\\\\n",
    "&= \\E[\\tau]{-g(\\tau)\\sum_{t\\geq0} \\grad\\log \\pi_{\\vec{\\theta}}(a_t|s_t)}.\n",
    "\\end{align}\n",
    "$$"
   ]
  },
  {
   "cell_type": "markdown",
   "metadata": {},
   "source": [
    "This is the \"vanilla\" version of the policy gradient. We can interpret is as a weighted log-likelihood function.\n",
    "The log-policy is the log-likelihood term we wish to maximize and the total discounted reward acts as a weight: high-return positive\n",
    "trajectories will cause the probability of actions taken during them to increase, and negative-return trajectories will cause the\n",
    "probabilities of actions taken to decrease.\n",
    "\n",
    "In the following figures we see three trajectories: high-return positive-reward (green), low-return positive-reward (yellow) and negative-return (red) and the action probabilities along the trajectories after the update. Credit: Sergey Levine.\n",
    "\n",
    "|<strong></strong>||\n",
    "|-----| ----|\n",
    "|<img src=\"imgs/pg1.png\" height=\"200\">|<img src=\"imgs/pg2.png\" height=\"200\">|\n"
   ]
  },
  {
   "cell_type": "markdown",
   "metadata": {},
   "source": [
    "The major drawback of the policy-gradient is it's high variance, which causes erratic optimization behavior and therefore slow convergence.\n",
    "One reason for this is that the log-policy weight term, $g(\\tau)$ can vary wildly between different trajectories, even if they're similar in\n",
    "actions. Later on we'll implement the loss and explore some methods of variance reduction."
   ]
  },
  {
   "cell_type": "markdown",
   "metadata": {},
   "source": [
    "### Landing on the moon with policy gradients"
   ]
  },
  {
   "cell_type": "markdown",
   "metadata": {},
   "source": [
    "In the spirit of the recent achievements of the Israeli space industry,\n",
    "we'll apply our reinforcement learning skills to solve a simple game called **LunarLander**.\n",
    "\n",
    "This game is available as an `environment` in OpenAI `gym`.\n",
    "\n",
    "<video loop autoplay src=\"http://gym.openai.com/videos/2019-04-06--My9IiAbqha/LunarLander-v2/original.mp4\" />"
   ]
  },
  {
   "cell_type": "markdown",
   "metadata": {},
   "source": [
    "In this environment, you need to control the lander and get it to land safely on the moon.\n",
    "To do so, you must apply bottom, right or left thrusters (each are either fully on or fully off)\n",
    "and get it to land within the designated zone as quickly as possible and with minimal wasted fuel."
   ]
  },
  {
   "cell_type": "code",
   "execution_count": 256,
   "metadata": {},
   "outputs": [],
   "source": [
    "import gym\n",
    "\n",
    "# Just for fun :) ... but also to re-define the default max number of steps\n",
    "ENV_NAME = 'Beresheet-v2'\n",
    "MAX_EPISODE_STEPS = 300\n",
    "if ENV_NAME not in gym.envs.registry.env_specs:\n",
    "    gym.register(\n",
    "        id=ENV_NAME,\n",
    "        entry_point='gym.envs.box2d:LunarLander',\n",
    "        max_episode_steps=MAX_EPISODE_STEPS,\n",
    "        reward_threshold=200,\n",
    "    )"
   ]
  },
  {
   "cell_type": "code",
   "execution_count": 257,
   "metadata": {},
   "outputs": [
    {
     "name": "stdout",
     "output_type": "stream",
     "text": [
      "<TimeLimit<LunarLander<Beresheet-v2>>>\n",
      "observations space: Box(-inf, inf, (8,), float32)\n",
      "action space: Discrete(4)\n"
     ]
    }
   ],
   "source": [
    "import gym\n",
    "\n",
    "env = gym.make(ENV_NAME)\n",
    "\n",
    "print(env)\n",
    "print(f'observations space: {env.observation_space}')\n",
    "print(f'action space: {env.action_space}')\n",
    "\n",
    "ENV_N_ACTIONS = env.action_space.n\n",
    "ENV_N_OBSERVATIONS = env.observation_space.shape[0]"
   ]
  },
  {
   "cell_type": "markdown",
   "metadata": {},
   "source": [
    "The observations at each step is the Lander's position, velocity, angle, angular velocity and ground contact state.\n",
    "The actions are no-op, fire left truster, bottom thruster and right thruster.\n",
    "\n",
    "You are **highly encouraged** to read the [documentation](https://github.com/openai/gym/blob/master/gym/envs/box2d/lunar_lander.py) in the source code of the `LunarLander` environment to understand the reward system,\n",
    "and see how the actions and observations are created."
   ]
  },
  {
   "cell_type": "markdown",
   "metadata": {},
   "source": [
    "### Policy network and Agent"
   ]
  },
  {
   "cell_type": "markdown",
   "metadata": {},
   "source": [
    "Let's start with our policy-model. This will be a simple neural net, which should take an observation and return a score for each possible action."
   ]
  },
  {
   "cell_type": "markdown",
   "metadata": {},
   "source": [
    "**TODO**:\n",
    "1. Implement all methods in the `PolicyNet` class in the `hw4/rl_pg.py` module.\n",
    "   Start small. A simple MLP with a few hidden layers is a good starting point. You can come back and change it later based on the the experiments.  \n",
    "   Notice that we'll use the `build_for_env` method to instantiate a `PolicyNet` based on the configuration of a given environment.\n",
    "2. If you need hyperparameters to configure your model (e.g. number of hidden layers, sizes, etc.), add them in `part1_pg_hyperparams()` in `hw4/answers.py`."
   ]
  },
  {
   "cell_type": "code",
   "execution_count": 272,
   "metadata": {},
   "outputs": [
    {
     "data": {
      "text/plain": [
       "PolicyNet(\n",
       "  (fc): Sequential(\n",
       "    (0): Linear(in_features=8, out_features=512, bias=True)\n",
       "    (1): ReLU()\n",
       "    (2): Linear(in_features=512, out_features=4, bias=True)\n",
       "  )\n",
       ")"
      ]
     },
     "execution_count": 272,
     "metadata": {},
     "output_type": "execute_result"
    }
   ],
   "source": [
    "import hw4.rl_pg as hw4pg\n",
    "import hw4.answers\n",
    "\n",
    "hp = hw4.answers.part1_pg_hyperparams()\n",
    "\n",
    "# You can add keyword-args to this function which will be populated from the\n",
    "# hyperparameters dict.\n",
    "p_net = hw4pg.PolicyNet.build_for_env(env, device, **hp)\n",
    "p_net"
   ]
  },
  {
   "cell_type": "markdown",
   "metadata": {},
   "source": [
    "Now we need an **agent**. The purpose of our agent will be to act according to the current policy and generate experiences.\n",
    "Our `PolicyAgent` will use a `PolicyNet` as the current policy function.\n",
    "\n",
    "\n",
    "We'll also define some extra datatypes to help us represent the data generated by our agent.\n",
    "You can find the `Experience`, `Episode` and `TrainBatch` datatypes in the `hw4/rl_data.py` module."
   ]
  },
  {
   "cell_type": "markdown",
   "metadata": {},
   "source": [
    "**TODO**: Implement the `current_action_distribution()` method of the `PolicyAgent` class in the `hw4/rl_pg.py` module."
   ]
  },
  {
   "cell_type": "code",
   "execution_count": 279,
   "metadata": {},
   "outputs": [
    {
     "name": "stdout",
     "output_type": "stream",
     "text": [
      "torch.Size([4]) (4,)\n",
      "torch.Size([4]) (4,)\n",
      "torch.Size([4]) (4,)\n",
      "torch.Size([4]) (4,)\n",
      "torch.Size([4]) (4,)\n",
      "torch.Size([4]) (4,)\n",
      "torch.Size([4]) (4,)\n",
      "torch.Size([4]) (4,)\n",
      "torch.Size([4]) (4,)\n",
      "torch.Size([4]) (4,)\n"
     ]
    }
   ],
   "source": [
    "for i in range (10):\n",
    "    agent = hw4pg.PolicyAgent(env, p_net, device)\n",
    "    d = agent.current_action_distribution()\n",
    "    print(d.shape, (env.action_space.n,))\n",
    "    \n",
    "    test.assertSequenceEqual(d.shape, (env.action_space.n,))\n",
    "    test.assertAlmostEqual(d.sum(), 1.0, delta=1e-5)"
   ]
  },
  {
   "cell_type": "markdown",
   "metadata": {},
   "source": [
    "**TODO**: Implement the `step()` method of the `PolicyAgent`."
   ]
  },
  {
   "cell_type": "code",
   "execution_count": 280,
   "metadata": {},
   "outputs": [
    {
     "name": "stdout",
     "output_type": "stream",
     "text": [
      "Experience(state=tensor([-0.0103,  1.4006, -0.5270, -0.2418,  0.0133,  0.1474,  0.0000,  0.0000]), action=1, reward=-1.893248322826621, is_done=False)\n"
     ]
    }
   ],
   "source": [
    "agent = hw4pg.PolicyAgent(env, p_net, device)\n",
    "exp = agent.step()\n",
    "\n",
    "test.assertIsInstance(exp, hw4pg.Experience)\n",
    "print(exp)"
   ]
  },
  {
   "cell_type": "markdown",
   "metadata": {},
   "source": [
    "To test our agent, we'll write some code that allows it to play an environment. We'll use the `Monitor`\n",
    "wrapper in `gym` to generate a video of the episode for visual debugging."
   ]
  },
  {
   "cell_type": "markdown",
   "metadata": {},
   "source": [
    "**TODO**: Complete the implementation of the `monitor_episode()` method of the `PolicyAgent`."
   ]
  },
  {
   "cell_type": "code",
   "execution_count": 281,
   "metadata": {},
   "outputs": [],
   "source": [
    "env, n_steps, reward = agent.monitor_episode(ENV_NAME, p_net, device=device)"
   ]
  },
  {
   "cell_type": "markdown",
   "metadata": {},
   "source": [
    "To display the Monitor video in this notebook, we'll use a helper function from our `jupyter_utils` and a small wrapper that extracts the path of the last video file. "
   ]
  },
  {
   "cell_type": "code",
   "execution_count": 282,
   "metadata": {},
   "outputs": [
    {
     "name": "stdout",
     "output_type": "stream",
     "text": [
      "<Monitor<TimeLimit<LunarLander<Beresheet-v2>>>> 0 -100\n"
     ]
    }
   ],
   "source": [
    "import cs236781.jupyter_utils as jupyter_utils\n",
    "\n",
    "def show_monitor_video(monitor_env, idx=0, **kw):\n",
    "    # Extract video path\n",
    "    video_path = monitor_env.videos[idx][0]\n",
    "    video_path = os.path.relpath(video_path, start=os.path.curdir)\n",
    "    \n",
    "    # Use helper function to embed the video\n",
    "    return jupyter_utils.show_video_in_notebook(video_path, **kw)\n",
    "print(env, n_steps, reward)"
   ]
  },
  {
   "cell_type": "code",
   "execution_count": 283,
   "metadata": {},
   "outputs": [
    {
     "name": "stdout",
     "output_type": "stream",
     "text": [
      "Episode ran for 0 steps. Total reward: -100.00\n"
     ]
    },
    {
     "data": {
      "text/html": [
       "<video src=\"data:video/mp4;base64,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\" controls autoplay width=\"500\" height=\"auto\" />"
      ],
      "text/plain": [
       "<IPython.core.display.HTML object>"
      ]
     },
     "execution_count": 283,
     "metadata": {},
     "output_type": "execute_result"
    }
   ],
   "source": [
    "print(f'Episode ran for {n_steps} steps. Total reward: {reward:.2f}')\n",
    "\n",
    "show_monitor_video(env)"
   ]
  },
  {
   "cell_type": "markdown",
   "metadata": {},
   "source": [
    "### Training data"
   ]
  },
  {
   "cell_type": "markdown",
   "metadata": {},
   "source": [
    "The next step is to create data to train on.\n",
    "We need to train on batches of state-action pairs, so that our network can learn to predict the actions.\n",
    "\n",
    "We'll split this task into three parts:\n",
    "1. Generate a batch of `Episode`s, by using an `Agent` that's playing according to our current policy network.\n",
    "   Each `Episode` object contains the `Experience` objects created by the agent.\n",
    "2. Calculate the total discounted reward for each state we encountered and action we took. This is our action-value estimate.\n",
    "3. Convert the `Episode`s into a batch of tensors to train on.\n",
    "   Each batch will contain states, action taken per state, reward accrued, and the calculated estimated state-values.\n",
    "   These will be stored in a `TrainBatch` object.\n"
   ]
  },
  {
   "cell_type": "markdown",
   "metadata": {},
   "source": [
    "**TODO**: Complete the implementation of the `episode_batch_generator()` method in the `TrainBatchDataset` class within the `hw4.rl_data` module. This will address part 1 in the list above."
   ]
  },
  {
   "cell_type": "code",
   "execution_count": 301,
   "metadata": {},
   "outputs": [
    {
     "name": "stdout",
     "output_type": "stream",
     "text": [
      "First episode: Episode(total_reward=-382.83, #experences=54)\n"
     ]
    }
   ],
   "source": [
    "import hw4.rl_data as hw4data\n",
    "\n",
    "def agent_fn():\n",
    "    env = gym.make(ENV_NAME)\n",
    "    hp = hw4.answers.part1_pg_hyperparams()\n",
    "    p_net = hw4pg.PolicyNet.build_for_env(env, device, **hp)\n",
    "    return hw4pg.PolicyAgent(env, p_net, device)\n",
    "    \n",
    "ds = hw4data.TrainBatchDataset(agent_fn, episode_batch_size=8, gamma=0.9)\n",
    "batch_gen = ds.episode_batch_generator()\n",
    "b = next(batch_gen)\n",
    "print('First episode:', b[0])\n",
    "\n",
    "test.assertEqual(len(b), 8)\n",
    "for ep in b:\n",
    "    test.assertIsInstance(ep, hw4data.Episode)\n",
    "    \n",
    "    # Check that it's a full episode\n",
    "    is_done = [exp.is_done for exp in ep.experiences]\n",
    "    test.assertFalse(any(is_done[0:-1]))\n",
    "    test.assertTrue(is_done[-1])"
   ]
  },
  {
   "cell_type": "markdown",
   "metadata": {},
   "source": [
    "**TODO**: Complete the implementation of the `calc_qvals()` method in the `Episode` class.\n",
    "This will address part 2.\n",
    "These q-values are an estimate of the actual action value function: $$\\hat{q}_{t} = \\sum_{t'\\geq t} \\gamma^{t'-t}r_{t'+1}.$$"
   ]
  },
  {
   "cell_type": "code",
   "execution_count": 302,
   "metadata": {},
   "outputs": [],
   "source": [
    "np.random.seed(SEED)\n",
    "test_rewards = np.random.randint(-10, 10, 100)\n",
    "test_experiences = [hw4pg.Experience(None,None,r,False) for r in test_rewards] \n",
    "test_episode = hw4data.Episode(np.sum(test_rewards), test_experiences)\n",
    "\n",
    "qvals = test_episode.calc_qvals(0.9)\n",
    "qvals = list(qvals)\n",
    "\n",
    "expected_qvals = np.load(os.path.join('tests', 'assets', 'part1_expected_qvals.npy'))\n",
    "for i in range(len(test_rewards)):\n",
    "    test.assertAlmostEqual(expected_qvals[i], qvals[i], delta=1e-3)"
   ]
  },
  {
   "cell_type": "markdown",
   "metadata": {},
   "source": [
    "**TODO**: Complete the implementation of the `from_episodes()` method in the `TrainBatch` class.\n",
    "This will address part 3.\n",
    "\n",
    "Notes:\n",
    "- The `TrainBatchDataset` class provides a generator function that will use the above function to lazily generate batches of training samples and labels on demand.\n",
    "- This allows us to use a standard `PyTorch` dataloader to wrap our Dataset and provide us with parallel data loading for free!\n",
    "  This means we can run multiple environments with multiple agents in separate background processes to generate data for training and thus prevent the data loading bottleneck which is caused by the fact that we must generate full Episodes to train on in order to calculate the q-values.\n",
    "- We'll set the `DataLoader`'s `batch_size` to `None` because we have already implemented custom batching in our dataset.\n",
    "- You can choose the number of worker processes generating data using the `num_workers` parameter in the hyperparams dict. Set `num_workers=0` to disable parallelization."
   ]
  },
  {
   "cell_type": "code",
   "execution_count": 303,
   "metadata": {},
   "outputs": [
    {
     "name": "stdout",
     "output_type": "stream",
     "text": [
      "#0: TrainBatch(states: torch.Size([512, 8]), actions: torch.Size([512]), q_vals: torch.Size([512])), num_episodes: 512)\n",
      "#1: TrainBatch(states: torch.Size([536, 8]), actions: torch.Size([536]), q_vals: torch.Size([536])), num_episodes: 536)\n",
      "#2: TrainBatch(states: torch.Size([533, 8]), actions: torch.Size([533]), q_vals: torch.Size([533])), num_episodes: 533)\n",
      "#3: TrainBatch(states: torch.Size([583, 8]), actions: torch.Size([583]), q_vals: torch.Size([583])), num_episodes: 583)\n",
      "#4: TrainBatch(states: torch.Size([555, 8]), actions: torch.Size([555]), q_vals: torch.Size([555])), num_episodes: 555)\n",
      "#5: TrainBatch(states: torch.Size([514, 8]), actions: torch.Size([514]), q_vals: torch.Size([514])), num_episodes: 514)\n",
      "#6: TrainBatch(states: torch.Size([530, 8]), actions: torch.Size([530]), q_vals: torch.Size([530])), num_episodes: 530)\n"
     ]
    }
   ],
   "source": [
    "from torch.utils.data import DataLoader\n",
    "\n",
    "hp = hw4.answers.part1_pg_hyperparams()\n",
    "\n",
    "ds = hw4data.TrainBatchDataset(agent_fn, episode_batch_size=8, gamma=0.9)\n",
    "dl = DataLoader(\n",
    "    ds,\n",
    "    batch_size=None,\n",
    "    num_workers=hp['num_workers'],\n",
    "    multiprocessing_context='fork' if hp['num_workers'] > 0 else None\n",
    ")\n",
    "\n",
    "\n",
    "for i, train_batch in enumerate(dl):\n",
    "    states, actions, qvals, reward_mean = train_batch\n",
    "    print(f'#{i}: {train_batch}')\n",
    "    test.assertEqual(states.shape[0], actions.shape[0])\n",
    "    test.assertEqual(qvals.shape[0], actions.shape[0])\n",
    "    test.assertEqual(states.shape[1], env.observation_space.shape[0])\n",
    "    if i > 5:\n",
    "        break"
   ]
  },
  {
   "cell_type": "markdown",
   "metadata": {},
   "source": [
    "### Loss functions"
   ]
  },
  {
   "cell_type": "markdown",
   "metadata": {},
   "source": [
    "As usual, we need a loss function to optimize over.\n",
    "We'll calculate three types of losses:\n",
    "1. The causal vanilla policy gradient loss.\n",
    "1. The policy gradient loss, with a baseline to reduce variance.\n",
    "2. An entropy-based loss whos purpose is to diversify the agent's action selection,\n",
    "   and prevent it from being \"too sure\" about its actions.\n",
    "   This loss will be used together with one of the above losses."
   ]
  },
  {
   "cell_type": "markdown",
   "metadata": {},
   "source": [
    "#### Causal vanilla policy-gradient"
   ]
  },
  {
   "cell_type": "markdown",
   "metadata": {},
   "source": [
    "We have derived the policy-gradient as\n",
    "$$\n",
    "\\grad\\mathcal{L}(\\vec{\\theta}) = \\E[\\tau]{-g(\\tau)\\sum_{t\\geq0} \\grad\\log \\pi_{\\vec{\\theta}}(a_t|s_t)}.\n",
    "$$\n",
    "\n",
    "By writing the discounted reward explicitly and enforcing causality, i.e. the action taken at time $t$ can't affect\n",
    "the reward at time $t'<t$, we can get a slightly lower-variance version of the policy gradient:\n",
    "\n",
    "$$\n",
    "\\grad\\mathcal{L}_{\\text{PG}}(\\vec{\\theta}) = \n",
    "\\E[\\tau]{-\\sum_{t\\geq0} \\left(\\sum_{t'\\geq t} \\gamma^{t'}r_{t'+1} \\right)\\grad\\log \\pi_{\\vec{\\theta}}(a_t|s_t)}.\n",
    "$$"
   ]
  },
  {
   "cell_type": "markdown",
   "metadata": {},
   "source": [
    "In practice, the expectation over trajectories is calculated using a Monte-Carlo approach, i.e. simply sampling $N$\n",
    "trajectories and average the term inside the expectation. Therefore, we will use the following estimated version of the policy gradient:\n",
    "\n",
    "$$\n",
    "\\begin{align}\n",
    "\\hat\\grad\\mathcal{L}_{\\text{PG}}(\\vec{\\theta})\n",
    "&=-\\frac{1}{N}\\sum_{i=1}^{N}\\sum_{t\\geq0} \\left(\\sum_{t'\\geq t} \\gamma^{t'}r_{i,t'+1} \\right)\\grad\\log \\pi_{\\vec{\\theta}}(a_{i,t}|s_{i,t}) \\\\\n",
    "&=-\\frac{1}{N}\\sum_{i=1}^{N}\\sum_{t\\geq0} \\hat{q}_{i,t} \\grad\\log \\pi_{\\vec{\\theta}}(a_{i,t}|s_{i,t}).\n",
    "\\end{align}\n",
    "$$\n",
    "\n",
    "Note the use of the notation $\\hat{q}_{i,t}$ to represent the estimated action-value at time $t$ in the sampled trajectory $i$.\n",
    "Here $\\hat{q}_{i,t}$ is acting as the weight-term for the policy gradient."
   ]
  },
  {
   "cell_type": "markdown",
   "metadata": {},
   "source": [
    "**TODO**: Complete the implementation of the `VanillaPolicyGradientLoss` class in the `hw4/rl_pg.py` module."
   ]
  },
  {
   "cell_type": "code",
   "execution_count": 304,
   "metadata": {},
   "outputs": [
    {
     "name": "stdout",
     "output_type": "stream",
     "text": [
      "test_batch=TrainBatch(states: torch.Size([290, 8]), actions: torch.Size([290]), q_vals: torch.Size([290])), num_episodes: 290)\n",
      "\n",
      "test_action_scores=\n",
      "tensor([[ 0.3189, -0.4245,  0.3057, -0.7746],\n",
      "        [ 0.0349,  0.3211,  1.5736, -0.8455],\n",
      "        [-1.2742,  2.1228, -1.2347, -0.4879],\n",
      "        ...,\n",
      "        [ 0.5585,  0.3491,  0.8484,  2.0355],\n",
      "        [ 0.6575,  0.6645, -1.0752,  0.1760],\n",
      "        [-0.5064, -0.8442, -0.2214,  2.2746]])\n",
      "shape=torch.Size([290, 4])\n",
      "\n",
      "torch.Size([290]) torch.Size([290])\n",
      "loss_p=tensor(-38.3144)\n"
     ]
    },
    {
     "ename": "AssertionError",
     "evalue": "-38.314414978027344 != -36.642 within 0.01 delta (1.6724149780273407 difference)",
     "output_type": "error",
     "traceback": [
      "\u001b[1;31m---------------------------------------------------------------------------\u001b[0m",
      "\u001b[1;31mAssertionError\u001b[0m                            Traceback (most recent call last)",
      "\u001b[1;32m<ipython-input-304-522a8e3585c0>\u001b[0m in \u001b[0;36m<module>\u001b[1;34m\u001b[0m\n\u001b[0;32m     22\u001b[0m \u001b[1;33m\u001b[0m\u001b[0m\n\u001b[0;32m     23\u001b[0m \u001b[0mprint\u001b[0m\u001b[1;33m(\u001b[0m\u001b[1;34mf'{loss_p=}'\u001b[0m\u001b[1;33m)\u001b[0m\u001b[1;33m\u001b[0m\u001b[1;33m\u001b[0m\u001b[0m\n\u001b[1;32m---> 24\u001b[1;33m \u001b[0mtest\u001b[0m\u001b[1;33m.\u001b[0m\u001b[0massertAlmostEqual\u001b[0m\u001b[1;33m(\u001b[0m\u001b[0mloss_p\u001b[0m\u001b[1;33m.\u001b[0m\u001b[0mitem\u001b[0m\u001b[1;33m(\u001b[0m\u001b[1;33m)\u001b[0m\u001b[1;33m,\u001b[0m \u001b[1;33m-\u001b[0m\u001b[1;36m36.642\u001b[0m\u001b[1;33m,\u001b[0m \u001b[0mdelta\u001b[0m\u001b[1;33m=\u001b[0m\u001b[1;36m1e-2\u001b[0m\u001b[1;33m)\u001b[0m\u001b[1;33m\u001b[0m\u001b[1;33m\u001b[0m\u001b[0m\n\u001b[0m",
      "\u001b[1;32m~\\miniconda3\\envs\\cs236781-hw\\lib\\unittest\\case.py\u001b[0m in \u001b[0;36massertAlmostEqual\u001b[1;34m(self, first, second, places, msg, delta)\u001b[0m\n\u001b[0;32m    964\u001b[0m                 safe_repr(diff))\n\u001b[0;32m    965\u001b[0m         \u001b[0mmsg\u001b[0m \u001b[1;33m=\u001b[0m \u001b[0mself\u001b[0m\u001b[1;33m.\u001b[0m\u001b[0m_formatMessage\u001b[0m\u001b[1;33m(\u001b[0m\u001b[0mmsg\u001b[0m\u001b[1;33m,\u001b[0m \u001b[0mstandardMsg\u001b[0m\u001b[1;33m)\u001b[0m\u001b[1;33m\u001b[0m\u001b[1;33m\u001b[0m\u001b[0m\n\u001b[1;32m--> 966\u001b[1;33m         \u001b[1;32mraise\u001b[0m \u001b[0mself\u001b[0m\u001b[1;33m.\u001b[0m\u001b[0mfailureException\u001b[0m\u001b[1;33m(\u001b[0m\u001b[0mmsg\u001b[0m\u001b[1;33m)\u001b[0m\u001b[1;33m\u001b[0m\u001b[1;33m\u001b[0m\u001b[0m\n\u001b[0m\u001b[0;32m    967\u001b[0m \u001b[1;33m\u001b[0m\u001b[0m\n\u001b[0;32m    968\u001b[0m     def assertNotAlmostEqual(self, first, second, places=None, msg=None,\n",
      "\u001b[1;31mAssertionError\u001b[0m: -38.314414978027344 != -36.642 within 0.01 delta (1.6724149780273407 difference)"
     ]
    }
   ],
   "source": [
    "# Ensure deterministic run\n",
    "env = gym.make(ENV_NAME)\n",
    "env.seed(SEED)\n",
    "torch.manual_seed(SEED)\n",
    "\n",
    "def agent_fn():\n",
    "    # Use a simple \"network\" here, so that this test doesn't depend on\n",
    "    # your specific PolicyNet implementation\n",
    "    p_net_test = nn.Linear(ENV_N_OBSERVATIONS, ENV_N_ACTIONS, bias=True)\n",
    "    agent = hw4pg.PolicyAgent(env, p_net_test)\n",
    "    return agent\n",
    "\n",
    "dataloader = hw4data.TrainBatchDataset(agent_fn, gamma=0.9, episode_batch_size=4)\n",
    "\n",
    "test_batch = next(iter(dataloader))\n",
    "test_action_scores = torch.randn(len(test_batch), env.action_space.n)\n",
    "print(f\"{test_batch=}\", end='\\n\\n')\n",
    "print(f\"test_action_scores=\\n{test_action_scores}\\nshape={test_action_scores.shape}\", end='\\n\\n')\n",
    "\n",
    "loss_fn_p = hw4pg.VanillaPolicyGradientLoss()\n",
    "loss_p, _ = loss_fn_p(test_batch, test_action_scores)\n",
    "\n",
    "print(f'{loss_p=}')\n",
    "test.assertAlmostEqual(loss_p.item(), -36.642, delta=1e-2)"
   ]
  },
  {
   "cell_type": "markdown",
   "metadata": {},
   "source": [
    "#### Policy-gradient with baseline"
   ]
  },
  {
   "cell_type": "markdown",
   "metadata": {},
   "source": [
    "Another way to reduce the variance of our gradient is to use relative weighting of the log-policy instead of absolute reward values.\n",
    "$$\n",
    "\\hat\\grad\\mathcal{L}_{\\text{BPG}}(\\vec{\\theta})\n",
    "=-\\frac{1}{N}\\sum_{i=1}^{N}\\sum_{t\\geq0} \\left(\\hat{q}_{i,t}-b\\right) \\grad\\log \\pi_{\\vec{\\theta}}(a_{i,t}|s_{i,t}).\n",
    "$$\n",
    "In other words, we don't measure a trajectory's worth by it's total reward, but by how much better that total reward is relative to some\n",
    "expected (\"baseline\") reward value, denoted above by $b$.\n",
    "Note that subtracting a baseline has no effect on the expected value of the policy gradient. It's easy to prove this directly by definition.\n",
    "\n",
    "Here we'll implement a very simple baseline (not optimal in terms of variance reduction): the average of the estimated state-values $\\hat{q}_{i,t}$."
   ]
  },
  {
   "cell_type": "markdown",
   "metadata": {},
   "source": [
    "**TODO**: Complete the implementation of the `BaselinePolicyGradientLoss` class in the `hw4/rl_pg.py` module."
   ]
  },
  {
   "cell_type": "code",
   "execution_count": 293,
   "metadata": {},
   "outputs": [
    {
     "name": "stdout",
     "output_type": "stream",
     "text": [
      "torch.Size([290]) torch.Size([290])\n",
      "loss_dict={'loss_p': -1749.3209228515625, 'baseline': 1020.953857421875}\n"
     ]
    },
    {
     "ename": "AssertionError",
     "evalue": "1020.953857421875 != -22.191 within 0.01 delta (1043.144857421875 difference)",
     "output_type": "error",
     "traceback": [
      "\u001b[1;31m---------------------------------------------------------------------------\u001b[0m",
      "\u001b[1;31mAssertionError\u001b[0m                            Traceback (most recent call last)",
      "\u001b[1;32m<ipython-input-293-617ec0dcf946>\u001b[0m in \u001b[0;36m<module>\u001b[1;34m\u001b[0m\n\u001b[0;32m      4\u001b[0m \u001b[1;33m\u001b[0m\u001b[0m\n\u001b[0;32m      5\u001b[0m \u001b[0mprint\u001b[0m\u001b[1;33m(\u001b[0m\u001b[1;34mf'{loss_dict=}'\u001b[0m\u001b[1;33m)\u001b[0m\u001b[1;33m\u001b[0m\u001b[1;33m\u001b[0m\u001b[0m\n\u001b[1;32m----> 6\u001b[1;33m \u001b[0mtest\u001b[0m\u001b[1;33m.\u001b[0m\u001b[0massertAlmostEqual\u001b[0m\u001b[1;33m(\u001b[0m\u001b[0mloss_dict\u001b[0m\u001b[1;33m[\u001b[0m\u001b[1;34m'baseline'\u001b[0m\u001b[1;33m]\u001b[0m\u001b[1;33m,\u001b[0m \u001b[1;33m-\u001b[0m\u001b[1;36m22.191\u001b[0m\u001b[1;33m,\u001b[0m \u001b[0mdelta\u001b[0m\u001b[1;33m=\u001b[0m\u001b[1;36m1e-2\u001b[0m\u001b[1;33m)\u001b[0m\u001b[1;33m\u001b[0m\u001b[1;33m\u001b[0m\u001b[0m\n\u001b[0m\u001b[0;32m      7\u001b[0m \u001b[0mtest\u001b[0m\u001b[1;33m.\u001b[0m\u001b[0massertAlmostEqual\u001b[0m\u001b[1;33m(\u001b[0m\u001b[0mloss_p\u001b[0m\u001b[1;33m.\u001b[0m\u001b[0mitem\u001b[0m\u001b[1;33m(\u001b[0m\u001b[1;33m)\u001b[0m\u001b[1;33m,\u001b[0m \u001b[1;33m-\u001b[0m\u001b[1;36m0.278\u001b[0m\u001b[1;33m,\u001b[0m \u001b[0mdelta\u001b[0m\u001b[1;33m=\u001b[0m\u001b[1;36m1e-2\u001b[0m\u001b[1;33m)\u001b[0m\u001b[1;33m\u001b[0m\u001b[1;33m\u001b[0m\u001b[0m\n",
      "\u001b[1;32m~\\miniconda3\\envs\\cs236781-hw\\lib\\unittest\\case.py\u001b[0m in \u001b[0;36massertAlmostEqual\u001b[1;34m(self, first, second, places, msg, delta)\u001b[0m\n\u001b[0;32m    964\u001b[0m                 safe_repr(diff))\n\u001b[0;32m    965\u001b[0m         \u001b[0mmsg\u001b[0m \u001b[1;33m=\u001b[0m \u001b[0mself\u001b[0m\u001b[1;33m.\u001b[0m\u001b[0m_formatMessage\u001b[0m\u001b[1;33m(\u001b[0m\u001b[0mmsg\u001b[0m\u001b[1;33m,\u001b[0m \u001b[0mstandardMsg\u001b[0m\u001b[1;33m)\u001b[0m\u001b[1;33m\u001b[0m\u001b[1;33m\u001b[0m\u001b[0m\n\u001b[1;32m--> 966\u001b[1;33m         \u001b[1;32mraise\u001b[0m \u001b[0mself\u001b[0m\u001b[1;33m.\u001b[0m\u001b[0mfailureException\u001b[0m\u001b[1;33m(\u001b[0m\u001b[0mmsg\u001b[0m\u001b[1;33m)\u001b[0m\u001b[1;33m\u001b[0m\u001b[1;33m\u001b[0m\u001b[0m\n\u001b[0m\u001b[0;32m    967\u001b[0m \u001b[1;33m\u001b[0m\u001b[0m\n\u001b[0;32m    968\u001b[0m     def assertNotAlmostEqual(self, first, second, places=None, msg=None,\n",
      "\u001b[1;31mAssertionError\u001b[0m: 1020.953857421875 != -22.191 within 0.01 delta (1043.144857421875 difference)"
     ]
    }
   ],
   "source": [
    "# Using the same batch and action_scores from above cell\n",
    "loss_fn_p = hw4pg.BaselinePolicyGradientLoss()\n",
    "loss_p, loss_dict = loss_fn_p(test_batch, test_action_scores)\n",
    "\n",
    "print(f'{loss_dict=}')\n",
    "test.assertAlmostEqual(loss_dict['baseline'], -22.191, delta=1e-2)\n",
    "test.assertAlmostEqual(loss_p.item(), -0.278, delta=1e-2)"
   ]
  },
  {
   "cell_type": "markdown",
   "metadata": {},
   "source": [
    "#### Entropy loss"
   ]
  },
  {
   "cell_type": "markdown",
   "metadata": {},
   "source": [
    "The entropy of a probability distribution (in our case the policy), is\n",
    "$$\n",
    "H(\\pi) = -\\sum_{a} \\pi(a|s)\\log\\pi(a|s).\n",
    "$$\n",
    "The entropy is always positive and obtains it's maximum for a uniform distribution.\n",
    "We'll use the entropy of the policy as a bonus, i.e. we'll try to maximize it.\n",
    "The idea is the prevent the policy distribution from becoming too narrow and thus promote the agent's exploration."
   ]
  },
  {
   "cell_type": "markdown",
   "metadata": {},
   "source": [
    "First, we'll calculate the maximal possible entropy value of the action distribution for a set number of possible actions.\n",
    "This will be used as a normalization term.\n",
    "\n",
    "**TODO**: Complete the implementation of the `calc_max_entropy()` method in the `ActionEntropyLoss` class."
   ]
  },
  {
   "cell_type": "code",
   "execution_count": 288,
   "metadata": {},
   "outputs": [
    {
     "ename": "NotImplementedError",
     "evalue": "",
     "output_type": "error",
     "traceback": [
      "\u001b[1;31m---------------------------------------------------------------------------\u001b[0m",
      "\u001b[1;31mNotImplementedError\u001b[0m                       Traceback (most recent call last)",
      "\u001b[1;32m<ipython-input-288-be1b50efdaba>\u001b[0m in \u001b[0;36m<module>\u001b[1;34m\u001b[0m\n\u001b[1;32m----> 1\u001b[1;33m \u001b[0mloss_fn_e\u001b[0m \u001b[1;33m=\u001b[0m \u001b[0mhw4pg\u001b[0m\u001b[1;33m.\u001b[0m\u001b[0mActionEntropyLoss\u001b[0m\u001b[1;33m(\u001b[0m\u001b[0menv\u001b[0m\u001b[1;33m.\u001b[0m\u001b[0maction_space\u001b[0m\u001b[1;33m.\u001b[0m\u001b[0mn\u001b[0m\u001b[1;33m)\u001b[0m\u001b[1;33m\u001b[0m\u001b[1;33m\u001b[0m\u001b[0m\n\u001b[0m\u001b[0;32m      2\u001b[0m \u001b[0mprint\u001b[0m\u001b[1;33m(\u001b[0m\u001b[1;34m'max_entropy = '\u001b[0m\u001b[1;33m,\u001b[0m \u001b[0mloss_fn_e\u001b[0m\u001b[1;33m.\u001b[0m\u001b[0mmax_entropy\u001b[0m\u001b[1;33m)\u001b[0m\u001b[1;33m\u001b[0m\u001b[1;33m\u001b[0m\u001b[0m\n\u001b[0;32m      3\u001b[0m \u001b[1;33m\u001b[0m\u001b[0m\n\u001b[0;32m      4\u001b[0m \u001b[0mtest\u001b[0m\u001b[1;33m.\u001b[0m\u001b[0massertAlmostEqual\u001b[0m\u001b[1;33m(\u001b[0m\u001b[0mloss_fn_e\u001b[0m\u001b[1;33m.\u001b[0m\u001b[0mmax_entropy\u001b[0m\u001b[1;33m,\u001b[0m \u001b[1;36m1.38629436\u001b[0m\u001b[1;33m,\u001b[0m \u001b[0mdelta\u001b[0m\u001b[1;33m=\u001b[0m\u001b[1;36m1e-3\u001b[0m\u001b[1;33m)\u001b[0m\u001b[1;33m\u001b[0m\u001b[1;33m\u001b[0m\u001b[0m\n",
      "\u001b[1;32m~\\OneDrive - Technion\\Semester E\\236781 - Deep Learning on Computation Accelerators\\HW\\hw4\\hw4\\rl_pg.py\u001b[0m in \u001b[0;36m__init__\u001b[1;34m(self, n_actions, beta)\u001b[0m\n\u001b[0;32m    252\u001b[0m         \"\"\"\n\u001b[0;32m    253\u001b[0m         \u001b[0msuper\u001b[0m\u001b[1;33m(\u001b[0m\u001b[1;33m)\u001b[0m\u001b[1;33m.\u001b[0m\u001b[0m__init__\u001b[0m\u001b[1;33m(\u001b[0m\u001b[1;33m)\u001b[0m\u001b[1;33m\u001b[0m\u001b[1;33m\u001b[0m\u001b[0m\n\u001b[1;32m--> 254\u001b[1;33m         \u001b[0mself\u001b[0m\u001b[1;33m.\u001b[0m\u001b[0mmax_entropy\u001b[0m \u001b[1;33m=\u001b[0m \u001b[0mself\u001b[0m\u001b[1;33m.\u001b[0m\u001b[0mcalc_max_entropy\u001b[0m\u001b[1;33m(\u001b[0m\u001b[0mn_actions\u001b[0m\u001b[1;33m)\u001b[0m\u001b[1;33m\u001b[0m\u001b[1;33m\u001b[0m\u001b[0m\n\u001b[0m\u001b[0;32m    255\u001b[0m         \u001b[0mself\u001b[0m\u001b[1;33m.\u001b[0m\u001b[0mbeta\u001b[0m \u001b[1;33m=\u001b[0m \u001b[0mbeta\u001b[0m\u001b[1;33m\u001b[0m\u001b[1;33m\u001b[0m\u001b[0m\n\u001b[0;32m    256\u001b[0m \u001b[1;33m\u001b[0m\u001b[0m\n",
      "\u001b[1;32m~\\OneDrive - Technion\\Semester E\\236781 - Deep Learning on Computation Accelerators\\HW\\hw4\\hw4\\rl_pg.py\u001b[0m in \u001b[0;36mcalc_max_entropy\u001b[1;34m(n_actions)\u001b[0m\n\u001b[0;32m    264\u001b[0m         \u001b[1;31m# TODO: Compute max_entropy.\u001b[0m\u001b[1;33m\u001b[0m\u001b[1;33m\u001b[0m\u001b[1;33m\u001b[0m\u001b[0m\n\u001b[0;32m    265\u001b[0m         \u001b[1;31m# ====== YOUR CODE: ======\u001b[0m\u001b[1;33m\u001b[0m\u001b[1;33m\u001b[0m\u001b[1;33m\u001b[0m\u001b[0m\n\u001b[1;32m--> 266\u001b[1;33m         \u001b[1;32mraise\u001b[0m \u001b[0mNotImplementedError\u001b[0m\u001b[1;33m(\u001b[0m\u001b[1;33m)\u001b[0m\u001b[1;33m\u001b[0m\u001b[1;33m\u001b[0m\u001b[0m\n\u001b[0m\u001b[0;32m    267\u001b[0m         \u001b[1;31m# ========================\u001b[0m\u001b[1;33m\u001b[0m\u001b[1;33m\u001b[0m\u001b[1;33m\u001b[0m\u001b[0m\n\u001b[0;32m    268\u001b[0m         \u001b[1;32mreturn\u001b[0m \u001b[0mmax_entropy\u001b[0m\u001b[1;33m\u001b[0m\u001b[1;33m\u001b[0m\u001b[0m\n",
      "\u001b[1;31mNotImplementedError\u001b[0m: "
     ]
    }
   ],
   "source": [
    "loss_fn_e = hw4pg.ActionEntropyLoss(env.action_space.n)\n",
    "print('max_entropy = ', loss_fn_e.max_entropy)\n",
    "\n",
    "test.assertAlmostEqual(loss_fn_e.max_entropy, 1.38629436, delta=1e-3)"
   ]
  },
  {
   "cell_type": "markdown",
   "metadata": {},
   "source": [
    "**TODO**: Complete the implementation of the `forward()` method in the `ActionEntropyLoss` class."
   ]
  },
  {
   "cell_type": "code",
   "execution_count": null,
   "metadata": {
    "execution": {
     "iopub.execute_input": "2021-01-26T09:17:47.366171Z",
     "iopub.status.busy": "2021-01-26T09:17:47.365684Z",
     "iopub.status.idle": "2021-01-26T09:17:47.387917Z",
     "shell.execute_reply": "2021-01-26T09:17:47.388478Z"
    }
   },
   "outputs": [],
   "source": [
    "loss_e, _ = loss_fn_e(test_batch, test_action_scores)\n",
    "print('loss = ', loss_e)\n",
    "\n",
    "test.assertAlmostEqual(loss_e.item(), -0.8103, delta=1e-2)"
   ]
  },
  {
   "cell_type": "markdown",
   "metadata": {},
   "source": [
    "### Training"
   ]
  },
  {
   "cell_type": "markdown",
   "metadata": {},
   "source": [
    "We'll implement our training procedure as follows:\n",
    "\n",
    "1. Initialize the current policy to be a random policy.\n",
    "1. Sample $N$ trajectories from the environment using the current policy.\n",
    "2. Calculate the estimated $q$-values, $\\hat{q}_{i,t} = \\sum_{t'\\geq t} \\gamma^{t'}r_{i,t'+1}$ for each trajectory $i$.\n",
    "3. Calculate policy gradient estimate $\\hat\\grad\\mathcal{L}(\\vec{\\theta})$ as defined above.\n",
    "4. Perform SGD update $\\vec{\\theta}\\leftarrow\\vec{\\theta}-\\eta\\hat\\grad\\mathcal{L}(\\vec{\\theta})$.\n",
    "5. Repeat from step 2.\n",
    "\n",
    "This is known as the **REINFORCE** algorithm."
   ]
  },
  {
   "cell_type": "markdown",
   "metadata": {},
   "source": [
    "Fortunately, we've already implemented everything we need for steps 1-4 so we need only a bit more code to put it all together.\n",
    "\n",
    "The following block implements a wrapper, `train_pg` to create all the objects we need in order to train our policy gradient model.\n"
   ]
  },
  {
   "cell_type": "code",
   "execution_count": null,
   "metadata": {
    "execution": {
     "iopub.execute_input": "2021-01-26T09:17:47.396286Z",
     "iopub.status.busy": "2021-01-26T09:17:47.395771Z",
     "iopub.status.idle": "2021-01-26T09:17:47.418234Z",
     "shell.execute_reply": "2021-01-26T09:17:47.418597Z"
    }
   },
   "outputs": [],
   "source": [
    "import hw4.answers\n",
    "from functools import partial\n",
    "\n",
    "ENV_NAME = \"Beresheet-v2\"\n",
    "\n",
    "def agent_fn_train(agent_type, p_net, seed, envs_dict):\n",
    "    winfo = torch.utils.data.get_worker_info()\n",
    "    wid = winfo.id if winfo else 0\n",
    "    seed = seed + wid if seed else wid\n",
    "\n",
    "    env = gym.make(ENV_NAME)\n",
    "    envs_dict[wid] = env\n",
    "    env.seed(seed)\n",
    "    np.random.seed(seed)\n",
    "    torch.manual_seed(seed)\n",
    "\n",
    "    return agent_type(env, p_net)\n",
    "\n",
    "def train_rl(agent_type, net_type, loss_fns, hp, seed=None, checkpoints_file=None, **train_kw):\n",
    "    print(f'hyperparams: {hp}')\n",
    "    \n",
    "    envs = {}\n",
    "    p_net = net_type(ENV_N_OBSERVATIONS, ENV_N_ACTIONS, **hp)\n",
    "    p_net.share_memory()\n",
    "    agent_fn = partial(agent_fn_train, agent_type, p_net, seed, envs)\n",
    "    \n",
    "    dataset = hw4data.TrainBatchDataset(agent_fn, hp['batch_size'], hp['gamma'])\n",
    "    dataloader = DataLoader(\n",
    "        dataset, batch_size=None, num_workers=hp['num_workers'],\n",
    "        multiprocessing_context='fork' if hp['num_workers'] > 0 else None\n",
    "    )\n",
    "    optimizer = optim.Adam(p_net.parameters(), lr=hp['learn_rate'], eps=hp['eps'])\n",
    "    \n",
    "    trainer = hw4pg.PolicyTrainer(p_net, optimizer, loss_fns, dataloader, checkpoints_file)\n",
    "    try:\n",
    "        trainer.train(**train_kw)\n",
    "    except KeyboardInterrupt as e:\n",
    "        print('Training interrupted by user.')\n",
    "    finally:\n",
    "        for env in envs.values():\n",
    "            env.close()\n",
    "\n",
    "    # Include final model state\n",
    "    training_data = trainer.training_data\n",
    "    training_data['model_state'] = p_net.state_dict()\n",
    "    return training_data\n",
    "    \n",
    "def train_pg(baseline=False, entropy=False, **train_kwargs):\n",
    "    hp = hw4.answers.part1_pg_hyperparams()\n",
    "    \n",
    "    loss_fns = []\n",
    "    if baseline:\n",
    "        loss_fns.append(hw4pg.BaselinePolicyGradientLoss())\n",
    "    else:\n",
    "        loss_fns.append(hw4pg.VanillaPolicyGradientLoss())\n",
    "    if entropy:\n",
    "        loss_fns.append(hw4pg.ActionEntropyLoss(ENV_N_ACTIONS, hp['beta']))\n",
    "\n",
    "    return train_rl(hw4pg.PolicyAgent, hw4pg.PolicyNet, loss_fns, hp, **train_kwargs)"
   ]
  },
  {
   "cell_type": "markdown",
   "metadata": {},
   "source": [
    "The `PolicyTrainer` class implements the training loop, collects the losses and rewards and provides some useful checkpointing functionality.\n",
    "The training loop will generate batches of episodes and train on them until either:\n",
    "- The average total reward from the last `running_mean_len` episodes is greater than the `target_reward`, OR\n",
    "- The number of generated episodes reached `max_episodes`.\n",
    "\n",
    "Most of this class is already implemented for you. "
   ]
  },
  {
   "cell_type": "markdown",
   "metadata": {},
   "source": [
    "**TODO**:\n",
    "1. Complete the training loop by implementing the `train_batch()` method of the `PolicyTrainer`.\n",
    "2. Tweak the hyperparameters in the `part1_pg_hyperparams()` function within the `hw4/answers.py` module as needed. You get some sane defaults."
   ]
  },
  {
   "cell_type": "markdown",
   "metadata": {},
   "source": [
    "Let's check whether our model is actually training.\n",
    "We'll try to reach a very low (bad) target reward, just as a sanity check to see that training works.\n",
    "Your model should be able to reach this target reward within a few batches.\n",
    "\n",
    "You can increase the target reward and use this block to manually tweak your model and hyperparameters a few times."
   ]
  },
  {
   "cell_type": "code",
   "execution_count": null,
   "metadata": {
    "execution": {
     "iopub.execute_input": "2021-01-26T09:17:47.422376Z",
     "iopub.status.busy": "2021-01-26T09:17:47.421884Z",
     "iopub.status.idle": "2021-01-26T09:18:02.404013Z",
     "shell.execute_reply": "2021-01-26T09:18:02.404808Z"
    }
   },
   "outputs": [],
   "source": [
    "target_reward = -140 # VERY LOW target\n",
    "train_data = train_pg(target_reward=target_reward, seed=SEED, max_episodes=2000, running_mean_len=10)\n",
    "\n",
    "test.assertGreater(train_data['mean_reward'][-1], target_reward)"
   ]
  },
  {
   "cell_type": "markdown",
   "metadata": {},
   "source": [
    "### Experimenting with different losses"
   ]
  },
  {
   "cell_type": "markdown",
   "metadata": {},
   "source": [
    "We'll now run a few experiments to see the effect of diferent loss functions on the training dynamics. Namely, we'll try:\n",
    "1. Vanilla PG (`vpg`): No baseline, no entropy\n",
    "2. Baseline PG (`bpg`): Baseline, no entropy loss\n",
    "3. Entropy PG (`epg`): No baseline, with entropy loss\n",
    "3. Combined PG (`cpg`): Baseline, with entropy loss"
   ]
  },
  {
   "cell_type": "code",
   "execution_count": null,
   "metadata": {
    "execution": {
     "iopub.execute_input": "2021-01-26T09:18:02.409353Z",
     "iopub.status.busy": "2021-01-26T09:18:02.408844Z",
     "iopub.status.idle": "2021-01-26T09:18:02.432680Z",
     "shell.execute_reply": "2021-01-26T09:18:02.433225Z"
    }
   },
   "outputs": [],
   "source": [
    "from collections import namedtuple\n",
    "from pprint import pprint\n",
    "import itertools as it\n",
    "\n",
    "\n",
    "ExpConfig = namedtuple('ExpConfig', ('name','baseline','entropy'))\n",
    "\n",
    "def exp_configs():\n",
    "    exp_names = ('vpg', 'epg', 'bpg', 'cpg')\n",
    "    z = zip(exp_names, it.product((False, True), (False, True)))\n",
    "    return (ExpConfig(n, b, e) for (n, (b, e)) in z)\n",
    "\n",
    "pprint(list(exp_configs()))"
   ]
  },
  {
   "cell_type": "markdown",
   "metadata": {},
   "source": [
    "We'll save the training data from each experiment for plotting."
   ]
  },
  {
   "cell_type": "code",
   "execution_count": null,
   "metadata": {
    "execution": {
     "iopub.execute_input": "2021-01-26T09:18:02.436825Z",
     "iopub.status.busy": "2021-01-26T09:18:02.436330Z",
     "iopub.status.idle": "2021-01-26T09:18:02.457748Z",
     "shell.execute_reply": "2021-01-26T09:18:02.458103Z"
    }
   },
   "outputs": [],
   "source": [
    "import pickle\n",
    "\n",
    "def dump_training_data(data, filename):\n",
    "    os.makedirs(os.path.dirname(filename), exist_ok=True)\n",
    "    with open(filename, mode='wb') as file:\n",
    "        pickle.dump(data, file)\n",
    "        \n",
    "def load_training_data(filename):\n",
    "    with open(filename, mode='rb') as file:\n",
    "        return pickle.load(file)"
   ]
  },
  {
   "cell_type": "markdown",
   "metadata": {},
   "source": [
    "Let's run the experiments! We'll run each configuration for a fixed number of episodes so that we can compare them.\n",
    "\n",
    "Notes:\n",
    "1. Until your models start working, you can decrease the number of episodes for each experiment, or only run one experiment.\n",
    "2.  The results will be saved in a file. To re-run the experiments, you can set `force_run` to `True`."
   ]
  },
  {
   "cell_type": "code",
   "execution_count": null,
   "metadata": {
    "execution": {
     "iopub.execute_input": "2021-01-26T09:18:02.462232Z",
     "iopub.status.busy": "2021-01-26T09:18:02.461744Z",
     "iopub.status.idle": "2021-01-26T09:18:02.499868Z",
     "shell.execute_reply": "2021-01-26T09:18:02.500465Z"
    }
   },
   "outputs": [],
   "source": [
    "import math\n",
    "\n",
    "exp_max_episodes = 4000\n",
    "\n",
    "results = {}\n",
    "training_data_filename = os.path.join('results', f'part1_exp.dat')\n",
    "\n",
    "# Set to True to force re-run (careful! will delete old experiment results)\n",
    "force_run = False\n",
    "\n",
    "# Skip running if results file exists.\n",
    "if os.path.isfile(training_data_filename) and not force_run:\n",
    "    print(f'=== results file {training_data_filename} exists, skipping experiments.')\n",
    "    results = load_training_data(training_data_filename)\n",
    "    \n",
    "else:\n",
    "    for n, b, e in exp_configs():\n",
    "        print(f'=== Experiment {n}')\n",
    "        results[n] = train_pg(baseline=b, entropy=e, max_episodes=exp_max_episodes, post_batch_fn=None)\n",
    "        \n",
    "    dump_training_data(results, training_data_filename)"
   ]
  },
  {
   "cell_type": "code",
   "execution_count": null,
   "metadata": {
    "execution": {
     "iopub.execute_input": "2021-01-26T09:18:02.505328Z",
     "iopub.status.busy": "2021-01-26T09:18:02.504831Z",
     "iopub.status.idle": "2021-01-26T09:18:03.109900Z",
     "shell.execute_reply": "2021-01-26T09:18:03.110429Z"
    }
   },
   "outputs": [],
   "source": [
    "def plot_experiment_results(results, fig=None):\n",
    "    if fig is None:\n",
    "        fig, _ = plt.subplots(nrows=2, ncols=2, sharex=True, figsize=(18,12))\n",
    "    for i, plot_type in enumerate(('loss_p', 'baseline', 'loss_e', 'mean_reward')):\n",
    "        ax = fig.axes[i]\n",
    "        for exp_name, exp_res in results.items():\n",
    "            if plot_type not in exp_res:\n",
    "                continue\n",
    "            ax.plot(exp_res['episode_num'], exp_res[plot_type], label=exp_name)\n",
    "        ax.set_title(plot_type)\n",
    "        ax.set_xlabel('episode')\n",
    "        ax.legend()\n",
    "    return fig\n",
    "    \n",
    "experiments_results_fig = plot_experiment_results(results)"
   ]
  },
  {
   "cell_type": "markdown",
   "metadata": {},
   "source": [
    "You should see positive training dynamics in the graphs (reward going up).\n",
    "If you don't, use them to further update your model or hyperparams.\n",
    "\n",
    "To pass the test, you'll need to get a best total mean reward of at least 10 in the fixed number of epochs using the combined loss.\n",
    "It's possible to get much higher (over 100)."
   ]
  },
  {
   "cell_type": "code",
   "execution_count": null,
   "metadata": {
    "execution": {
     "iopub.execute_input": "2021-01-26T09:18:03.113686Z",
     "iopub.status.busy": "2021-01-26T09:18:03.113197Z",
     "iopub.status.idle": "2021-01-26T09:18:03.137262Z",
     "shell.execute_reply": "2021-01-26T09:18:03.137802Z"
    }
   },
   "outputs": [],
   "source": [
    "best_cpg_mean_reward = max(results['cpg']['mean_reward'])\n",
    "print(f'Best CPG mean reward: {best_cpg_mean_reward:.2f}')\n",
    "\n",
    "test.assertGreater(best_cpg_mean_reward, 10)"
   ]
  },
  {
   "cell_type": "markdown",
   "metadata": {},
   "source": [
    "Now let's take a look at a gameplay video of our `cpg` model after the short training!"
   ]
  },
  {
   "cell_type": "code",
   "execution_count": null,
   "metadata": {
    "execution": {
     "iopub.execute_input": "2021-01-26T09:18:03.141412Z",
     "iopub.status.busy": "2021-01-26T09:18:03.140807Z",
     "iopub.status.idle": "2021-01-26T09:18:08.250584Z",
     "shell.execute_reply": "2021-01-26T09:18:08.251102Z"
    }
   },
   "outputs": [],
   "source": [
    "hp = hw4.answers.part1_pg_hyperparams()\n",
    "p_net_cpg = hw4pg.PolicyNet.build_for_env(env, **hp)\n",
    "p_net_cpg.load_state_dict(results['cpg']['model_state'])\n",
    "\n",
    "env, n_steps, reward = hw4pg.PolicyAgent.monitor_episode(ENV_NAME, p_net_cpg)\n",
    "print(f'{n_steps} steps, total reward: {reward:.2f}')\n",
    "show_monitor_video(env)"
   ]
  },
  {
   "cell_type": "markdown",
   "metadata": {},
   "source": [
    "## Advantage Actor-Critic (AAC)\n",
    "<a id=part1_2></a>"
   ]
  },
  {
   "cell_type": "markdown",
   "metadata": {},
   "source": [
    "We have seen that the policy-gradient loss can be interpreted as a log-likelihood of the policy term\n",
    "(selecting a specific action at a specific state), weighted by the future rewards of that choice of action.\n",
    "\n",
    "However, naïvely weighting by rewards has significant drawbacks in terms of the variance of the resulting gradient.\n",
    "We addressed this by adding a simple baseline term which represented our \"expected reward\" so that we increase probability of actions\n",
    "leading to trajectories which exceed this expectation and vice-versa.\n",
    "\n",
    "In this part we'll explore a more powerful baseline, which is the idea behind the AAC method."
   ]
  },
  {
   "cell_type": "markdown",
   "metadata": {},
   "source": [
    "### The advantage function"
   ]
  },
  {
   "cell_type": "markdown",
   "metadata": {},
   "source": [
    "Recall the definition of the state-value function $v_{\\pi}(s)$ and action-value function $q_{\\pi}(s,a)$:\n",
    "\n",
    "$$\n",
    "\\begin{align}\n",
    "v_{\\pi}(s) &= \\E{g(\\tau)|s_0 = s,\\pi} \\\\\n",
    "q_{\\pi}(s,a) &= \\E{g(\\tau)|s_0 = s,a_0=a,\\pi}.\n",
    "\\end{align}\n",
    "$$\n",
    "\n",
    "Both these functions represent the value of the state $s$. However, $v_\\pi$ averages over the first action according to the policy,\n",
    "while $q_\\pi$ fixes the first action and then continues according to the policy."
   ]
  },
  {
   "cell_type": "markdown",
   "metadata": {},
   "source": [
    "Their difference is known as the **advantage function**:\n",
    "$$\n",
    "a_\\pi(s,a) = q_\\pi(s,a)-v_\\pi(s).\n",
    "$$\n",
    "\n",
    "If $a_\\pi(s,a)>0$ it means that it's better (in expectation) to take action $a$ in state $s$ compared to the average action.\n",
    "In other words, $a_\\pi(s,a)$ represents the *advantage* of using action $a$ in state $s$ compared to the others."
   ]
  },
  {
   "cell_type": "markdown",
   "metadata": {},
   "source": [
    "So far we have used an estimate for $q_\\pi$ as our weighting term for the log-policy, with a fixed baseline per batch.\n",
    "\n",
    "$$\n",
    "\\hat\\grad\\mathcal{L}_{\\text{BPG}}(\\vec{\\theta})\n",
    "=-\\frac{1}{N}\\sum_{i=1}^{N}\\sum_{t\\geq0} \\left(\\hat{q}_{i,t}-b\\right) \\grad\\log \\pi_{\\vec{\\theta}}(a_{i,t}|s_{i,t}).\n",
    "$$\n"
   ]
  },
  {
   "cell_type": "markdown",
   "metadata": {},
   "source": [
    "Now, we will use the state value as a baseline, so that an estimate of the advantage function is our weighting term:\n",
    "\n",
    "$$\n",
    "\\hat\\grad\\mathcal{L}_{\\text{AAC}}(\\vec{\\theta})\n",
    "=-\\frac{1}{N}\\sum_{i=1}^{N}\\sum_{t\\geq0} \\left(\\hat{q}_{i,t}-v_\\pi(s_t)\\right) \\grad\\log \\pi_{\\vec{\\theta}}(a_{i,t}|s_{i,t}).\n",
    "$$\n",
    "\n",
    "Intuitively, using the advantage function makes sense because it means we're weighting our policy's actions according to\n",
    "how advantageous they are compared to other possible actions."
   ]
  },
  {
   "cell_type": "markdown",
   "metadata": {},
   "source": [
    "But how will we know $v_\\pi(s)$? We'll learn it of course, using another neural network.\n",
    "This is known as actor-critic learning. We simultaneously learn the policy (actor) and the value of states (critic).\n",
    "We'll treat it as a regression task: given a state $s_t$, our state-value network will output $\\hat{v}_\\pi(s_t)$,\n",
    "an estimate of the actual unknown state-value.\n",
    "Our regression targets will be the discounted rewards, $\\hat{q}_{i,t}$ (see question 2),\n",
    "and we can use a simple MSE as the loss function,\n",
    "$$\n",
    "\\mathcal{L}_{\\text{SV}} = \\frac{1}{N}\\sum_{i=1}^{N}\\sum_{t\\geq0}\\left(\\hat{v}_\\pi(s_t) - \\hat{q}_{i,t}\\right)^2.\n",
    "$$\n"
   ]
  },
  {
   "cell_type": "markdown",
   "metadata": {},
   "source": [
    "### Implementation"
   ]
  },
  {
   "cell_type": "markdown",
   "metadata": {},
   "source": [
    "We'll build heavily on our implementation of the regular policy-gradient method, and just add a new model class and a new loss class, with a small modification to the agent."
   ]
  },
  {
   "cell_type": "markdown",
   "metadata": {},
   "source": [
    "Let's start with the model. It will accept a state, and return action scores (as before), but also the value of that state.\n",
    "You can experiment with a dual-head network that has a shared base, or implement two separate parts within the network.\n",
    "\n",
    "**TODO**:\n",
    "1. Implement the model as the `AACPolicyNet` class in the `hw4/rl_ac.py` module.\n",
    "1. Set the hyperparameters in the `part1_aac_hyperparams()` function of the `hw4.answers` module."
   ]
  },
  {
   "cell_type": "code",
   "execution_count": null,
   "metadata": {
    "execution": {
     "iopub.execute_input": "2021-01-26T09:18:08.255291Z",
     "iopub.status.busy": "2021-01-26T09:18:08.254804Z",
     "iopub.status.idle": "2021-01-26T09:18:08.283042Z",
     "shell.execute_reply": "2021-01-26T09:18:08.282479Z"
    }
   },
   "outputs": [],
   "source": [
    "import hw4.rl_ac as hw4ac\n",
    "\n",
    "hp = hw4.answers.part1_aac_hyperparams()\n",
    "pv_net = hw4ac.AACPolicyNet.build_for_env(env, device, **hp)\n",
    "pv_net"
   ]
  },
  {
   "cell_type": "markdown",
   "metadata": {},
   "source": [
    "**TODO**: Complete the implementation of the agent class, `AACPolicyAgent`, in the `hw4/rl_ac.py` module."
   ]
  },
  {
   "cell_type": "code",
   "execution_count": null,
   "metadata": {
    "execution": {
     "iopub.execute_input": "2021-01-26T09:18:08.286379Z",
     "iopub.status.busy": "2021-01-26T09:18:08.285898Z",
     "iopub.status.idle": "2021-01-26T09:18:08.308713Z",
     "shell.execute_reply": "2021-01-26T09:18:08.309268Z"
    }
   },
   "outputs": [],
   "source": [
    "agent = hw4ac.AACPolicyAgent(env, pv_net, device)\n",
    "exp = agent.step()\n",
    "\n",
    "test.assertIsInstance(exp, hw4pg.Experience)\n",
    "print(exp)"
   ]
  },
  {
   "cell_type": "markdown",
   "metadata": {},
   "source": [
    "**TODO**: Implement the AAC loss function as the class `AACPolicyGradientLoss` in the `hw4/rl_ac.py` module."
   ]
  },
  {
   "cell_type": "code",
   "execution_count": null,
   "metadata": {
    "execution": {
     "iopub.execute_input": "2021-01-26T09:18:08.312928Z",
     "iopub.status.busy": "2021-01-26T09:18:08.312402Z",
     "iopub.status.idle": "2021-01-26T09:18:08.334794Z",
     "shell.execute_reply": "2021-01-26T09:18:08.335304Z"
    }
   },
   "outputs": [],
   "source": [
    "loss_fn_aac = hw4ac.AACPolicyGradientLoss(delta=1.)\n",
    "test_state_values = torch.ones(test_action_scores.shape[0], 1)\n",
    "loss_t, loss_dict = loss_fn_aac(test_batch, (test_action_scores, test_state_values))\n",
    "\n",
    "print(f'{loss_dict=}')\n",
    "test.assertAlmostEqual(loss_dict['adv_m'], -23.191, delta=1e-2)\n",
    "test.assertAlmostEqual(loss_t.item(), 1183.948, delta=1e-2)"
   ]
  },
  {
   "cell_type": "markdown",
   "metadata": {},
   "source": [
    "### Experimentation"
   ]
  },
  {
   "cell_type": "markdown",
   "metadata": {},
   "source": [
    "Let's run the same experiment as before, but with the AAC method and compare the results."
   ]
  },
  {
   "cell_type": "code",
   "execution_count": null,
   "metadata": {
    "execution": {
     "iopub.execute_input": "2021-01-26T09:18:08.338840Z",
     "iopub.status.busy": "2021-01-26T09:18:08.338306Z",
     "iopub.status.idle": "2021-01-26T09:18:08.359046Z",
     "shell.execute_reply": "2021-01-26T09:18:08.359560Z"
    }
   },
   "outputs": [],
   "source": [
    "def train_aac(baseline=False, entropy=False, **train_kwargs):\n",
    "    hp = hw4.answers.part1_aac_hyperparams()\n",
    "    loss_fns = [hw4ac.AACPolicyGradientLoss(hp['delta']), hw4pg.ActionEntropyLoss(ENV_N_ACTIONS, hp['beta'])]\n",
    "    return train_rl(hw4ac.AACPolicyAgent, hw4ac.AACPolicyNet, loss_fns, hp, **train_kwargs)"
   ]
  },
  {
   "cell_type": "code",
   "execution_count": null,
   "metadata": {
    "execution": {
     "iopub.execute_input": "2021-01-26T09:18:08.363152Z",
     "iopub.status.busy": "2021-01-26T09:18:08.362656Z",
     "iopub.status.idle": "2021-01-26T09:18:08.391276Z",
     "shell.execute_reply": "2021-01-26T09:18:08.391794Z"
    }
   },
   "outputs": [],
   "source": [
    "training_data_filename = os.path.join('results', f'part1_exp_aac.dat')\n",
    "\n",
    "# Set to True to force re-run (careful, will delete old experiment results)\n",
    "force_run = False\n",
    "\n",
    "if os.path.isfile(training_data_filename) and not force_run:\n",
    "    print(f'=== results file {training_data_filename} exists, skipping experiments.')\n",
    "    results_aac = load_training_data(training_data_filename)\n",
    "    \n",
    "else:\n",
    "    print(f'=== Running AAC experiment')\n",
    "    training_data = train_aac(max_episodes=exp_max_episodes)\n",
    "    results_aac = dict(aac=training_data)\n",
    "    dump_training_data(results_aac, training_data_filename)"
   ]
  },
  {
   "cell_type": "code",
   "execution_count": null,
   "metadata": {
    "execution": {
     "iopub.execute_input": "2021-01-26T09:18:08.394569Z",
     "iopub.status.busy": "2021-01-26T09:18:08.394076Z",
     "iopub.status.idle": "2021-01-26T09:18:09.418890Z",
     "shell.execute_reply": "2021-01-26T09:18:09.419393Z"
    }
   },
   "outputs": [],
   "source": [
    "experiments_results_fig = plot_experiment_results(results)\n",
    "plot_experiment_results(results_aac, fig=experiments_results_fig);"
   ]
  },
  {
   "cell_type": "markdown",
   "metadata": {},
   "source": [
    "You should get better results with the AAC method, so this time the bar is higher (again, you should aim for a mean reward of 100+).\n",
    "Compare the graphs with combined PG method and see if they make sense."
   ]
  },
  {
   "cell_type": "code",
   "execution_count": null,
   "metadata": {
    "execution": {
     "iopub.execute_input": "2021-01-26T09:18:09.422570Z",
     "iopub.status.busy": "2021-01-26T09:18:09.422108Z",
     "iopub.status.idle": "2021-01-26T09:18:09.447846Z",
     "shell.execute_reply": "2021-01-26T09:18:09.447311Z"
    }
   },
   "outputs": [],
   "source": [
    "best_aac_mean_reward = max(results_aac['aac']['mean_reward'])\n",
    "print(f'Best AAC mean reward: {best_aac_mean_reward:.2f}')\n",
    "\n",
    "test.assertGreater(best_aac_mean_reward, 50)"
   ]
  },
  {
   "cell_type": "markdown",
   "metadata": {},
   "source": [
    "### Final model training and visualization"
   ]
  },
  {
   "cell_type": "markdown",
   "metadata": {},
   "source": [
    "Now, using your best model and hyperparams, let's train model for much longer and see the performance.\n",
    "Just for fun, we'll also visualize an episode every now and then so that we can see how well the agent is playing."
   ]
  },
  {
   "cell_type": "markdown",
   "metadata": {},
   "source": [
    "**TODO**:\n",
    "- Run the following block to train.\n",
    "- Tweak model or hyperparams as necessary.\n",
    "- Aim for high mean reward, at least 150+. It's possible to get over 200.\n",
    "- When training is done and you're satisfied with the model's outputs, rename the checkpoint file by adding `_final` to the file name.\n",
    "  This will cause the block to skip training and instead load your saved model when running the homework submission script.\n",
    "  Note that your submission zip file will not include the checkpoint file. This is OK."
   ]
  },
  {
   "cell_type": "code",
   "execution_count": null,
   "metadata": {
    "execution": {
     "iopub.execute_input": "2021-01-26T09:18:09.455548Z",
     "iopub.status.busy": "2021-01-26T09:18:09.455018Z",
     "iopub.status.idle": "2021-01-26T09:18:13.342220Z",
     "shell.execute_reply": "2021-01-26T09:18:13.342741Z"
    }
   },
   "outputs": [],
   "source": [
    "import IPython.display\n",
    "\n",
    "CHECKPOINTS_FILE = f'checkpoints/{ENV_NAME}-ac.dat'\n",
    "CHECKPOINTS_FILE_FINAL = f'checkpoints/{ENV_NAME}-ac_final.dat'\n",
    "TARGET_REWARD = 125\n",
    "MAX_EPISODES = 15_000\n",
    "\n",
    "def post_batch_fn(batch_idx, p_net, batch, print_every=20, final=False):\n",
    "    if not final and batch_idx % print_every != 0:\n",
    "        return\n",
    "    env, n_steps, reward = hw4ac.AACPolicyAgent.monitor_episode(ENV_NAME, p_net)\n",
    "    html = show_monitor_video(env, width=\"500\")\n",
    "    IPython.display.clear_output(wait=True)\n",
    "    print(f'Monitor@#{batch_idx}: n_steps={n_steps}, total_reward={reward:.3f}, final={final}')\n",
    "    IPython.display.display_html(html)\n",
    "    \n",
    "    \n",
    "if os.path.isfile(CHECKPOINTS_FILE_FINAL):\n",
    "    print(f'=== {CHECKPOINTS_FILE_FINAL} exists, skipping training...')\n",
    "    checkpoint_data = torch.load(CHECKPOINTS_FILE_FINAL)\n",
    "    hp = hw4.answers.part1_aac_hyperparams()\n",
    "    pv_net = hw4ac.AACPolicyNet.build_for_env(env, **hp)\n",
    "    pv_net.load_state_dict(checkpoint_data['params'])\n",
    "    print(f'=== Running best model...')\n",
    "    env, n_steps, reward = hw4ac.AACPolicyAgent.monitor_episode(ENV_NAME, pv_net)\n",
    "    print(f'=== Best model ran for {n_steps} steps. Total reward: {reward:.2f}')\n",
    "    IPython.display.display_html(show_monitor_video(env))\n",
    "    best_mean_reward = checkpoint_data[\"best_mean_reward\"]\n",
    "else:\n",
    "    print(f'=== Starting training...')\n",
    "    train_data = train_aac(TARGET_REWARD, max_episodes=MAX_EPISODES,\n",
    "                           seed=None, checkpoints_file=CHECKPOINTS_FILE, post_batch_fn=post_batch_fn)\n",
    "    print(f'=== Done, ', end='')\n",
    "    best_mean_reward = train_data[\"best_mean_reward\"][-1]\n",
    "    print(f'num_episodes={train_data[\"episode_num\"][-1]}, best_mean_reward={best_mean_reward:.1f}')\n",
    "          \n",
    "test.assertGreaterEqual(best_mean_reward, TARGET_REWARD)"
   ]
  },
  {
   "cell_type": "markdown",
   "metadata": {},
   "source": [
    "## Questions\n",
    "<a id=part1_3></a>"
   ]
  },
  {
   "cell_type": "markdown",
   "metadata": {},
   "source": [
    "**TODO**: Answer the following questions. Write your answers in the appropriate variables in the module `hw4/answers.py`."
   ]
  },
  {
   "cell_type": "code",
   "execution_count": null,
   "metadata": {
    "execution": {
     "iopub.execute_input": "2021-01-26T09:18:13.346023Z",
     "iopub.status.busy": "2021-01-26T09:18:13.345546Z",
     "iopub.status.idle": "2021-01-26T09:18:13.371344Z",
     "shell.execute_reply": "2021-01-26T09:18:13.371698Z"
    }
   },
   "outputs": [],
   "source": [
    "from cs236781.answers import display_answer\n",
    "import hw4.answers"
   ]
  },
  {
   "cell_type": "markdown",
   "metadata": {},
   "source": [
    "### Question 1\n",
    "\n",
    "Explain qualitatively why subtracting a baseline in the policy-gradient helps reduce it's variance.\n",
    "Specifically, give an example where it helps."
   ]
  },
  {
   "cell_type": "code",
   "execution_count": null,
   "metadata": {
    "execution": {
     "iopub.execute_input": "2021-01-26T09:18:13.374868Z",
     "iopub.status.busy": "2021-01-26T09:18:13.374386Z",
     "iopub.status.idle": "2021-01-26T09:18:13.396776Z",
     "shell.execute_reply": "2021-01-26T09:18:13.397289Z"
    }
   },
   "outputs": [],
   "source": [
    "display_answer(hw4.answers.part1_q1)"
   ]
  },
  {
   "cell_type": "markdown",
   "metadata": {},
   "source": [
    "### Question 2\n",
    "\n",
    "In AAC, when using the estimated q-values as regression targets for our state-values, why do we get a valid approximation?\n",
    "Hint: how is $v_\\pi(s)$ expressed in terms of $q_\\pi(s,a)$?"
   ]
  },
  {
   "cell_type": "code",
   "execution_count": null,
   "metadata": {
    "execution": {
     "iopub.execute_input": "2021-01-26T09:18:13.400191Z",
     "iopub.status.busy": "2021-01-26T09:18:13.399648Z",
     "iopub.status.idle": "2021-01-26T09:18:13.421561Z",
     "shell.execute_reply": "2021-01-26T09:18:13.422116Z"
    }
   },
   "outputs": [],
   "source": [
    "display_answer(hw4.answers.part1_q2)"
   ]
  },
  {
   "cell_type": "markdown",
   "metadata": {},
   "source": [
    "### Question 3\n",
    "\n",
    "1. Analyze and explain the graphs you got in first experiment run.\n",
    "2. Compare the experiment graphs you got with the AAC method to the regular PG method (`cpg`)."
   ]
  },
  {
   "cell_type": "code",
   "execution_count": null,
   "metadata": {
    "execution": {
     "iopub.execute_input": "2021-01-26T09:18:13.425046Z",
     "iopub.status.busy": "2021-01-26T09:18:13.424576Z",
     "iopub.status.idle": "2021-01-26T09:18:13.446311Z",
     "shell.execute_reply": "2021-01-26T09:18:13.446861Z"
    }
   },
   "outputs": [],
   "source": [
    "display_answer(hw4.answers.part1_q3)"
   ]
  }
 ],
 "metadata": {
  "kernelspec": {
   "display_name": "Python 3",
   "language": "python",
   "name": "python3"
  },
  "language_info": {
   "codemirror_mode": {
    "name": "ipython",
    "version": 3
   },
   "file_extension": ".py",
   "mimetype": "text/x-python",
   "name": "python",
   "nbconvert_exporter": "python",
   "pygments_lexer": "ipython3",
   "version": "3.8.6"
  }
 },
 "nbformat": 4,
 "nbformat_minor": 4
}
